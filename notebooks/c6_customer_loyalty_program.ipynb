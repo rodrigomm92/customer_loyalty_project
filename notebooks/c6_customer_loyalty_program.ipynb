{
 "cells": [
  {
   "cell_type": "markdown",
   "id": "851ff978",
   "metadata": {},
   "source": [
    "In this cycle we:\n",
    "\n"
   ]
  },
  {
   "cell_type": "markdown",
   "id": "adc4a43b",
   "metadata": {},
   "source": [
    "# 1 IMPORTS"
   ]
  },
  {
   "cell_type": "code",
   "execution_count": 1,
   "id": "f32501a9",
   "metadata": {
    "ExecuteTime": {
     "end_time": "2022-06-03T12:08:02.688964Z",
     "start_time": "2022-06-03T12:07:56.413505Z"
    }
   },
   "outputs": [],
   "source": [
    "import re\n",
    "import inflection\n",
    "import numpy                                          as np\n",
    "import pandas                                         as pd\n",
    "import sweetviz                                       as sv\n",
    "import seaborn                                        as sns\n",
    "import umap.umap_                                     as umap\n",
    "import matplotlib.cm                                  as cm\n",
    "import matplotlib.pyplot                              as plt\n",
    "            \n",
    "from plotly              import express               as px\n",
    "from sklearn             import cluster               as c\n",
    "from sklearn             import metrics               as m\n",
    "from sklearn             import mixture               as mx\n",
    "from IPython.display     import Image      \n",
    "from sklearn             import ensemble              as en\n",
    "from sklearn             import manifold              as mn\n",
    "from sklearn             import decomposition         as dd\n",
    "from sklearn             import preprocessing         as pp\n",
    "from scipy.cluster       import hierarchy             as hc\n",
    "from pandas_profiling    import ProfileReport\n",
    "from sklearn.neighbors   import NearestNeighbors\n",
    "from yellowbrick.cluster import KElbowVisualizer \n",
    "from yellowbrick.cluster import SilhouetteVisualizer\n",
    "\n",
    "import warnings\n",
    "warnings.filterwarnings('ignore')"
   ]
  },
  {
   "cell_type": "markdown",
   "id": "b120e507",
   "metadata": {},
   "source": [
    "## 1.1 Definitions "
   ]
  },
  {
   "cell_type": "code",
   "execution_count": 2,
   "id": "67667930",
   "metadata": {
    "ExecuteTime": {
     "end_time": "2022-06-03T12:08:02.704990Z",
     "start_time": "2022-06-03T12:08:02.689965Z"
    }
   },
   "outputs": [],
   "source": [
    "# Set Seaborn configurations\n",
    "sns.set_palette('tab10')\n",
    "sns.set_style('darkgrid')\n",
    "\n",
    "# Standard font for plots\n",
    "def std_font(ax1, title, xlabel, ylabel):\n",
    "    ax1.set_title(title, loc='left', fontdict={'fontsize': 18}, pad=20)\n",
    "    ax1.set_xlabel(xlabel, fontdict={'fontsize': 12, 'style': 'italic'})\n",
    "    ax1.set_ylabel(ylabel, fontdict={'fontsize': 12, 'style': 'italic'})\n",
    "    return None"
   ]
  },
  {
   "cell_type": "markdown",
   "id": "0de6daf1",
   "metadata": {},
   "source": [
    "## 1.2 Loading Data"
   ]
  },
  {
   "cell_type": "code",
   "execution_count": 3,
   "id": "5d6298a1",
   "metadata": {
    "ExecuteTime": {
     "end_time": "2022-06-03T12:08:03.232114Z",
     "start_time": "2022-06-03T12:08:02.706991Z"
    }
   },
   "outputs": [],
   "source": [
    "df_raw = pd.read_csv('../data/ecommerce.csv', parse_dates=['InvoiceDate'])\n",
    "# Renaming columns\n",
    "cols_snake = list( map( lambda x: inflection.underscore( x ), df_raw.columns ) )\n",
    "df_raw.columns = cols_snake"
   ]
  },
  {
   "cell_type": "markdown",
   "id": "a712cf41",
   "metadata": {},
   "source": [
    "### 2.3.1 Treating Missing Values"
   ]
  },
  {
   "cell_type": "code",
   "execution_count": 4,
   "id": "bf9e5153",
   "metadata": {
    "ExecuteTime": {
     "end_time": "2022-06-03T12:08:03.454095Z",
     "start_time": "2022-06-03T12:08:03.233115Z"
    }
   },
   "outputs": [],
   "source": [
    "# adding 'No description' to missing discription\n",
    "df_raw['description'].fillna(value='NO DESCRIPTION', inplace=True)\n",
    "\n",
    "# deleting NAs customer_id (this removed about 25% of our database)\n",
    "# df_raw.dropna(subset=['customer_id'], inplace=True)\n",
    "\n",
    "# creating customers_id\n",
    "df_missing = df_raw.loc[df_raw['customer_id'].isna(), :]\n",
    "df_not_missing = df_raw.loc[~df_raw['customer_id'].isna(), :]\n",
    "\n",
    "df_backup = pd.DataFrame( df_missing['invoice_no'].drop_duplicates() )\n",
    "df_backup['customer_id'] = np.arange( 19000, 19000+len( df_backup ), 1)\n",
    "\n",
    "# merge original with reference dataframe\n",
    "df_raw = pd.merge( df_raw, df_backup, on='invoice_no', how='left' )\n",
    "\n",
    "# coalesce \n",
    "df_raw['customer_id'] = df_raw['customer_id_x'].combine_first( df_raw['customer_id_y'] )\n",
    "\n",
    "# drop extra columns\n",
    "df_raw = df_raw.drop( columns=['customer_id_x', 'customer_id_y'], axis=1 )\n",
    "\n"
   ]
  },
  {
   "cell_type": "markdown",
   "id": "358cebbb",
   "metadata": {},
   "source": [
    "## 2.4 Changing types"
   ]
  },
  {
   "cell_type": "code",
   "execution_count": 5,
   "id": "6a50142e",
   "metadata": {
    "ExecuteTime": {
     "end_time": "2022-06-03T12:08:03.470107Z",
     "start_time": "2022-06-03T12:08:03.455104Z"
    }
   },
   "outputs": [],
   "source": [
    "df_raw['customer_id'] = df_raw['customer_id'].astype( int )"
   ]
  },
  {
   "cell_type": "markdown",
   "id": "8b013165",
   "metadata": {},
   "source": [
    "## 2.5 Discriptive Statistics"
   ]
  },
  {
   "cell_type": "code",
   "execution_count": 6,
   "id": "2119ae8f",
   "metadata": {
    "ExecuteTime": {
     "end_time": "2022-06-03T12:08:03.485315Z",
     "start_time": "2022-06-03T12:08:03.471107Z"
    }
   },
   "outputs": [],
   "source": [
    "df_clean = df_raw.copy()"
   ]
  },
  {
   "cell_type": "markdown",
   "id": "33e0ce91",
   "metadata": {},
   "source": [
    "# 3 DATAFRAME FILTERING"
   ]
  },
  {
   "cell_type": "markdown",
   "id": "2f47ec1a",
   "metadata": {},
   "source": [
    "## 3.1 Line Filtering"
   ]
  },
  {
   "cell_type": "code",
   "execution_count": 7,
   "id": "6288ed3a",
   "metadata": {
    "ExecuteTime": {
     "end_time": "2022-06-03T12:08:03.739911Z",
     "start_time": "2022-06-03T12:08:03.486304Z"
    }
   },
   "outputs": [],
   "source": [
    "# filtering zero values in unit_price (WE WILL CONSIDER THESE ITEMS AS PROMO OR ERROR)\n",
    "df_clean.query('unit_price >= 0.04 ', inplace=True)\n",
    "\n",
    "# bad users (apresentam padroes de compra bastante desconexo, poluindo nosso modelo)\n",
    "df_clean = df_clean[~df_clean['customer_id'].isin( [16446] )]\n",
    "\n",
    "# Considering negative quantities as devolutions and positive quantities as real purchases\n",
    "df_clean_returns = df_clean.query('quantity < 0')\n",
    "df_clean = df_clean.query('quantity >=0')\n",
    "\n",
    "# removing stock codes that does not represent puchases\n",
    "df_clean = df_clean[~df_clean['stock_code'].isin( ['POST', 'D', 'DOT', 'M', 'S', 'AMAZONFEE', 'm', 'DCGSSBOY',\n",
    "       'DCGSSGIRL', 'PADS', 'B', 'CRUK'] )]\n",
    "\n",
    "# removing innacurate country information \n",
    "df_clean = df_clean[~df_clean['country'].isin( ['European Community', 'Unspecified' ] ) ]"
   ]
  },
  {
   "cell_type": "markdown",
   "id": "b3c0cb6f",
   "metadata": {},
   "source": [
    "# 5 FEATURE ENGINEERING"
   ]
  },
  {
   "cell_type": "code",
   "execution_count": 8,
   "id": "a481f063",
   "metadata": {
    "ExecuteTime": {
     "end_time": "2022-06-03T12:08:03.787921Z",
     "start_time": "2022-06-03T12:08:03.740904Z"
    }
   },
   "outputs": [],
   "source": [
    "# ====================\n",
    "# CREATING RFM TABLE\n",
    "# ====================\n",
    "\n",
    "# initiating df_rfm table with customers IDs\n",
    "df_rfm = df_clean.drop( ['invoice_no', 'stock_code', 'description', \n",
    "                    'quantity', 'invoice_date', 'unit_price', \n",
    "                    'country'], axis=1 ).drop_duplicates( ignore_index=True )"
   ]
  },
  {
   "cell_type": "code",
   "execution_count": 9,
   "id": "ede1e3cc",
   "metadata": {
    "ExecuteTime": {
     "end_time": "2022-06-03T12:08:03.835968Z",
     "start_time": "2022-06-03T12:08:03.789915Z"
    }
   },
   "outputs": [],
   "source": [
    "# monetary\n",
    "df_clean['gross_revenue'] = df_clean['quantity'] * df_clean['unit_price']\n",
    "df_monetary = df_clean[['customer_id', 'gross_revenue']].groupby( 'customer_id' ).sum().reset_index()\n",
    "df_rfm = pd.merge( df_rfm, df_monetary, on='customer_id', how='left' )\n"
   ]
  },
  {
   "cell_type": "code",
   "execution_count": 10,
   "id": "c5da5b06",
   "metadata": {
    "ExecuteTime": {
     "end_time": "2022-06-03T12:08:03.867153Z",
     "start_time": "2022-06-03T12:08:03.836978Z"
    }
   },
   "outputs": [],
   "source": [
    "# recency - last purchase\n",
    "df_recency = df_clean[['customer_id', 'invoice_date']].groupby( 'customer_id' ).max().reset_index()\n",
    "df_recency['recency_days'] = ( df_clean['invoice_date'].max() - df_recency['invoice_date'] ).dt.days\n",
    "df_recency = df_recency[['customer_id', 'recency_days']].copy()\n",
    "df_rfm = pd.merge( df_rfm, df_recency, on='customer_id', how='left' )"
   ]
  },
  {
   "cell_type": "code",
   "execution_count": 11,
   "id": "c7bced87",
   "metadata": {
    "ExecuteTime": {
     "end_time": "2022-06-03T12:08:03.945211Z",
     "start_time": "2022-06-03T12:08:03.868156Z"
    }
   },
   "outputs": [],
   "source": [
    "# amount of purchases\n",
    "df_freq = df_clean[['customer_id', 'invoice_no']].drop_duplicates().groupby( 'customer_id' ).count().reset_index().rename( columns={'invoice_no': 'amount_invoices'})\n",
    "df_rfm = pd.merge( df_rfm, df_freq, on='customer_id', how='left' )"
   ]
  },
  {
   "cell_type": "code",
   "execution_count": 12,
   "id": "c8c32f02",
   "metadata": {
    "ExecuteTime": {
     "end_time": "2022-06-03T12:08:03.976228Z",
     "start_time": "2022-06-03T12:08:03.946213Z"
    }
   },
   "outputs": [],
   "source": [
    "# amount of purchased items\n",
    "df_prod = df_clean[['customer_id', 'quantity']].groupby( 'customer_id' ).sum().reset_index().rename( columns={'quantity': 'amount_items'})\n",
    "df_rfm = pd.merge( df_rfm, df_prod, on='customer_id', how='left' )\n"
   ]
  },
  {
   "cell_type": "code",
   "execution_count": 13,
   "id": "44413f7f",
   "metadata": {
    "ExecuteTime": {
     "end_time": "2022-06-03T12:08:04.072268Z",
     "start_time": "2022-06-03T12:08:03.977228Z"
    }
   },
   "outputs": [],
   "source": [
    "# amount of purchased products\n",
    "# Numero de produtos\n",
    "df_freq = (df_clean.loc[:, ['customer_id', 'stock_code']].groupby( 'customer_id' ).count()\n",
    "                                                           .reset_index()\n",
    "                                                           .rename( columns={'stock_code': 'amount_products'} ) )\n",
    "df_rfm = pd.merge( df_rfm, df_freq, on='customer_id', how='left' )\n"
   ]
  },
  {
   "cell_type": "code",
   "execution_count": 14,
   "id": "b1100cfc",
   "metadata": {
    "ExecuteTime": {
     "end_time": "2022-06-03T12:08:04.104275Z",
     "start_time": "2022-06-03T12:08:04.073268Z"
    }
   },
   "outputs": [],
   "source": [
    "# average ticket\n",
    "df_avg_ticket = df_clean[['customer_id', 'gross_revenue']].groupby( 'customer_id' ).mean().reset_index().rename( columns={'gross_revenue':'avg_ticket'} )\n",
    "df_rfm = pd.merge( df_rfm, df_avg_ticket, on='customer_id', how='left')"
   ]
  },
  {
   "cell_type": "code",
   "execution_count": 15,
   "id": "8057ebee",
   "metadata": {
    "ExecuteTime": {
     "end_time": "2022-06-03T12:08:04.120725Z",
     "start_time": "2022-06-03T12:08:04.105275Z"
    }
   },
   "outputs": [],
   "source": [
    "# number of returns\n",
    "df_number_returns = df_clean_returns[['customer_id', 'quantity']].groupby('customer_id').sum().reset_index().rename(columns={'quantity':'amount_returns'})\n",
    "df_number_returns['amount_returns'] = df_number_returns['amount_returns'] * -1\n",
    "df_rfm = pd.merge( df_rfm, df_number_returns, on='customer_id', how='left')\n",
    "df_rfm.loc[df_rfm['amount_returns'].isna(), 'amount_returns'] = 0\n",
    "# df_rfm['amount_returns'].fillna(value=0, inplace=True)"
   ]
  },
  {
   "cell_type": "code",
   "execution_count": 16,
   "id": "effc937c",
   "metadata": {
    "ExecuteTime": {
     "end_time": "2022-06-03T12:08:04.136170Z",
     "start_time": "2022-06-03T12:08:04.121736Z"
    }
   },
   "outputs": [],
   "source": [
    "# # Average recency days\n",
    "# df_aux = df_clean[['customer_id', 'invoice_date']].drop_duplicates().sort_values( ['customer_id', 'invoice_date'], ascending=[False, False] )\n",
    "# df_aux['next_customer_id'] = df_aux['customer_id'].shift() # next customer\n",
    "# df_aux['previous_date'] = df_aux['invoice_date'].shift() # next invoince date\n",
    "# df_aux['avg_recency_days'] = df_aux.apply( lambda x: ( x['invoice_date'] - x['previous_date'] ).days if x['customer_id'] == x['next_customer_id'] else np.nan, axis=1 )\n",
    "# df_aux = df_aux.drop( ['invoice_date', 'next_customer_id', 'previous_date'], axis=1 ).dropna()\n",
    "\n",
    "# df_avg_recency_days = df_aux.groupby( 'customer_id' ).mean().reset_index()\n",
    "\n",
    "# df_rfm = pd.merge( df_rfm, df_avg_recency_days, on='customer_id', how='left' )\n"
   ]
  },
  {
   "cell_type": "code",
   "execution_count": 17,
   "id": "57e91b02",
   "metadata": {
    "ExecuteTime": {
     "end_time": "2022-06-03T12:08:05.159392Z",
     "start_time": "2022-06-03T12:08:04.137163Z"
    }
   },
   "outputs": [],
   "source": [
    "# frequency purchase \n",
    "df_aux = ( df_clean[['customer_id', 'invoice_no', 'invoice_date']].drop_duplicates()\n",
    "                                                             .groupby( 'customer_id')\n",
    "                                                             .agg( max_ = ( 'invoice_date', 'max' ), \n",
    "                                                                   min_ = ( 'invoice_date', 'min' ),\n",
    "                                                                   days_= ( 'invoice_date', lambda x: ( ( x.max() - x.min() ).days ) + 1 ),\n",
    "                                                                   buy_ = ( 'invoice_no', 'count' ) ) ).reset_index()\n",
    "\n",
    "df_aux['frequency'] = df_aux[['buy_', 'days_']].apply( lambda x: x['buy_'] / x['days_'] if  x['days_'] != 0 else 0, axis=1 )\n",
    "df_rfm = pd.merge( df_rfm, df_aux[['customer_id', 'frequency']], on='customer_id', how='left' )"
   ]
  },
  {
   "cell_type": "code",
   "execution_count": 18,
   "id": "4d052ab8",
   "metadata": {
    "ExecuteTime": {
     "end_time": "2022-06-03T12:08:05.255414Z",
     "start_time": "2022-06-03T12:08:05.161393Z"
    }
   },
   "outputs": [],
   "source": [
    "# basket size (Units by basket)\n",
    "df_aux = ( df_clean.loc[:, ['customer_id', 'invoice_no', 'quantity']].groupby( 'customer_id' )\n",
    "                                                                            .agg( n_purchase=( 'invoice_no', 'nunique'),\n",
    "                                                                                  n_products=( 'quantity', 'sum' ) )\n",
    "                                                                            .reset_index() )\n",
    "\n",
    "# calculation\n",
    "df_aux['avg_basket_size'] = df_aux['n_products'] / df_aux['n_purchase']\n",
    "\n",
    "# merge\n",
    "df_rfm = pd.merge( df_rfm, df_aux[['customer_id', 'avg_basket_size']], how='left', on='customer_id' )"
   ]
  },
  {
   "cell_type": "code",
   "execution_count": 19,
   "id": "6490de57",
   "metadata": {
    "ExecuteTime": {
     "end_time": "2022-06-03T12:08:05.431452Z",
     "start_time": "2022-06-03T12:08:05.256414Z"
    }
   },
   "outputs": [],
   "source": [
    "df_aux = ( df_clean.loc[:, ['customer_id', 'invoice_no', 'stock_code']].groupby( 'customer_id' )\n",
    "                                                                            .agg( n_purchase=( 'invoice_no', 'nunique'),\n",
    "                                                                                   n_products=( 'stock_code', 'nunique' ) )\n",
    "                                                                            .reset_index() )\n",
    "\n",
    "# calculation\n",
    "df_aux['avg_unique_basket_size'] = df_aux['n_products'] / df_aux['n_purchase']\n",
    "\n",
    "# merge\n",
    "df_rfm = pd.merge( df_rfm, df_aux[['customer_id', 'avg_unique_basket_size']], how='left', on='customer_id' )"
   ]
  },
  {
   "cell_type": "markdown",
   "id": "bdbe9b4d",
   "metadata": {},
   "source": [
    "# 6 STATISTICAL ANALYSIS"
   ]
  },
  {
   "cell_type": "code",
   "execution_count": 20,
   "id": "cb04c7af",
   "metadata": {
    "ExecuteTime": {
     "end_time": "2022-06-03T12:08:05.447459Z",
     "start_time": "2022-06-03T12:08:05.432454Z"
    }
   },
   "outputs": [],
   "source": [
    "df_rfm.dropna(inplace=True)"
   ]
  },
  {
   "cell_type": "markdown",
   "id": "c3a14179",
   "metadata": {},
   "source": [
    "# 7 FEATURE SELECTION"
   ]
  },
  {
   "cell_type": "code",
   "execution_count": 21,
   "id": "aceea09b",
   "metadata": {
    "ExecuteTime": {
     "end_time": "2022-06-03T12:08:05.463200Z",
     "start_time": "2022-06-03T12:08:05.448461Z"
    }
   },
   "outputs": [],
   "source": [
    "df_rfm_raw = df_rfm.copy()\n",
    "selected_cols = ['customer_id', 'gross_revenue', 'recency_days', 'amount_products', 'frequency', 'amount_returns']\n",
    "df_rfm = df_rfm[selected_cols].copy()"
   ]
  },
  {
   "cell_type": "markdown",
   "id": "00f01887",
   "metadata": {},
   "source": [
    "# 8 DATA PREPARATION"
   ]
  },
  {
   "cell_type": "markdown",
   "id": "cecfe9f2",
   "metadata": {},
   "source": [
    "## 8.1 Normalization"
   ]
  },
  {
   "cell_type": "code",
   "execution_count": 22,
   "id": "ff5520e0",
   "metadata": {
    "ExecuteTime": {
     "end_time": "2022-06-03T12:08:05.494821Z",
     "start_time": "2022-06-03T12:08:05.464474Z"
    }
   },
   "outputs": [],
   "source": [
    "## Standard Scalaer\n",
    "mm = pp.MinMaxScaler()\n",
    "\n",
    "\n",
    "df_rfm['gross_revenue'] = mm.fit_transform( df_rfm[['gross_revenue']] )\n",
    "df_rfm['recency_days']           = mm.fit_transform( df_rfm[['recency_days']] )\n",
    "df_rfm['amount_products']          = mm.fit_transform( df_rfm[['amount_products']])\n",
    "df_rfm['frequency']              = mm.fit_transform( df_rfm[['frequency']])\n",
    "df_rfm['amount_returns']           = mm.fit_transform( df_rfm[['amount_returns']])"
   ]
  },
  {
   "cell_type": "code",
   "execution_count": 241,
   "id": "d98c42ef",
   "metadata": {
    "ExecuteTime": {
     "end_time": "2022-06-03T15:08:51.006060Z",
     "start_time": "2022-06-03T15:08:50.983054Z"
    }
   },
   "outputs": [
    {
     "data": {
      "text/html": [
       "<div>\n",
       "<style scoped>\n",
       "    .dataframe tbody tr th:only-of-type {\n",
       "        vertical-align: middle;\n",
       "    }\n",
       "\n",
       "    .dataframe tbody tr th {\n",
       "        vertical-align: top;\n",
       "    }\n",
       "\n",
       "    .dataframe thead th {\n",
       "        text-align: right;\n",
       "    }\n",
       "</style>\n",
       "<table border=\"1\" class=\"dataframe\">\n",
       "  <thead>\n",
       "    <tr style=\"text-align: right;\">\n",
       "      <th></th>\n",
       "      <th>gross_revenue</th>\n",
       "      <th>recency_days</th>\n",
       "      <th>amount_products</th>\n",
       "      <th>frequency</th>\n",
       "      <th>amount_returns</th>\n",
       "    </tr>\n",
       "  </thead>\n",
       "  <tbody>\n",
       "    <tr>\n",
       "      <th>0</th>\n",
       "      <td>0.019312</td>\n",
       "      <td>0.997319</td>\n",
       "      <td>0.037770</td>\n",
       "      <td>1.000000</td>\n",
       "      <td>0.000539</td>\n",
       "    </tr>\n",
       "    <tr>\n",
       "      <th>1</th>\n",
       "      <td>0.011579</td>\n",
       "      <td>0.150134</td>\n",
       "      <td>0.021692</td>\n",
       "      <td>0.001345</td>\n",
       "      <td>0.000485</td>\n",
       "    </tr>\n",
       "    <tr>\n",
       "      <th>2</th>\n",
       "      <td>0.024020</td>\n",
       "      <td>0.005362</td>\n",
       "      <td>0.029476</td>\n",
       "      <td>0.002052</td>\n",
       "      <td>0.000687</td>\n",
       "    </tr>\n",
       "    <tr>\n",
       "      <th>3</th>\n",
       "      <td>0.003396</td>\n",
       "      <td>0.254692</td>\n",
       "      <td>0.003445</td>\n",
       "      <td>0.000734</td>\n",
       "      <td>0.000000</td>\n",
       "    </tr>\n",
       "    <tr>\n",
       "      <th>4</th>\n",
       "      <td>0.003137</td>\n",
       "      <td>0.892761</td>\n",
       "      <td>0.000255</td>\n",
       "      <td>0.003985</td>\n",
       "      <td>0.000296</td>\n",
       "    </tr>\n",
       "  </tbody>\n",
       "</table>\n",
       "</div>"
      ],
      "text/plain": [
       "   gross_revenue  recency_days  amount_products  frequency  amount_returns\n",
       "0       0.019312      0.997319         0.037770   1.000000        0.000539\n",
       "1       0.011579      0.150134         0.021692   0.001345        0.000485\n",
       "2       0.024020      0.005362         0.029476   0.002052        0.000687\n",
       "3       0.003396      0.254692         0.003445   0.000734        0.000000\n",
       "4       0.003137      0.892761         0.000255   0.003985        0.000296"
      ]
     },
     "execution_count": 241,
     "metadata": {},
     "output_type": "execute_result"
    }
   ],
   "source": [
    "X = df_rfm.drop(columns=['customer_id']).copy()\n",
    "X.head()"
   ]
  },
  {
   "cell_type": "markdown",
   "id": "4a3cd90a",
   "metadata": {},
   "source": [
    "## 8.2 Space Study"
   ]
  },
  {
   "cell_type": "markdown",
   "id": "7988a646",
   "metadata": {},
   "source": [
    "### 8.2.1 PCA"
   ]
  },
  {
   "cell_type": "code",
   "execution_count": 148,
   "id": "75f4e68f",
   "metadata": {
    "ExecuteTime": {
     "end_time": "2022-06-03T13:00:59.515864Z",
     "start_time": "2022-06-03T13:00:59.387837Z"
    }
   },
   "outputs": [
    {
     "data": {
      "image/png": "[encoded data removed]",
      "text/plain": [
       "<Figure size 576x396 with 1 Axes>"
      ]
     },
     "metadata": {},
     "output_type": "display_data"
    }
   ],
   "source": [
    "pca = dd.PCA( n_components=X.shape[1] )\n",
    "\n",
    "principal_components = pca.fit_transform( X )\n",
    "\n",
    "# plot explained variable\n",
    "features = range( pca.n_components_ )\n",
    "\n",
    "plt.bar( features, pca.explained_variance_ratio_, color='black' )\n",
    "\n",
    "# pca component\n",
    "df_pca = pd.DataFrame( principal_components )"
   ]
  },
  {
   "cell_type": "markdown",
   "id": "e2a6651c",
   "metadata": {},
   "source": [
    "### 8.2.2 UMAP"
   ]
  },
  {
   "cell_type": "code",
   "execution_count": 242,
   "id": "bfd80291",
   "metadata": {
    "ExecuteTime": {
     "end_time": "2022-06-03T15:09:02.143961Z",
     "start_time": "2022-06-03T15:08:54.614260Z"
    }
   },
   "outputs": [],
   "source": [
    "reducer = umap.UMAP( n_components=4, random_state=42 )\n",
    "embedding = reducer.fit_transform( X )\n",
    "\n",
    "# embedding\n",
    "df_umap = pd.DataFrame()\n",
    "df_umap['embedding_x'] = embedding[:, 0]\n",
    "df_umap['embedding_y'] = embedding[:, 1]\n",
    "df_umap['embedding_z'] = embedding[:, 2]\n",
    "df_umap['embedding_w'] = embedding[:, 3]\n",
    "# df_umap['embedding_u'] = embedding[:, 4]\n",
    "\n",
    "# # plot UMAP\n",
    "# sns.scatterplot( x='embedding_x', \n",
    "#                  y='embedding_y', \n",
    "#                  data=df_umap )"
   ]
  },
  {
   "cell_type": "markdown",
   "id": "28afb9b7",
   "metadata": {},
   "source": [
    "### 8.2.3 t-SNE"
   ]
  },
  {
   "cell_type": "code",
   "execution_count": 226,
   "id": "aeb782a8",
   "metadata": {
    "ExecuteTime": {
     "end_time": "2022-06-03T13:20:16.478161Z",
     "start_time": "2022-06-03T13:20:16.085085Z"
    }
   },
   "outputs": [
    {
     "ename": "ValueError",
     "evalue": "'n_components' should be inferior to 4 for the barnes_hut algorithm as it relies on quad-tree or oct-tree.",
     "output_type": "error",
     "traceback": [
      "\u001b[1;31m---------------------------------------------------------------------------\u001b[0m",
      "\u001b[1;31mValueError\u001b[0m                                Traceback (most recent call last)",
      "Input \u001b[1;32mIn [226]\u001b[0m, in \u001b[0;36m<cell line: 2>\u001b[1;34m()\u001b[0m\n\u001b[0;32m      1\u001b[0m reducer \u001b[38;5;241m=\u001b[39m mn\u001b[38;5;241m.\u001b[39mTSNE( n_components\u001b[38;5;241m=\u001b[39m\u001b[38;5;241m4\u001b[39m, n_jobs\u001b[38;5;241m=\u001b[39m\u001b[38;5;241m-\u001b[39m\u001b[38;5;241m1\u001b[39m, random_state\u001b[38;5;241m=\u001b[39m\u001b[38;5;241m42\u001b[39m )\n\u001b[1;32m----> 2\u001b[0m embedding \u001b[38;5;241m=\u001b[39m \u001b[43mreducer\u001b[49m\u001b[38;5;241;43m.\u001b[39;49m\u001b[43mfit_transform\u001b[49m\u001b[43m(\u001b[49m\u001b[43m \u001b[49m\u001b[43mX\u001b[49m\u001b[43m \u001b[49m\u001b[43m)\u001b[49m\n\u001b[0;32m      4\u001b[0m \u001b[38;5;66;03m# embedding\u001b[39;00m\n\u001b[0;32m      5\u001b[0m df_tsne \u001b[38;5;241m=\u001b[39m pd\u001b[38;5;241m.\u001b[39mDataFrame()\n",
      "File \u001b[1;32m~\\anaconda3\\envs\\env_portfolio\\lib\\site-packages\\sklearn\\manifold\\_t_sne.py:1117\u001b[0m, in \u001b[0;36mTSNE.fit_transform\u001b[1;34m(self, X, y)\u001b[0m\n\u001b[0;32m   1097\u001b[0m \u001b[38;5;28;01mdef\u001b[39;00m \u001b[38;5;21mfit_transform\u001b[39m(\u001b[38;5;28mself\u001b[39m, X, y\u001b[38;5;241m=\u001b[39m\u001b[38;5;28;01mNone\u001b[39;00m):\n\u001b[0;32m   1098\u001b[0m     \u001b[38;5;124;03m\"\"\"Fit X into an embedded space and return that transformed output.\u001b[39;00m\n\u001b[0;32m   1099\u001b[0m \n\u001b[0;32m   1100\u001b[0m \u001b[38;5;124;03m    Parameters\u001b[39;00m\n\u001b[1;32m   (...)\u001b[0m\n\u001b[0;32m   1115\u001b[0m \u001b[38;5;124;03m        Embedding of the training data in low-dimensional space.\u001b[39;00m\n\u001b[0;32m   1116\u001b[0m \u001b[38;5;124;03m    \"\"\"\u001b[39;00m\n\u001b[1;32m-> 1117\u001b[0m     embedding \u001b[38;5;241m=\u001b[39m \u001b[38;5;28;43mself\u001b[39;49m\u001b[38;5;241;43m.\u001b[39;49m\u001b[43m_fit\u001b[49m\u001b[43m(\u001b[49m\u001b[43mX\u001b[49m\u001b[43m)\u001b[49m\n\u001b[0;32m   1118\u001b[0m     \u001b[38;5;28mself\u001b[39m\u001b[38;5;241m.\u001b[39membedding_ \u001b[38;5;241m=\u001b[39m embedding\n\u001b[0;32m   1119\u001b[0m     \u001b[38;5;28;01mreturn\u001b[39;00m \u001b[38;5;28mself\u001b[39m\u001b[38;5;241m.\u001b[39membedding_\n",
      "File \u001b[1;32m~\\anaconda3\\envs\\env_portfolio\\lib\\site-packages\\sklearn\\manifold\\_t_sne.py:870\u001b[0m, in \u001b[0;36mTSNE._fit\u001b[1;34m(self, X, skip_num_points)\u001b[0m\n\u001b[0;32m    863\u001b[0m         \u001b[38;5;28;01mraise\u001b[39;00m \u001b[38;5;167;01mTypeError\u001b[39;00m(\n\u001b[0;32m    864\u001b[0m             \u001b[38;5;124m'\u001b[39m\u001b[38;5;124mTSNE with method=\u001b[39m\u001b[38;5;124m\"\u001b[39m\u001b[38;5;124mexact\u001b[39m\u001b[38;5;124m\"\u001b[39m\u001b[38;5;124m does not accept sparse \u001b[39m\u001b[38;5;124m'\u001b[39m\n\u001b[0;32m    865\u001b[0m             \u001b[38;5;124m'\u001b[39m\u001b[38;5;124mprecomputed distance matrix. Use method=\u001b[39m\u001b[38;5;124m\"\u001b[39m\u001b[38;5;124mbarnes_hut\u001b[39m\u001b[38;5;124m\"\u001b[39m\u001b[38;5;124m \u001b[39m\u001b[38;5;124m'\u001b[39m\n\u001b[0;32m    866\u001b[0m             \u001b[38;5;124m\"\u001b[39m\u001b[38;5;124mor provide the dense distance matrix.\u001b[39m\u001b[38;5;124m\"\u001b[39m\n\u001b[0;32m    867\u001b[0m         )\n\u001b[0;32m    869\u001b[0m \u001b[38;5;28;01mif\u001b[39;00m \u001b[38;5;28mself\u001b[39m\u001b[38;5;241m.\u001b[39mmethod \u001b[38;5;241m==\u001b[39m \u001b[38;5;124m\"\u001b[39m\u001b[38;5;124mbarnes_hut\u001b[39m\u001b[38;5;124m\"\u001b[39m \u001b[38;5;129;01mand\u001b[39;00m \u001b[38;5;28mself\u001b[39m\u001b[38;5;241m.\u001b[39mn_components \u001b[38;5;241m>\u001b[39m \u001b[38;5;241m3\u001b[39m:\n\u001b[1;32m--> 870\u001b[0m     \u001b[38;5;28;01mraise\u001b[39;00m \u001b[38;5;167;01mValueError\u001b[39;00m(\n\u001b[0;32m    871\u001b[0m         \u001b[38;5;124m\"\u001b[39m\u001b[38;5;124m'\u001b[39m\u001b[38;5;124mn_components\u001b[39m\u001b[38;5;124m'\u001b[39m\u001b[38;5;124m should be inferior to 4 for the \u001b[39m\u001b[38;5;124m\"\u001b[39m\n\u001b[0;32m    872\u001b[0m         \u001b[38;5;124m\"\u001b[39m\u001b[38;5;124mbarnes_hut algorithm as it relies on \u001b[39m\u001b[38;5;124m\"\u001b[39m\n\u001b[0;32m    873\u001b[0m         \u001b[38;5;124m\"\u001b[39m\u001b[38;5;124mquad-tree or oct-tree.\u001b[39m\u001b[38;5;124m\"\u001b[39m\n\u001b[0;32m    874\u001b[0m     )\n\u001b[0;32m    875\u001b[0m random_state \u001b[38;5;241m=\u001b[39m check_random_state(\u001b[38;5;28mself\u001b[39m\u001b[38;5;241m.\u001b[39mrandom_state)\n\u001b[0;32m    877\u001b[0m \u001b[38;5;28;01mif\u001b[39;00m \u001b[38;5;28mself\u001b[39m\u001b[38;5;241m.\u001b[39mearly_exaggeration \u001b[38;5;241m<\u001b[39m \u001b[38;5;241m1.0\u001b[39m:\n",
      "\u001b[1;31mValueError\u001b[0m: 'n_components' should be inferior to 4 for the barnes_hut algorithm as it relies on quad-tree or oct-tree."
     ]
    }
   ],
   "source": [
    "reducer = mn.TSNE( n_components=3, n_jobs=-1, random_state=42 )\n",
    "embedding = reducer.fit_transform( X )\n",
    "\n",
    "# embedding\n",
    "df_tsne = pd.DataFrame()\n",
    "df_tsne['embedding_x'] = embedding[:, 0]\n",
    "df_tsne['embedding_y'] = embedding[:, 1]\n",
    "df_tsne['embedding_z'] = embedding[:, 2]\n",
    "\n",
    "# # plot UMAP\n",
    "# sns.scatterplot( x='embedding_x', \n",
    "#                  y='embedding_y', \n",
    "#                  data=df_tsne )"
   ]
  },
  {
   "cell_type": "markdown",
   "id": "14847fdd",
   "metadata": {},
   "source": [
    "### 8.2.4 TREE Based Embedding"
   ]
  },
  {
   "cell_type": "code",
   "execution_count": 191,
   "id": "d5fb5071",
   "metadata": {
    "ExecuteTime": {
     "end_time": "2022-06-03T13:14:56.868729Z",
     "start_time": "2022-06-03T13:14:47.831666Z"
    }
   },
   "outputs": [],
   "source": [
    "# training dataset\n",
    "X = df_rfm.drop( columns=['customer_id', 'gross_revenue'], axis=1 )\n",
    "y = df_rfm['gross_revenue']\n",
    "\n",
    "# model definition\n",
    "rf_model = en.RandomForestRegressor( n_estimators=100, random_state=42 )\n",
    "\n",
    "# model training\n",
    "rf_model.fit( X, y )\n",
    "\n",
    "# Leaf \n",
    "\n",
    "# dataframe Leaf\n",
    "\n",
    "df_leaf = pd.DataFrame( rf_model.apply( X ) )\n",
    "\n",
    "# Reduzer dimensionality\n",
    "reducer = umap.UMAP(n_components=5, random_state=42 )\n",
    "embedding = reducer.fit_transform( df_leaf )\n",
    "\n",
    "# embedding\n",
    "df_tree = pd.DataFrame()\n",
    "df_tree['embedding_x'] = embedding[:, 0]\n",
    "df_tree['embedding_y'] = embedding[:, 1]\n",
    "df_tree['embedding_z'] = embedding[:, 2]\n",
    "df_tree['embedding_w'] = embedding[:, 3]\n",
    "df_tree['embedding_u'] = embedding[:, 4]\n",
    "\n",
    "# # plot UMAP\n",
    "# sns.scatterplot( x='embedding_x', \n",
    "#                  y='embedding_y', \n",
    "#                  data=df_tree )"
   ]
  },
  {
   "cell_type": "code",
   "execution_count": 28,
   "id": "394281f5",
   "metadata": {
    "ExecuteTime": {
     "end_time": "2022-06-03T12:08:45.234681Z",
     "start_time": "2022-06-03T12:08:45.219669Z"
    }
   },
   "outputs": [],
   "source": [
    "# # Saving the embedded space\n",
    "# df_tree.to_csv('../data/embedded_space.csv', index=False)"
   ]
  },
  {
   "cell_type": "markdown",
   "id": "15575408",
   "metadata": {},
   "source": [
    "# 9 HYPERPARAMETER FINE TUNNING"
   ]
  },
  {
   "cell_type": "code",
   "execution_count": 243,
   "id": "45e412cb",
   "metadata": {
    "ExecuteTime": {
     "end_time": "2022-06-03T15:09:02.495946Z",
     "start_time": "2022-06-03T15:09:02.480828Z"
    }
   },
   "outputs": [],
   "source": [
    "# clusters = [2, 3, 4, 5, 6, 7]\n",
    "clusters = np.arange(2,31,1)\n",
    "# X = df_rfm.drop( columns=['customer_id'] ) # no espaco original dos dados\n",
    "# X = df_tree.copy() # no espaco transformado\n",
    "# X = df_pca.copy() # no espaco transformado\n",
    "X = df_umap.copy() # no espaco transformado\n",
    "# X = df_tsne.copy() # no espaco transformado"
   ]
  },
  {
   "cell_type": "markdown",
   "id": "fbdc1432",
   "metadata": {},
   "source": [
    "# 10 CHOSEN MODEL"
   ]
  },
  {
   "cell_type": "code",
   "execution_count": 244,
   "id": "163eebc9",
   "metadata": {
    "ExecuteTime": {
     "end_time": "2022-06-03T15:09:03.529267Z",
     "start_time": "2022-06-03T15:09:03.270209Z"
    },
    "scrolled": true
   },
   "outputs": [],
   "source": [
    "# model definition\n",
    "k = 8\n",
    "kmeans = c.KMeans( init='random', n_clusters=k, n_init=10, max_iter=300, random_state=42 )\n",
    "\n",
    "# model training\n",
    "kmeans.fit( X )\n",
    "\n",
    "# clustering\n",
    "labels = kmeans.labels_"
   ]
  },
  {
   "cell_type": "code",
   "execution_count": 245,
   "id": "3240d64a",
   "metadata": {
    "ExecuteTime": {
     "end_time": "2022-06-03T15:09:04.405644Z",
     "start_time": "2022-06-03T15:09:04.398651Z"
    }
   },
   "outputs": [],
   "source": [
    "df_eda = X.copy()\n",
    "df_eda['cluster'] = labels\n",
    "df_rfm_raw['cluster'] = labels"
   ]
  },
  {
   "cell_type": "code",
   "execution_count": 246,
   "id": "8719e40d",
   "metadata": {
    "ExecuteTime": {
     "end_time": "2022-06-03T15:09:05.959322Z",
     "start_time": "2022-06-03T15:09:05.529342Z"
    }
   },
   "outputs": [
    {
     "name": "stdout",
     "output_type": "stream",
     "text": [
      "WSS value: 97056.1171875\n",
      "SS value: 0.5443276166915894\n"
     ]
    }
   ],
   "source": [
    "## WSS ( Within-cluster sum of square)\n",
    "print( 'WSS value: {}'.format( kmeans.inertia_ ) )\n",
    "\n",
    "## SS ( Silhouette Score )\n",
    "print( 'SS value: {}'.format( m.silhouette_score( X, labels, metric='euclidean' ) ) )"
   ]
  },
  {
   "cell_type": "markdown",
   "id": "5be8b1e2",
   "metadata": {},
   "source": [
    "# 11 BUSINESS PERFORMANCE"
   ]
  },
  {
   "cell_type": "code",
   "execution_count": 233,
   "id": "23fbeece",
   "metadata": {
    "ExecuteTime": {
     "end_time": "2022-06-03T13:22:50.620432Z",
     "start_time": "2022-06-03T13:22:50.611439Z"
    }
   },
   "outputs": [
    {
     "data": {
      "text/html": [
       "<div>\n",
       "<style scoped>\n",
       "    .dataframe tbody tr th:only-of-type {\n",
       "        vertical-align: middle;\n",
       "    }\n",
       "\n",
       "    .dataframe tbody tr th {\n",
       "        vertical-align: top;\n",
       "    }\n",
       "\n",
       "    .dataframe thead th {\n",
       "        text-align: right;\n",
       "    }\n",
       "</style>\n",
       "<table border=\"1\" class=\"dataframe\">\n",
       "  <thead>\n",
       "    <tr style=\"text-align: right;\">\n",
       "      <th></th>\n",
       "      <th>embedding_x</th>\n",
       "      <th>embedding_y</th>\n",
       "      <th>embedding_z</th>\n",
       "      <th>embedding_w</th>\n",
       "      <th>cluster</th>\n",
       "    </tr>\n",
       "  </thead>\n",
       "  <tbody>\n",
       "    <tr>\n",
       "      <th>0</th>\n",
       "      <td>-3.029993</td>\n",
       "      <td>9.952247</td>\n",
       "      <td>8.345515</td>\n",
       "      <td>1.701905</td>\n",
       "      <td>4</td>\n",
       "    </tr>\n",
       "    <tr>\n",
       "      <th>1</th>\n",
       "      <td>13.304445</td>\n",
       "      <td>13.189207</td>\n",
       "      <td>8.327514</td>\n",
       "      <td>8.831138</td>\n",
       "      <td>6</td>\n",
       "    </tr>\n",
       "    <tr>\n",
       "      <th>2</th>\n",
       "      <td>11.384762</td>\n",
       "      <td>9.170521</td>\n",
       "      <td>15.499040</td>\n",
       "      <td>-3.444309</td>\n",
       "      <td>3</td>\n",
       "    </tr>\n",
       "    <tr>\n",
       "      <th>3</th>\n",
       "      <td>10.469833</td>\n",
       "      <td>7.522410</td>\n",
       "      <td>7.934718</td>\n",
       "      <td>10.154498</td>\n",
       "      <td>6</td>\n",
       "    </tr>\n",
       "    <tr>\n",
       "      <th>4</th>\n",
       "      <td>8.770447</td>\n",
       "      <td>-0.304306</td>\n",
       "      <td>8.852541</td>\n",
       "      <td>13.856702</td>\n",
       "      <td>6</td>\n",
       "    </tr>\n",
       "  </tbody>\n",
       "</table>\n",
       "</div>"
      ],
      "text/plain": [
       "   embedding_x  embedding_y  embedding_z  embedding_w  cluster\n",
       "0    -3.029993     9.952247     8.345515     1.701905        4\n",
       "1    13.304445    13.189207     8.327514     8.831138        6\n",
       "2    11.384762     9.170521    15.499040    -3.444309        3\n",
       "3    10.469833     7.522410     7.934718    10.154498        6\n",
       "4     8.770447    -0.304306     8.852541    13.856702        6"
      ]
     },
     "execution_count": 233,
     "metadata": {},
     "output_type": "execute_result"
    }
   ],
   "source": [
    "df_cluster_embed = X.copy()\n",
    "df_cluster_embed['cluster'] = labels\n",
    "df_cluster_embed.head()"
   ]
  },
  {
   "cell_type": "code",
   "execution_count": 234,
   "id": "1417ea6d",
   "metadata": {
    "ExecuteTime": {
     "end_time": "2022-06-03T13:22:52.330937Z",
     "start_time": "2022-06-03T13:22:51.956847Z"
    }
   },
   "outputs": [
    {
     "data": {
      "text/plain": [
       "<AxesSubplot:xlabel='embedding_x', ylabel='embedding_y'>"
      ]
     },
     "execution_count": 234,
     "metadata": {},
     "output_type": "execute_result"
    },
    {
     "data": {
      "image/png": "[encoded data removed]",
      "text/plain": [
       "<Figure size 576x396 with 1 Axes>"
      ]
     },
     "metadata": {},
     "output_type": "display_data"
    }
   ],
   "source": [
    "sns.scatterplot( x='embedding_x', y='embedding_y', hue='cluster', data=df_cluster_embed, palette='deep')"
   ]
  },
  {
   "cell_type": "code",
   "execution_count": 235,
   "id": "a55e5cbc",
   "metadata": {
    "ExecuteTime": {
     "end_time": "2022-06-03T13:22:55.824663Z",
     "start_time": "2022-06-03T13:22:55.795656Z"
    }
   },
   "outputs": [
    {
     "data": {
      "text/html": [
       "<div>\n",
       "<style scoped>\n",
       "    .dataframe tbody tr th:only-of-type {\n",
       "        vertical-align: middle;\n",
       "    }\n",
       "\n",
       "    .dataframe tbody tr th {\n",
       "        vertical-align: top;\n",
       "    }\n",
       "\n",
       "    .dataframe thead th {\n",
       "        text-align: right;\n",
       "    }\n",
       "</style>\n",
       "<table border=\"1\" class=\"dataframe\">\n",
       "  <thead>\n",
       "    <tr style=\"text-align: right;\">\n",
       "      <th></th>\n",
       "      <th>cluster</th>\n",
       "      <th>customer_id</th>\n",
       "      <th>perc_customer</th>\n",
       "      <th>gross_revenue</th>\n",
       "      <th>recency_days</th>\n",
       "      <th>amount_products</th>\n",
       "      <th>frequency</th>\n",
       "      <th>amount_returns</th>\n",
       "    </tr>\n",
       "  </thead>\n",
       "  <tbody>\n",
       "    <tr>\n",
       "      <th>0</th>\n",
       "      <td>0</td>\n",
       "      <td>436</td>\n",
       "      <td>7.655838</td>\n",
       "      <td>526.068372</td>\n",
       "      <td>258.018349</td>\n",
       "      <td>43.208716</td>\n",
       "      <td>1.018349</td>\n",
       "      <td>1.360092</td>\n",
       "    </tr>\n",
       "    <tr>\n",
       "      <th>1</th>\n",
       "      <td>1</td>\n",
       "      <td>508</td>\n",
       "      <td>8.920105</td>\n",
       "      <td>614.771890</td>\n",
       "      <td>71.114173</td>\n",
       "      <td>46.501969</td>\n",
       "      <td>1.058024</td>\n",
       "      <td>6.198819</td>\n",
       "    </tr>\n",
       "    <tr>\n",
       "      <th>2</th>\n",
       "      <td>2</td>\n",
       "      <td>452</td>\n",
       "      <td>7.936787</td>\n",
       "      <td>970.335310</td>\n",
       "      <td>20.681416</td>\n",
       "      <td>80.353982</td>\n",
       "      <td>0.998709</td>\n",
       "      <td>1.283186</td>\n",
       "    </tr>\n",
       "    <tr>\n",
       "      <th>3</th>\n",
       "      <td>3</td>\n",
       "      <td>1838</td>\n",
       "      <td>32.273924</td>\n",
       "      <td>3717.091970</td>\n",
       "      <td>18.852013</td>\n",
       "      <td>163.760609</td>\n",
       "      <td>0.039972</td>\n",
       "      <td>42.933079</td>\n",
       "    </tr>\n",
       "    <tr>\n",
       "      <th>4</th>\n",
       "      <td>4</td>\n",
       "      <td>277</td>\n",
       "      <td>4.863916</td>\n",
       "      <td>906.624801</td>\n",
       "      <td>362.581227</td>\n",
       "      <td>65.126354</td>\n",
       "      <td>1.051473</td>\n",
       "      <td>2.490975</td>\n",
       "    </tr>\n",
       "    <tr>\n",
       "      <th>5</th>\n",
       "      <td>5</td>\n",
       "      <td>356</td>\n",
       "      <td>6.251097</td>\n",
       "      <td>857.132837</td>\n",
       "      <td>311.974719</td>\n",
       "      <td>63.997191</td>\n",
       "      <td>1.005618</td>\n",
       "      <td>210.376404</td>\n",
       "    </tr>\n",
       "    <tr>\n",
       "      <th>6</th>\n",
       "      <td>6</td>\n",
       "      <td>916</td>\n",
       "      <td>16.084284</td>\n",
       "      <td>1231.994727</td>\n",
       "      <td>129.581878</td>\n",
       "      <td>62.990175</td>\n",
       "      <td>0.034100</td>\n",
       "      <td>22.239083</td>\n",
       "    </tr>\n",
       "    <tr>\n",
       "      <th>7</th>\n",
       "      <td>7</td>\n",
       "      <td>912</td>\n",
       "      <td>16.014047</td>\n",
       "      <td>666.228388</td>\n",
       "      <td>156.894737</td>\n",
       "      <td>53.854167</td>\n",
       "      <td>1.019737</td>\n",
       "      <td>3.419956</td>\n",
       "    </tr>\n",
       "  </tbody>\n",
       "</table>\n",
       "</div>"
      ],
      "text/plain": [
       "   cluster  customer_id  perc_customer  gross_revenue  recency_days  \\\n",
       "0        0          436       7.655838     526.068372    258.018349   \n",
       "1        1          508       8.920105     614.771890     71.114173   \n",
       "2        2          452       7.936787     970.335310     20.681416   \n",
       "3        3         1838      32.273924    3717.091970     18.852013   \n",
       "4        4          277       4.863916     906.624801    362.581227   \n",
       "5        5          356       6.251097     857.132837    311.974719   \n",
       "6        6          916      16.084284    1231.994727    129.581878   \n",
       "7        7          912      16.014047     666.228388    156.894737   \n",
       "\n",
       "   amount_products  frequency  amount_returns  \n",
       "0        43.208716   1.018349        1.360092  \n",
       "1        46.501969   1.058024        6.198819  \n",
       "2        80.353982   0.998709        1.283186  \n",
       "3       163.760609   0.039972       42.933079  \n",
       "4        65.126354   1.051473        2.490975  \n",
       "5        63.997191   1.005618      210.376404  \n",
       "6        62.990175   0.034100       22.239083  \n",
       "7        53.854167   1.019737        3.419956  "
      ]
     },
     "execution_count": 235,
     "metadata": {},
     "output_type": "execute_result"
    }
   ],
   "source": [
    "# Number of customer\n",
    "df_cluster = df_rfm_raw[['customer_id', 'cluster']].groupby( 'cluster' ).count().reset_index()\n",
    "df_cluster['perc_customer'] = 100*( df_cluster['customer_id'] / df_cluster['customer_id'].sum() )\n",
    "\n",
    "# Avg Gross revenue\n",
    "df_avg_gross_revenue = df_rfm_raw[['gross_revenue', 'cluster']].groupby( 'cluster' ).mean().reset_index()\n",
    "df_cluster = pd.merge( df_cluster, df_avg_gross_revenue, how='inner', on='cluster' )\n",
    "\n",
    "# Avg recency days\n",
    "df_avg_recency_days = df_rfm_raw[['recency_days', 'cluster']].groupby( 'cluster' ).mean().reset_index()\n",
    "df_cluster = pd.merge( df_cluster, df_avg_recency_days, how='inner', on='cluster' )\n",
    "\n",
    "# Avg products_no\n",
    "df_invoice_no = df_rfm_raw[['amount_products', 'cluster']].groupby( 'cluster' ).mean().reset_index()\n",
    "df_cluster = pd.merge( df_cluster, df_invoice_no, how='inner', on='cluster' )\n",
    "\n",
    "# Frequency\n",
    "df_invoice_no = df_rfm_raw[['frequency', 'cluster']].groupby( 'cluster' ).mean().reset_index()\n",
    "df_cluster = pd.merge( df_cluster, df_invoice_no, how='inner', on='cluster' )\n",
    "\n",
    "# Returns\n",
    "df_invoice_no = df_rfm_raw[['amount_returns', 'cluster']].groupby( 'cluster' ).mean().reset_index()\n",
    "df_cluster = pd.merge( df_cluster, df_invoice_no, how='inner', on='cluster' )\n",
    "\n",
    "df_cluster"
   ]
  },
  {
   "cell_type": "code",
   "execution_count": 236,
   "id": "a9cea4cd",
   "metadata": {
    "ExecuteTime": {
     "end_time": "2022-06-03T13:22:58.355471Z",
     "start_time": "2022-06-03T13:22:58.332475Z"
    }
   },
   "outputs": [
    {
     "data": {
      "text/html": [
       "<style type=\"text/css\">\n",
       "#T_52e49_row0_col3, #T_52e49_row0_col5, #T_52e49_row4_col4, #T_52e49_row5_col7, #T_52e49_row6_col6 {\n",
       "  background-color: pink;\n",
       "}\n",
       "#T_52e49_row1_col6, #T_52e49_row2_col7, #T_52e49_row3_col3, #T_52e49_row3_col4, #T_52e49_row3_col5 {\n",
       "  background-color: lightgreen;\n",
       "}\n",
       "</style>\n",
       "<table id=\"T_52e49\">\n",
       "  <thead>\n",
       "    <tr>\n",
       "      <th class=\"blank level0\" >&nbsp;</th>\n",
       "      <th id=\"T_52e49_level0_col0\" class=\"col_heading level0 col0\" >cluster</th>\n",
       "      <th id=\"T_52e49_level0_col1\" class=\"col_heading level0 col1\" >customer_id</th>\n",
       "      <th id=\"T_52e49_level0_col2\" class=\"col_heading level0 col2\" >perc_customer</th>\n",
       "      <th id=\"T_52e49_level0_col3\" class=\"col_heading level0 col3\" >gross_revenue</th>\n",
       "      <th id=\"T_52e49_level0_col4\" class=\"col_heading level0 col4\" >recency_days</th>\n",
       "      <th id=\"T_52e49_level0_col5\" class=\"col_heading level0 col5\" >amount_products</th>\n",
       "      <th id=\"T_52e49_level0_col6\" class=\"col_heading level0 col6\" >frequency</th>\n",
       "      <th id=\"T_52e49_level0_col7\" class=\"col_heading level0 col7\" >amount_returns</th>\n",
       "    </tr>\n",
       "  </thead>\n",
       "  <tbody>\n",
       "    <tr>\n",
       "      <th id=\"T_52e49_level0_row0\" class=\"row_heading level0 row0\" >0</th>\n",
       "      <td id=\"T_52e49_row0_col0\" class=\"data row0 col0\" >0</td>\n",
       "      <td id=\"T_52e49_row0_col1\" class=\"data row0 col1\" >436</td>\n",
       "      <td id=\"T_52e49_row0_col2\" class=\"data row0 col2\" >7.655838</td>\n",
       "      <td id=\"T_52e49_row0_col3\" class=\"data row0 col3\" >526.068372</td>\n",
       "      <td id=\"T_52e49_row0_col4\" class=\"data row0 col4\" >258.018349</td>\n",
       "      <td id=\"T_52e49_row0_col5\" class=\"data row0 col5\" >43.208716</td>\n",
       "      <td id=\"T_52e49_row0_col6\" class=\"data row0 col6\" >1.018349</td>\n",
       "      <td id=\"T_52e49_row0_col7\" class=\"data row0 col7\" >1.360092</td>\n",
       "    </tr>\n",
       "    <tr>\n",
       "      <th id=\"T_52e49_level0_row1\" class=\"row_heading level0 row1\" >1</th>\n",
       "      <td id=\"T_52e49_row1_col0\" class=\"data row1 col0\" >1</td>\n",
       "      <td id=\"T_52e49_row1_col1\" class=\"data row1 col1\" >508</td>\n",
       "      <td id=\"T_52e49_row1_col2\" class=\"data row1 col2\" >8.920105</td>\n",
       "      <td id=\"T_52e49_row1_col3\" class=\"data row1 col3\" >614.771890</td>\n",
       "      <td id=\"T_52e49_row1_col4\" class=\"data row1 col4\" >71.114173</td>\n",
       "      <td id=\"T_52e49_row1_col5\" class=\"data row1 col5\" >46.501969</td>\n",
       "      <td id=\"T_52e49_row1_col6\" class=\"data row1 col6\" >1.058024</td>\n",
       "      <td id=\"T_52e49_row1_col7\" class=\"data row1 col7\" >6.198819</td>\n",
       "    </tr>\n",
       "    <tr>\n",
       "      <th id=\"T_52e49_level0_row2\" class=\"row_heading level0 row2\" >2</th>\n",
       "      <td id=\"T_52e49_row2_col0\" class=\"data row2 col0\" >2</td>\n",
       "      <td id=\"T_52e49_row2_col1\" class=\"data row2 col1\" >452</td>\n",
       "      <td id=\"T_52e49_row2_col2\" class=\"data row2 col2\" >7.936787</td>\n",
       "      <td id=\"T_52e49_row2_col3\" class=\"data row2 col3\" >970.335310</td>\n",
       "      <td id=\"T_52e49_row2_col4\" class=\"data row2 col4\" >20.681416</td>\n",
       "      <td id=\"T_52e49_row2_col5\" class=\"data row2 col5\" >80.353982</td>\n",
       "      <td id=\"T_52e49_row2_col6\" class=\"data row2 col6\" >0.998709</td>\n",
       "      <td id=\"T_52e49_row2_col7\" class=\"data row2 col7\" >1.283186</td>\n",
       "    </tr>\n",
       "    <tr>\n",
       "      <th id=\"T_52e49_level0_row3\" class=\"row_heading level0 row3\" >3</th>\n",
       "      <td id=\"T_52e49_row3_col0\" class=\"data row3 col0\" >3</td>\n",
       "      <td id=\"T_52e49_row3_col1\" class=\"data row3 col1\" >1838</td>\n",
       "      <td id=\"T_52e49_row3_col2\" class=\"data row3 col2\" >32.273924</td>\n",
       "      <td id=\"T_52e49_row3_col3\" class=\"data row3 col3\" >3717.091970</td>\n",
       "      <td id=\"T_52e49_row3_col4\" class=\"data row3 col4\" >18.852013</td>\n",
       "      <td id=\"T_52e49_row3_col5\" class=\"data row3 col5\" >163.760609</td>\n",
       "      <td id=\"T_52e49_row3_col6\" class=\"data row3 col6\" >0.039972</td>\n",
       "      <td id=\"T_52e49_row3_col7\" class=\"data row3 col7\" >42.933079</td>\n",
       "    </tr>\n",
       "    <tr>\n",
       "      <th id=\"T_52e49_level0_row4\" class=\"row_heading level0 row4\" >4</th>\n",
       "      <td id=\"T_52e49_row4_col0\" class=\"data row4 col0\" >4</td>\n",
       "      <td id=\"T_52e49_row4_col1\" class=\"data row4 col1\" >277</td>\n",
       "      <td id=\"T_52e49_row4_col2\" class=\"data row4 col2\" >4.863916</td>\n",
       "      <td id=\"T_52e49_row4_col3\" class=\"data row4 col3\" >906.624801</td>\n",
       "      <td id=\"T_52e49_row4_col4\" class=\"data row4 col4\" >362.581227</td>\n",
       "      <td id=\"T_52e49_row4_col5\" class=\"data row4 col5\" >65.126354</td>\n",
       "      <td id=\"T_52e49_row4_col6\" class=\"data row4 col6\" >1.051473</td>\n",
       "      <td id=\"T_52e49_row4_col7\" class=\"data row4 col7\" >2.490975</td>\n",
       "    </tr>\n",
       "    <tr>\n",
       "      <th id=\"T_52e49_level0_row5\" class=\"row_heading level0 row5\" >5</th>\n",
       "      <td id=\"T_52e49_row5_col0\" class=\"data row5 col0\" >5</td>\n",
       "      <td id=\"T_52e49_row5_col1\" class=\"data row5 col1\" >356</td>\n",
       "      <td id=\"T_52e49_row5_col2\" class=\"data row5 col2\" >6.251097</td>\n",
       "      <td id=\"T_52e49_row5_col3\" class=\"data row5 col3\" >857.132837</td>\n",
       "      <td id=\"T_52e49_row5_col4\" class=\"data row5 col4\" >311.974719</td>\n",
       "      <td id=\"T_52e49_row5_col5\" class=\"data row5 col5\" >63.997191</td>\n",
       "      <td id=\"T_52e49_row5_col6\" class=\"data row5 col6\" >1.005618</td>\n",
       "      <td id=\"T_52e49_row5_col7\" class=\"data row5 col7\" >210.376404</td>\n",
       "    </tr>\n",
       "    <tr>\n",
       "      <th id=\"T_52e49_level0_row6\" class=\"row_heading level0 row6\" >6</th>\n",
       "      <td id=\"T_52e49_row6_col0\" class=\"data row6 col0\" >6</td>\n",
       "      <td id=\"T_52e49_row6_col1\" class=\"data row6 col1\" >916</td>\n",
       "      <td id=\"T_52e49_row6_col2\" class=\"data row6 col2\" >16.084284</td>\n",
       "      <td id=\"T_52e49_row6_col3\" class=\"data row6 col3\" >1231.994727</td>\n",
       "      <td id=\"T_52e49_row6_col4\" class=\"data row6 col4\" >129.581878</td>\n",
       "      <td id=\"T_52e49_row6_col5\" class=\"data row6 col5\" >62.990175</td>\n",
       "      <td id=\"T_52e49_row6_col6\" class=\"data row6 col6\" >0.034100</td>\n",
       "      <td id=\"T_52e49_row6_col7\" class=\"data row6 col7\" >22.239083</td>\n",
       "    </tr>\n",
       "    <tr>\n",
       "      <th id=\"T_52e49_level0_row7\" class=\"row_heading level0 row7\" >7</th>\n",
       "      <td id=\"T_52e49_row7_col0\" class=\"data row7 col0\" >7</td>\n",
       "      <td id=\"T_52e49_row7_col1\" class=\"data row7 col1\" >912</td>\n",
       "      <td id=\"T_52e49_row7_col2\" class=\"data row7 col2\" >16.014047</td>\n",
       "      <td id=\"T_52e49_row7_col3\" class=\"data row7 col3\" >666.228388</td>\n",
       "      <td id=\"T_52e49_row7_col4\" class=\"data row7 col4\" >156.894737</td>\n",
       "      <td id=\"T_52e49_row7_col5\" class=\"data row7 col5\" >53.854167</td>\n",
       "      <td id=\"T_52e49_row7_col6\" class=\"data row7 col6\" >1.019737</td>\n",
       "      <td id=\"T_52e49_row7_col7\" class=\"data row7 col7\" >3.419956</td>\n",
       "    </tr>\n",
       "  </tbody>\n",
       "</table>\n"
      ],
      "text/plain": [
       "<pandas.io.formats.style.Styler at 0x19309441dc0>"
      ]
     },
     "execution_count": 236,
     "metadata": {},
     "output_type": "execute_result"
    }
   ],
   "source": [
    "df_cluster.style.highlight_max(subset=['gross_revenue', 'amount_products', 'frequency'], color='lightgreen', axis=0 )\\\n",
    ".highlight_min(subset=['recency_days', 'amount_returns'], color='lightgreen', axis=0 )\\\n",
    ".highlight_max(subset=['recency_days', 'amount_returns'], color='pink', axis=0 )\\\n",
    ".highlight_min(subset=['gross_revenue', 'amount_products', 'frequency'], color='pink', axis=0 )"
   ]
  },
  {
   "cell_type": "markdown",
   "id": "7c2785f1",
   "metadata": {},
   "source": [
    "Cluster A: \n",
    "- Number of customers: 466 (16.8% of customers )\n",
    "- Average Recency: 21.5 days\n",
    "- Average invoice_no: 425 \n",
    "- Average Gross Revenue: U\\$8,855.52\n",
    "- Average purchases/day: 0.09\n",
    "- Average products return: 150.6\n",
    "\n",
    "Cluster B:\n",
    "- Number of customers: 356 (12.8% of customers )\n",
    "- Average Recency: 50 days\n",
    "- Average invoice_no: 99.9\n",
    "- Average Gross Revenue: U\\$3,002.54\n",
    "- Average purchases/day: 0.04\n",
    "- Average products return: 19.7\n",
    "\n",
    "Cluster C:\n",
    "- Number of customers: 568 (20.50% of customers )\n",
    "- Average Recency: 41.9 days\n",
    "- Average invoice_no: 135.40 \n",
    "- Average Gross Revenue: U\\$2,430.80\n",
    "- Average purchases/day: 0.04\n",
    "- Average products return: 20.5\n",
    "\n",
    "Cluster D:\n",
    "- Number of customers: 469 (16.9% of customers )\n",
    "- Average Recency: 59.27 days\n",
    "- Average invoice_no: 57.6 \n",
    "- Average Gross Revenue: U\\$1,269.62\n",
    "- Average purchases/day: 0.03\n",
    "- Average products return: 9\n",
    "\n",
    "Cluster E:\n",
    "- Number of customers: 316 (11.39% of customers )\n",
    "- Average Recency: 73.3 days\n",
    "- Average invoice_no: 37.2 \n",
    "- Average Gross Revenue: U\\$988.2\n",
    "- Average purchases/day: 0.03\n",
    "- Average products return: 10.95\n",
    "\n",
    "Cluster F:\n",
    "- Number of customers: 147 (5.3% of customers )\n",
    "- Average Recency: 78.5 days\n",
    "- Average invoice_no: 27.9 \n",
    "- Average Gross Revenue: U\\$854.67\n",
    "- Average purchases/day: 0.03\n",
    "- Average products return: 3.17\n",
    "\n",
    "Cluster G:\n",
    "- Number of customers: 299 (10.78% of customers )\n",
    "- Average Recency: 46.4 days\n",
    "- Average invoice_no: 14.43 \n",
    "- Average Gross Revenue: U\\$645.28\n",
    "- Average purchases/day: 0.04\n",
    "- Average products return: 0.96\n",
    "\n",
    "Cluster H:\n",
    "- Number of customers: 152 (15.48% of customers )\n",
    "- Average Recency: 191 days\n",
    "- Average invoice_no: 14.1 \n",
    "- Average Gross Revenue: U\\$570.64\n",
    "- Average purchases/day: 0.09\n",
    "- Average products return: 15.8"
   ]
  },
  {
   "cell_type": "code",
   "execution_count": null,
   "id": "63f6a541",
   "metadata": {},
   "outputs": [],
   "source": []
  },
  {
   "cell_type": "code",
   "execution_count": null,
   "id": "93420b48",
   "metadata": {},
   "outputs": [],
   "source": []
  }
 ],
 "metadata": {
  "kernelspec": {
   "display_name": "Python 3 (ipykernel)",
   "language": "python",
   "name": "python3"
  },
  "language_info": {
   "codemirror_mode": {
    "name": "ipython",
    "version": 3
   },
   "file_extension": ".py",
   "mimetype": "text/x-python",
   "name": "python",
   "nbconvert_exporter": "python",
   "pygments_lexer": "ipython3",
   "version": "3.8.11"
  },
  "toc": {
   "base_numbering": 1,
   "nav_menu": {},
   "number_sections": true,
   "sideBar": true,
   "skip_h1_title": false,
   "title_cell": "Table of Contents",
   "title_sidebar": "Contents",
   "toc_cell": false,
   "toc_position": {
    "height": "calc(100% - 180px)",
    "left": "10px",
    "top": "150px",
    "width": "306px"
   },
   "toc_section_display": true,
   "toc_window_display": false
  },
  "varInspector": {
   "cols": {
    "lenName": 16,
    "lenType": 16,
    "lenVar": 40
   },
   "kernels_config": {
    "python": {
     "delete_cmd_postfix": "",
     "delete_cmd_prefix": "del ",
     "library": "var_list.py",
     "varRefreshCmd": "print(var_dic_list())"
    },
    "r": {
     "delete_cmd_postfix": ") ",
     "delete_cmd_prefix": "rm(",
     "library": "var_list.r",
     "varRefreshCmd": "cat(var_dic_list()) "
    }
   },
   "position": {
    "height": "298.844px",
    "left": "1384px",
    "right": "20px",
    "top": "121px",
    "width": "504px"
   },
   "types_to_exclude": [
    "module",
    "function",
    "builtin_function_or_method",
    "instance",
    "_Feature"
   ],
   "window_display": false
  }
 },
 "nbformat": 4,
 "nbformat_minor": 5
}
