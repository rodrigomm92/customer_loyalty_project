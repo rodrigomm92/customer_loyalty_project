{
 "cells": [
  {
   "cell_type": "markdown",
   "id": "851ff978",
   "metadata": {},
   "source": [
    "In this cycle we:\n",
    "\n",
    "- Dropped some features to improve our model\n",
    "- Defined each cluster profile\n",
    "- EDA with cluster information\n"
   ]
  },
  {
   "cell_type": "markdown",
   "id": "adc4a43b",
   "metadata": {},
   "source": [
    "# 1 IMPORTS"
   ]
  },
  {
   "cell_type": "code",
   "execution_count": 1,
   "id": "f32501a9",
   "metadata": {
    "ExecuteTime": {
     "end_time": "2022-06-06T14:23:31.511733Z",
     "start_time": "2022-06-06T14:23:25.058830Z"
    }
   },
   "outputs": [],
   "source": [
    "import re\n",
    "import inflection\n",
    "import numpy                                          as np\n",
    "import pandas                                         as pd\n",
    "import sweetviz                                       as sv\n",
    "import seaborn                                        as sns\n",
    "import umap.umap_                                     as umap\n",
    "import matplotlib.cm                                  as cm\n",
    "import matplotlib.pyplot                              as plt\n",
    "            \n",
    "from plotly              import express               as px\n",
    "from sklearn             import cluster               as c\n",
    "from sklearn             import metrics               as m\n",
    "from sklearn             import mixture               as mx\n",
    "from IPython.display     import Image      \n",
    "from sklearn             import ensemble              as en\n",
    "from sklearn             import manifold              as mn\n",
    "from sklearn             import decomposition         as dd\n",
    "from sklearn             import preprocessing         as pp\n",
    "from scipy.cluster       import hierarchy             as hc\n",
    "from pandas_profiling    import ProfileReport\n",
    "from sklearn.neighbors   import NearestNeighbors\n",
    "from yellowbrick.cluster import KElbowVisualizer \n",
    "from yellowbrick.cluster import SilhouetteVisualizer\n",
    "\n",
    "import warnings\n",
    "warnings.filterwarnings('ignore')"
   ]
  },
  {
   "cell_type": "markdown",
   "id": "b120e507",
   "metadata": {},
   "source": [
    "## 1.1 Definitions "
   ]
  },
  {
   "cell_type": "code",
   "execution_count": 2,
   "id": "67667930",
   "metadata": {
    "ExecuteTime": {
     "end_time": "2022-06-06T14:23:31.527738Z",
     "start_time": "2022-06-06T14:23:31.512735Z"
    }
   },
   "outputs": [],
   "source": [
    "# Set Seaborn configurations\n",
    "sns.set_palette('tab10')\n",
    "sns.set_style('darkgrid')\n",
    "\n",
    "# Standard font for plots\n",
    "def std_font(ax1, title, xlabel, ylabel):\n",
    "    ax1.set_title(title, loc='left', fontdict={'fontsize': 18}, pad=20)\n",
    "    ax1.set_xlabel(xlabel, fontdict={'fontsize': 12, 'style': 'italic'})\n",
    "    ax1.set_ylabel(ylabel, fontdict={'fontsize': 12, 'style': 'italic'})\n",
    "    return None"
   ]
  },
  {
   "cell_type": "markdown",
   "id": "0de6daf1",
   "metadata": {},
   "source": [
    "## 1.2 Loading Data"
   ]
  },
  {
   "cell_type": "code",
   "execution_count": 3,
   "id": "5d6298a1",
   "metadata": {
    "ExecuteTime": {
     "end_time": "2022-06-06T14:23:32.056010Z",
     "start_time": "2022-06-06T14:23:31.529738Z"
    }
   },
   "outputs": [],
   "source": [
    "df_raw = pd.read_csv('../data/ecommerce.csv', parse_dates=['InvoiceDate'])\n",
    "# Renaming columns\n",
    "cols_snake = list( map( lambda x: inflection.underscore( x ), df_raw.columns ) )\n",
    "df_raw.columns = cols_snake"
   ]
  },
  {
   "cell_type": "markdown",
   "id": "f50dd6c1",
   "metadata": {},
   "source": [
    "# 2 DATA DESCRIPTION"
   ]
  },
  {
   "cell_type": "markdown",
   "id": "b63b77ae",
   "metadata": {},
   "source": [
    "## 2.1 Data Preview"
   ]
  },
  {
   "cell_type": "code",
   "execution_count": 4,
   "id": "19e17694",
   "metadata": {
    "ExecuteTime": {
     "end_time": "2022-06-06T14:23:32.071024Z",
     "start_time": "2022-06-06T14:23:32.057015Z"
    }
   },
   "outputs": [
    {
     "data": {
      "text/html": [
       "<div>\n",
       "<style scoped>\n",
       "    .dataframe tbody tr th:only-of-type {\n",
       "        vertical-align: middle;\n",
       "    }\n",
       "\n",
       "    .dataframe tbody tr th {\n",
       "        vertical-align: top;\n",
       "    }\n",
       "\n",
       "    .dataframe thead th {\n",
       "        text-align: right;\n",
       "    }\n",
       "</style>\n",
       "<table border=\"1\" class=\"dataframe\">\n",
       "  <thead>\n",
       "    <tr style=\"text-align: right;\">\n",
       "      <th></th>\n",
       "      <th>invoice_no</th>\n",
       "      <th>stock_code</th>\n",
       "      <th>description</th>\n",
       "      <th>quantity</th>\n",
       "      <th>invoice_date</th>\n",
       "      <th>unit_price</th>\n",
       "      <th>customer_id</th>\n",
       "      <th>country</th>\n",
       "    </tr>\n",
       "  </thead>\n",
       "  <tbody>\n",
       "    <tr>\n",
       "      <th>0</th>\n",
       "      <td>536365</td>\n",
       "      <td>85123A</td>\n",
       "      <td>WHITE HANGING HEART T-LIGHT HOLDER</td>\n",
       "      <td>6</td>\n",
       "      <td>2016-11-29</td>\n",
       "      <td>2.55</td>\n",
       "      <td>17850.0</td>\n",
       "      <td>United Kingdom</td>\n",
       "    </tr>\n",
       "    <tr>\n",
       "      <th>1</th>\n",
       "      <td>536365</td>\n",
       "      <td>71053</td>\n",
       "      <td>WHITE METAL LANTERN</td>\n",
       "      <td>6</td>\n",
       "      <td>2016-11-29</td>\n",
       "      <td>3.39</td>\n",
       "      <td>17850.0</td>\n",
       "      <td>United Kingdom</td>\n",
       "    </tr>\n",
       "    <tr>\n",
       "      <th>2</th>\n",
       "      <td>536365</td>\n",
       "      <td>84406B</td>\n",
       "      <td>CREAM CUPID HEARTS COAT HANGER</td>\n",
       "      <td>8</td>\n",
       "      <td>2016-11-29</td>\n",
       "      <td>2.75</td>\n",
       "      <td>17850.0</td>\n",
       "      <td>United Kingdom</td>\n",
       "    </tr>\n",
       "    <tr>\n",
       "      <th>3</th>\n",
       "      <td>536365</td>\n",
       "      <td>84029G</td>\n",
       "      <td>KNITTED UNION FLAG HOT WATER BOTTLE</td>\n",
       "      <td>6</td>\n",
       "      <td>2016-11-29</td>\n",
       "      <td>3.39</td>\n",
       "      <td>17850.0</td>\n",
       "      <td>United Kingdom</td>\n",
       "    </tr>\n",
       "    <tr>\n",
       "      <th>4</th>\n",
       "      <td>536365</td>\n",
       "      <td>84029E</td>\n",
       "      <td>RED WOOLLY HOTTIE WHITE HEART.</td>\n",
       "      <td>6</td>\n",
       "      <td>2016-11-29</td>\n",
       "      <td>3.39</td>\n",
       "      <td>17850.0</td>\n",
       "      <td>United Kingdom</td>\n",
       "    </tr>\n",
       "  </tbody>\n",
       "</table>\n",
       "</div>"
      ],
      "text/plain": [
       "  invoice_no stock_code                          description  quantity  \\\n",
       "0     536365     85123A   WHITE HANGING HEART T-LIGHT HOLDER         6   \n",
       "1     536365      71053                  WHITE METAL LANTERN         6   \n",
       "2     536365     84406B       CREAM CUPID HEARTS COAT HANGER         8   \n",
       "3     536365     84029G  KNITTED UNION FLAG HOT WATER BOTTLE         6   \n",
       "4     536365     84029E       RED WOOLLY HOTTIE WHITE HEART.         6   \n",
       "\n",
       "  invoice_date  unit_price  customer_id         country  \n",
       "0   2016-11-29        2.55      17850.0  United Kingdom  \n",
       "1   2016-11-29        3.39      17850.0  United Kingdom  \n",
       "2   2016-11-29        2.75      17850.0  United Kingdom  \n",
       "3   2016-11-29        3.39      17850.0  United Kingdom  \n",
       "4   2016-11-29        3.39      17850.0  United Kingdom  "
      ]
     },
     "execution_count": 4,
     "metadata": {},
     "output_type": "execute_result"
    }
   ],
   "source": [
    "df_raw.head()"
   ]
  },
  {
   "cell_type": "markdown",
   "id": "6e2a715b",
   "metadata": {},
   "source": [
    "## 2.2 Data Format and Types"
   ]
  },
  {
   "cell_type": "code",
   "execution_count": 5,
   "id": "c7a2ec2a",
   "metadata": {
    "ExecuteTime": {
     "end_time": "2022-06-06T14:23:32.342717Z",
     "start_time": "2022-06-06T14:23:32.072017Z"
    }
   },
   "outputs": [
    {
     "name": "stdout",
     "output_type": "stream",
     "text": [
      "<class 'pandas.core.frame.DataFrame'>\n",
      "RangeIndex: 541909 entries, 0 to 541908\n",
      "Data columns (total 8 columns):\n",
      " #   Column        Non-Null Count   Dtype         \n",
      "---  ------        --------------   -----         \n",
      " 0   invoice_no    541909 non-null  object        \n",
      " 1   stock_code    541909 non-null  object        \n",
      " 2   description   540455 non-null  object        \n",
      " 3   quantity      541909 non-null  int64         \n",
      " 4   invoice_date  541909 non-null  datetime64[ns]\n",
      " 5   unit_price    541909 non-null  float64       \n",
      " 6   customer_id   406829 non-null  float64       \n",
      " 7   country       541909 non-null  object        \n",
      "dtypes: datetime64[ns](1), float64(2), int64(1), object(4)\n",
      "memory usage: 33.1+ MB\n"
     ]
    }
   ],
   "source": [
    "df_raw.info()"
   ]
  },
  {
   "cell_type": "markdown",
   "id": "8cc4d584",
   "metadata": {},
   "source": [
    "## 2.3 NA Checking and Treatment"
   ]
  },
  {
   "cell_type": "code",
   "execution_count": 6,
   "id": "6e2cc836",
   "metadata": {
    "ExecuteTime": {
     "end_time": "2022-06-06T14:23:32.597776Z",
     "start_time": "2022-06-06T14:23:32.343728Z"
    }
   },
   "outputs": [
    {
     "data": {
      "text/plain": [
       "invoice_no           0\n",
       "stock_code           0\n",
       "description       1454\n",
       "quantity             0\n",
       "invoice_date         0\n",
       "unit_price           0\n",
       "customer_id     135080\n",
       "country              0\n",
       "dtype: int64"
      ]
     },
     "execution_count": 6,
     "metadata": {},
     "output_type": "execute_result"
    }
   ],
   "source": [
    "df_raw.isna().sum()"
   ]
  },
  {
   "cell_type": "markdown",
   "id": "a712cf41",
   "metadata": {},
   "source": [
    "### 2.3.1 Treating Missing Values"
   ]
  },
  {
   "cell_type": "code",
   "execution_count": 7,
   "id": "bf9e5153",
   "metadata": {
    "ExecuteTime": {
     "end_time": "2022-06-06T14:23:32.804851Z",
     "start_time": "2022-06-06T14:23:32.598777Z"
    }
   },
   "outputs": [],
   "source": [
    "# adding 'No description' to missing discription\n",
    "df_raw['description'].fillna(value='NO DESCRIPTION', inplace=True)\n",
    "\n",
    "# creating customers_id\n",
    "df_missing = df_raw.loc[df_raw['customer_id'].isna(), :]\n",
    "df_not_missing = df_raw.loc[~df_raw['customer_id'].isna(), :]\n",
    "\n",
    "df_backup = pd.DataFrame(df_missing['invoice_no'].drop_duplicates())\n",
    "df_backup['customer_id'] = np.arange(19000, 19000+len(df_backup), 1)\n",
    "\n",
    "# merge original with reference dataframe\n",
    "df_raw = pd.merge(df_raw, df_backup, on='invoice_no', how='left')\n",
    "\n",
    "# coalesce\n",
    "df_raw['customer_id'] = df_raw['customer_id_x'].combine_first(\n",
    "    df_raw['customer_id_y'])\n",
    "\n",
    "# drop extra columns\n",
    "df_raw = df_raw.drop(columns=['customer_id_x', 'customer_id_y'], axis=1)"
   ]
  },
  {
   "cell_type": "code",
   "execution_count": 8,
   "id": "9adf663b",
   "metadata": {
    "ExecuteTime": {
     "end_time": "2022-06-06T14:23:33.059900Z",
     "start_time": "2022-06-06T14:23:32.805851Z"
    }
   },
   "outputs": [
    {
     "data": {
      "text/plain": [
       "invoice_no      0\n",
       "stock_code      0\n",
       "description     0\n",
       "quantity        0\n",
       "invoice_date    0\n",
       "unit_price      0\n",
       "country         0\n",
       "customer_id     0\n",
       "dtype: int64"
      ]
     },
     "execution_count": 8,
     "metadata": {},
     "output_type": "execute_result"
    }
   ],
   "source": [
    "df_raw.isna().sum()"
   ]
  },
  {
   "cell_type": "markdown",
   "id": "358cebbb",
   "metadata": {},
   "source": [
    "## 2.4 Changing types"
   ]
  },
  {
   "cell_type": "code",
   "execution_count": 9,
   "id": "6a50142e",
   "metadata": {
    "ExecuteTime": {
     "end_time": "2022-06-06T14:23:33.075290Z",
     "start_time": "2022-06-06T14:23:33.061901Z"
    }
   },
   "outputs": [],
   "source": [
    "df_raw['customer_id'] = df_raw['customer_id'].astype( int )"
   ]
  },
  {
   "cell_type": "markdown",
   "id": "24ddd8b7",
   "metadata": {},
   "source": [
    "## 2.5 Discriptive Statistics"
   ]
  },
  {
   "cell_type": "code",
   "execution_count": 10,
   "id": "2119ae8f",
   "metadata": {
    "ExecuteTime": {
     "end_time": "2022-06-06T14:23:33.106668Z",
     "start_time": "2022-06-06T14:23:33.076283Z"
    }
   },
   "outputs": [],
   "source": [
    "df_clean = df_raw.copy()"
   ]
  },
  {
   "cell_type": "markdown",
   "id": "4d45c0af",
   "metadata": {},
   "source": [
    "### 2.5.1 Numerical Attributes"
   ]
  },
  {
   "cell_type": "markdown",
   "id": "a69a3b7b",
   "metadata": {},
   "source": [
    "Important findings:\n",
    "\n",
    "- We found a huge negative value in quantitiy (that can be due to product return, or cancelled purchase)\n",
    "- We found a zero minimum price (what is the root cause of this? promotions? coupons?)\n",
    "- We found a lot of negative values in quantity"
   ]
  },
  {
   "cell_type": "code",
   "execution_count": 11,
   "id": "ecd53e03",
   "metadata": {
    "ExecuteTime": {
     "end_time": "2022-06-06T14:23:33.137460Z",
     "start_time": "2022-06-06T14:23:33.107358Z"
    }
   },
   "outputs": [],
   "source": [
    "num_att = df_clean.select_dtypes(['int64', 'float64', 'int'])"
   ]
  },
  {
   "cell_type": "code",
   "execution_count": 12,
   "id": "6e04f09f",
   "metadata": {
    "ExecuteTime": {
     "end_time": "2022-06-06T14:23:33.217487Z",
     "start_time": "2022-06-06T14:23:33.138470Z"
    }
   },
   "outputs": [
    {
     "data": {
      "text/html": [
       "<div>\n",
       "<style scoped>\n",
       "    .dataframe tbody tr th:only-of-type {\n",
       "        vertical-align: middle;\n",
       "    }\n",
       "\n",
       "    .dataframe tbody tr th {\n",
       "        vertical-align: top;\n",
       "    }\n",
       "\n",
       "    .dataframe thead th {\n",
       "        text-align: right;\n",
       "    }\n",
       "</style>\n",
       "<table border=\"1\" class=\"dataframe\">\n",
       "  <thead>\n",
       "    <tr style=\"text-align: right;\">\n",
       "      <th></th>\n",
       "      <th>quantity</th>\n",
       "      <th>unit_price</th>\n",
       "      <th>customer_id</th>\n",
       "    </tr>\n",
       "  </thead>\n",
       "  <tbody>\n",
       "    <tr>\n",
       "      <th>count</th>\n",
       "      <td>541909.00</td>\n",
       "      <td>541909.00</td>\n",
       "      <td>541909.00</td>\n",
       "    </tr>\n",
       "    <tr>\n",
       "      <th>mean</th>\n",
       "      <td>9.55</td>\n",
       "      <td>4.61</td>\n",
       "      <td>16688.84</td>\n",
       "    </tr>\n",
       "    <tr>\n",
       "      <th>std</th>\n",
       "      <td>218.08</td>\n",
       "      <td>96.76</td>\n",
       "      <td>2911.41</td>\n",
       "    </tr>\n",
       "    <tr>\n",
       "      <th>min</th>\n",
       "      <td>-80995.00</td>\n",
       "      <td>-11062.06</td>\n",
       "      <td>12346.00</td>\n",
       "    </tr>\n",
       "    <tr>\n",
       "      <th>25%</th>\n",
       "      <td>1.00</td>\n",
       "      <td>1.25</td>\n",
       "      <td>14367.00</td>\n",
       "    </tr>\n",
       "    <tr>\n",
       "      <th>50%</th>\n",
       "      <td>3.00</td>\n",
       "      <td>2.08</td>\n",
       "      <td>16249.00</td>\n",
       "    </tr>\n",
       "    <tr>\n",
       "      <th>75%</th>\n",
       "      <td>10.00</td>\n",
       "      <td>4.13</td>\n",
       "      <td>18283.00</td>\n",
       "    </tr>\n",
       "    <tr>\n",
       "      <th>max</th>\n",
       "      <td>80995.00</td>\n",
       "      <td>38970.00</td>\n",
       "      <td>22709.00</td>\n",
       "    </tr>\n",
       "    <tr>\n",
       "      <th>skew</th>\n",
       "      <td>-0.26</td>\n",
       "      <td>186.51</td>\n",
       "      <td>0.49</td>\n",
       "    </tr>\n",
       "    <tr>\n",
       "      <th>kurtosis</th>\n",
       "      <td>119769.16</td>\n",
       "      <td>59005.72</td>\n",
       "      <td>-0.80</td>\n",
       "    </tr>\n",
       "  </tbody>\n",
       "</table>\n",
       "</div>"
      ],
      "text/plain": [
       "           quantity  unit_price  customer_id\n",
       "count     541909.00   541909.00    541909.00\n",
       "mean           9.55        4.61     16688.84\n",
       "std          218.08       96.76      2911.41\n",
       "min       -80995.00   -11062.06     12346.00\n",
       "25%            1.00        1.25     14367.00\n",
       "50%            3.00        2.08     16249.00\n",
       "75%           10.00        4.13     18283.00\n",
       "max        80995.00    38970.00     22709.00\n",
       "skew          -0.26      186.51         0.49\n",
       "kurtosis  119769.16    59005.72        -0.80"
      ]
     },
     "execution_count": 12,
     "metadata": {},
     "output_type": "execute_result"
    }
   ],
   "source": [
    "# getting skew\n",
    "skew = pd.DataFrame(num_att.apply(lambda x: x.skew())).round(2).T\n",
    "skew.rename(index={0: 'skew'}, inplace=True)\n",
    "\n",
    "# getting kurtosis\n",
    "kurtosis = pd.DataFrame(num_att.apply(lambda x: x.kurtosis())).round(2).T\n",
    "kurtosis.rename(index={0: 'kurtosis'}, inplace=True)\n",
    "\n",
    "# numerical features \n",
    "describe = num_att.describe().round(2)\n",
    "ma = pd.concat([describe, skew, kurtosis], axis=0)\n",
    "ma"
   ]
  },
  {
   "cell_type": "markdown",
   "id": "0bc4463d",
   "metadata": {},
   "source": [
    "### 2.5.2 Categorical Attributes"
   ]
  },
  {
   "cell_type": "code",
   "execution_count": 13,
   "id": "3f457bc6",
   "metadata": {
    "ExecuteTime": {
     "end_time": "2022-06-06T14:23:33.233502Z",
     "start_time": "2022-06-06T14:23:33.218488Z"
    }
   },
   "outputs": [],
   "source": [
    "cat_att = df_clean.select_dtypes(['object'])"
   ]
  },
  {
   "cell_type": "code",
   "execution_count": 14,
   "id": "09084307",
   "metadata": {
    "ExecuteTime": {
     "end_time": "2022-06-06T14:23:33.377427Z",
     "start_time": "2022-06-06T14:23:33.234503Z"
    }
   },
   "outputs": [
    {
     "data": {
      "text/plain": [
       "invoice_no     25900\n",
       "stock_code      4070\n",
       "description     4224\n",
       "country           38\n",
       "dtype: int64"
      ]
     },
     "execution_count": 14,
     "metadata": {},
     "output_type": "execute_result"
    }
   ],
   "source": [
    "cat_att.apply( lambda x: x.unique().shape[0] )"
   ]
  },
  {
   "cell_type": "code",
   "execution_count": 15,
   "id": "c1e76662",
   "metadata": {
    "ExecuteTime": {
     "end_time": "2022-06-06T14:23:34.015564Z",
     "start_time": "2022-06-06T14:23:33.378427Z"
    }
   },
   "outputs": [
    {
     "name": "stdout",
     "output_type": "stream",
     "text": [
      "Total number of invoices: 9291\n",
      "Total number of negative quantity: 9288\n"
     ]
    }
   ],
   "source": [
    "df_letter_invoices = df_clean.loc[df_clean['invoice_no'].apply( lambda x: bool( re.search( '[^0-9]+', x ) ) ), :]\n",
    "df_letter_invoices.head()\n",
    "\n",
    "print( 'Total number of invoices: {}'.format( len( df_letter_invoices ) ) )\n",
    "print( 'Total number of negative quantity: {}'.format( len( df_letter_invoices[ df_letter_invoices['quantity'] < 0 ] ) ) )"
   ]
  },
  {
   "cell_type": "markdown",
   "id": "33e0ce91",
   "metadata": {},
   "source": [
    "# 3 DATAFRAME FILTERING"
   ]
  },
  {
   "cell_type": "markdown",
   "id": "2f47ec1a",
   "metadata": {},
   "source": [
    "## 3.1 Line Filtering"
   ]
  },
  {
   "cell_type": "code",
   "execution_count": 16,
   "id": "6288ed3a",
   "metadata": {
    "ExecuteTime": {
     "end_time": "2022-06-06T14:23:34.255619Z",
     "start_time": "2022-06-06T14:23:34.016564Z"
    }
   },
   "outputs": [],
   "source": [
    "# filtering zero values in unit_price (WE WILL CONSIDER THESE ITEMS AS PROMO OR ERROR)\n",
    "df_clean.query('unit_price >= 0.04 ', inplace=True)\n",
    "\n",
    "# bad users (apresentam padroes de compra bastante desconexo, poluindo nosso modelo)\n",
    "df_clean = df_clean[~df_clean['customer_id'].isin([16446])]\n",
    "\n",
    "# Considering negative quantities as devolutions and positive quantities as real purchases\n",
    "df_clean_returns = df_clean.query('quantity < 0')\n",
    "df_clean = df_clean.query('quantity >=0')\n",
    "\n",
    "# removing stock codes that does not represent puchases\n",
    "df_clean = df_clean[~df_clean['stock_code'].isin(['POST', 'D', 'DOT', 'M', 'S', 'AMAZONFEE', 'm', 'DCGSSBOY',\n",
    "                                                  'DCGSSGIRL', 'PADS', 'B', 'CRUK'])]\n",
    "\n",
    "# removing innacurate country information\n",
    "df_clean = df_clean[~df_clean['country'].isin(\n",
    "    ['European Community', 'Unspecified'])]"
   ]
  },
  {
   "cell_type": "markdown",
   "id": "27b38a80",
   "metadata": {},
   "source": [
    "# 4 QUESTIONS & HYPOTHESIS"
   ]
  },
  {
   "cell_type": "code",
   "execution_count": 17,
   "id": "e0df3df6",
   "metadata": {
    "ExecuteTime": {
     "end_time": "2022-06-06T14:23:34.270980Z",
     "start_time": "2022-06-06T14:23:34.256618Z"
    }
   },
   "outputs": [
    {
     "data": {
      "image/jpeg": "[encoded data removed]",
      "text/plain": [
       "<IPython.core.display.Image object>"
      ]
     },
     "execution_count": 17,
     "metadata": {},
     "output_type": "execute_result"
    }
   ],
   "source": [
    "Image( '../images/mindmap.JPG' )"
   ]
  },
  {
   "cell_type": "code",
   "execution_count": 18,
   "id": "618fdb0a",
   "metadata": {
    "ExecuteTime": {
     "end_time": "2022-06-06T14:23:34.286987Z",
     "start_time": "2022-06-06T14:23:34.271981Z"
    }
   },
   "outputs": [
    {
     "data": {
      "image/jpeg": "[encoded data removed]",
      "text/plain": [
       "<IPython.core.display.Image object>"
      ]
     },
     "execution_count": 18,
     "metadata": {},
     "output_type": "execute_result"
    }
   ],
   "source": [
    "Image( '../images/rfm.JPG' )"
   ]
  },
  {
   "cell_type": "markdown",
   "id": "522054f5",
   "metadata": {},
   "source": [
    "Picture - https://medium.com/codex/crm-analytics-rfm-analysis-90aa2ae55fbc"
   ]
  },
  {
   "cell_type": "markdown",
   "id": "82b088dd",
   "metadata": {
    "ExecuteTime": {
     "end_time": "2022-06-06T14:15:03.976486Z",
     "start_time": "2022-06-06T14:15:03.958483Z"
    }
   },
   "source": [
    "**1.** \n",
    "\n",
    "**2.** \n",
    "\n",
    "**3.** \n",
    "\n",
    "**4.** \n",
    "\n",
    "**5.** \n",
    "\n",
    "**6.** \n",
    "\n",
    "**7.** \n",
    "\n",
    "**8.** "
   ]
  },
  {
   "cell_type": "markdown",
   "id": "b3c0cb6f",
   "metadata": {},
   "source": [
    "# 5 FEATURE ENGINEERING"
   ]
  },
  {
   "cell_type": "code",
   "execution_count": 19,
   "id": "a481f063",
   "metadata": {
    "ExecuteTime": {
     "end_time": "2022-06-06T14:23:34.318997Z",
     "start_time": "2022-06-06T14:23:34.287987Z"
    }
   },
   "outputs": [],
   "source": [
    "# ====================\n",
    "# CREATING RFM TABLE\n",
    "# ====================\n",
    "\n",
    "# initiating df_rfm table with customers IDs\n",
    "df_rfm = df_clean.drop( ['invoice_no', 'stock_code', 'description', \n",
    "                    'quantity', 'invoice_date', 'unit_price', \n",
    "                    'country'], axis=1 ).drop_duplicates( ignore_index=True )"
   ]
  },
  {
   "cell_type": "markdown",
   "id": "f28c4bde",
   "metadata": {},
   "source": [
    "## 5.1 Gross Revenue"
   ]
  },
  {
   "cell_type": "code",
   "execution_count": 20,
   "id": "ede1e3cc",
   "metadata": {
    "ExecuteTime": {
     "end_time": "2022-06-06T14:23:34.351004Z",
     "start_time": "2022-06-06T14:23:34.319997Z"
    }
   },
   "outputs": [],
   "source": [
    "# monetary\n",
    "df_clean['gross_revenue'] = df_clean['quantity'] * df_clean['unit_price']\n",
    "df_monetary = df_clean[['customer_id', 'gross_revenue']\n",
    "                       ].groupby('customer_id').sum().reset_index()\n",
    "df_rfm = pd.merge(df_rfm, df_monetary, on='customer_id', how='left')"
   ]
  },
  {
   "cell_type": "markdown",
   "id": "c84ac145",
   "metadata": {},
   "source": [
    "## 5.2 Recency Days"
   ]
  },
  {
   "cell_type": "code",
   "execution_count": 21,
   "id": "c5da5b06",
   "metadata": {
    "ExecuteTime": {
     "end_time": "2022-06-06T14:23:34.383013Z",
     "start_time": "2022-06-06T14:23:34.352005Z"
    }
   },
   "outputs": [],
   "source": [
    "# recency - last purchase\n",
    "df_recency = df_clean[['customer_id', 'invoice_date']\n",
    "                      ].groupby('customer_id').max().reset_index()\n",
    "df_recency['recency_days'] = (\n",
    "    df_clean['invoice_date'].max() - df_recency['invoice_date']).dt.days\n",
    "df_recency = df_recency[['customer_id', 'recency_days']].copy()\n",
    "df_rfm = pd.merge(df_rfm, df_recency, on='customer_id', how='left')"
   ]
  },
  {
   "cell_type": "markdown",
   "id": "486d4c82",
   "metadata": {},
   "source": [
    "## 5.3 Amount Invoices"
   ]
  },
  {
   "cell_type": "code",
   "execution_count": 22,
   "id": "c7bced87",
   "metadata": {
    "ExecuteTime": {
     "end_time": "2022-06-06T14:23:34.446954Z",
     "start_time": "2022-06-06T14:23:34.384014Z"
    }
   },
   "outputs": [],
   "source": [
    "# amount of purchases\n",
    "df_freq = df_clean[['customer_id', 'invoice_no']].drop_duplicates().groupby(\n",
    "    'customer_id').count().reset_index().rename(columns={'invoice_no': 'amount_invoices'})\n",
    "df_rfm = pd.merge(df_rfm, df_freq, on='customer_id', how='left')"
   ]
  },
  {
   "cell_type": "markdown",
   "id": "84062a63",
   "metadata": {},
   "source": [
    "## 5.4 Amount Items"
   ]
  },
  {
   "cell_type": "code",
   "execution_count": 23,
   "id": "c8c32f02",
   "metadata": {
    "ExecuteTime": {
     "end_time": "2022-06-06T14:23:34.478970Z",
     "start_time": "2022-06-06T14:23:34.447956Z"
    }
   },
   "outputs": [],
   "source": [
    "# amount of purchased items\n",
    "df_prod = df_clean[['customer_id', 'quantity']].groupby(\n",
    "    'customer_id').sum().reset_index().rename(columns={'quantity': 'amount_items'})\n",
    "df_rfm = pd.merge(df_rfm, df_prod, on='customer_id', how='left')"
   ]
  },
  {
   "cell_type": "markdown",
   "id": "0ae26642",
   "metadata": {},
   "source": [
    "## 5.5 Amount Products"
   ]
  },
  {
   "cell_type": "code",
   "execution_count": 24,
   "id": "44413f7f",
   "metadata": {
    "ExecuteTime": {
     "end_time": "2022-06-06T14:23:34.574996Z",
     "start_time": "2022-06-06T14:23:34.479972Z"
    }
   },
   "outputs": [],
   "source": [
    "# amount of purchased products\n",
    "# Numero de produtos\n",
    "df_freq = (df_clean.loc[:, ['customer_id', 'stock_code']].groupby( 'customer_id' ).count()\n",
    "                                                           .reset_index()\n",
    "                                                           .rename( columns={'stock_code': 'amount_products'} ) )\n",
    "df_rfm = pd.merge( df_rfm, df_freq, on='customer_id', how='left' )\n"
   ]
  },
  {
   "cell_type": "markdown",
   "id": "1c0e1d1e",
   "metadata": {},
   "source": [
    "## 5.6 Average Ticket"
   ]
  },
  {
   "cell_type": "code",
   "execution_count": 25,
   "id": "b1100cfc",
   "metadata": {
    "ExecuteTime": {
     "end_time": "2022-06-06T14:23:34.607118Z",
     "start_time": "2022-06-06T14:23:34.575996Z"
    }
   },
   "outputs": [],
   "source": [
    "# average ticket\n",
    "df_avg_ticket = df_clean[['customer_id', 'gross_revenue']].groupby(\n",
    "    'customer_id').mean().reset_index().rename(columns={'gross_revenue': 'avg_ticket'})\n",
    "df_rfm = pd.merge(df_rfm, df_avg_ticket, on='customer_id', how='left')"
   ]
  },
  {
   "cell_type": "markdown",
   "id": "0198e699",
   "metadata": {},
   "source": [
    "## 5.7 Amount Returns"
   ]
  },
  {
   "cell_type": "code",
   "execution_count": 26,
   "id": "8057ebee",
   "metadata": {
    "ExecuteTime": {
     "end_time": "2022-06-06T14:23:34.622698Z",
     "start_time": "2022-06-06T14:23:34.608119Z"
    }
   },
   "outputs": [],
   "source": [
    "# number of returns\n",
    "df_number_returns = df_clean_returns[['customer_id', 'quantity']].groupby(\n",
    "    'customer_id').sum().reset_index().rename(columns={'quantity': 'amount_returns'})\n",
    "df_number_returns['amount_returns'] = df_number_returns['amount_returns'] * -1\n",
    "df_rfm = pd.merge(df_rfm, df_number_returns, on='customer_id', how='left')\n",
    "df_rfm.loc[df_rfm['amount_returns'].isna(), 'amount_returns'] = 0\n",
    "# df_rfm['amount_returns'].fillna(value=0, inplace=True)"
   ]
  },
  {
   "cell_type": "markdown",
   "id": "6d53786a",
   "metadata": {},
   "source": [
    "## 5.8 Average Recency Days"
   ]
  },
  {
   "cell_type": "code",
   "execution_count": 27,
   "id": "effc937c",
   "metadata": {
    "ExecuteTime": {
     "end_time": "2022-06-06T14:23:34.638129Z",
     "start_time": "2022-06-06T14:23:34.627126Z"
    }
   },
   "outputs": [],
   "source": [
    "# # Average recency days\n",
    "# df_aux = df_clean[['customer_id', 'invoice_date']].drop_duplicates(\n",
    "# ).sort_values(['customer_id', 'invoice_date'], ascending=[False, False])\n",
    "# df_aux['next_customer_id'] = df_aux['customer_id'].shift()  # next customer\n",
    "# df_aux['previous_date'] = df_aux['invoice_date'].shift()  # next invoince date\n",
    "# df_aux['avg_recency_days'] = df_aux.apply(lambda x: (\n",
    "#     x['invoice_date'] - x['previous_date']).days if x['customer_id'] == x['next_customer_id'] else np.nan, axis=1)\n",
    "# df_aux = df_aux.drop(['invoice_date', 'next_customer_id',\n",
    "#                      'previous_date'], axis=1).dropna()\n",
    "\n",
    "# df_avg_recency_days = df_aux.groupby('customer_id').mean().reset_index()\n",
    "\n",
    "# df_rfm = pd.merge(df_rfm, df_avg_recency_days, on='customer_id', how='left')"
   ]
  },
  {
   "cell_type": "markdown",
   "id": "b2fe0279",
   "metadata": {},
   "source": [
    "## 5.9 Frequency"
   ]
  },
  {
   "cell_type": "code",
   "execution_count": 28,
   "id": "57e91b02",
   "metadata": {
    "ExecuteTime": {
     "end_time": "2022-06-06T14:23:35.676385Z",
     "start_time": "2022-06-06T14:23:34.639131Z"
    }
   },
   "outputs": [],
   "source": [
    "# frequency purchase\n",
    "df_aux = (df_clean[['customer_id', 'invoice_no', 'invoice_date']].drop_duplicates()\n",
    "          .groupby('customer_id')\n",
    "          .agg(max_=('invoice_date', 'max'),\n",
    "               min_=('invoice_date', 'min'),\n",
    "               days_=('invoice_date', lambda x: (\n",
    "                   (x.max() - x.min()).days) + 1),\n",
    "               buy_=('invoice_no', 'count'))).reset_index()\n",
    "\n",
    "df_aux['frequency'] = df_aux[['buy_', 'days_']].apply(\n",
    "    lambda x: x['buy_'] / x['days_'] if x['days_'] != 0 else 0, axis=1)\n",
    "df_rfm = pd.merge(\n",
    "    df_rfm, df_aux[['customer_id', 'frequency']], on='customer_id', how='left')"
   ]
  },
  {
   "cell_type": "markdown",
   "id": "83c9f8e7",
   "metadata": {},
   "source": [
    "## 5.10 Average Basket Size"
   ]
  },
  {
   "cell_type": "code",
   "execution_count": 29,
   "id": "4d052ab8",
   "metadata": {
    "ExecuteTime": {
     "end_time": "2022-06-06T14:23:35.756417Z",
     "start_time": "2022-06-06T14:23:35.677385Z"
    }
   },
   "outputs": [],
   "source": [
    "# basket size (Units by basket)\n",
    "df_aux = (df_clean.loc[:, ['customer_id', 'invoice_no', 'quantity']].groupby('customer_id')\n",
    "          .agg(n_purchase=('invoice_no', 'nunique'),\n",
    "               n_products=('quantity', 'sum'))\n",
    "          .reset_index())\n",
    "\n",
    "# calculation\n",
    "df_aux['avg_basket_size'] = df_aux['n_products'] / df_aux['n_purchase']\n",
    "\n",
    "# merge\n",
    "df_rfm = pd.merge(\n",
    "    df_rfm, df_aux[['customer_id', 'avg_basket_size']], how='left', on='customer_id')"
   ]
  },
  {
   "cell_type": "markdown",
   "id": "e4c14787",
   "metadata": {},
   "source": [
    "## 5.11 Average Unique Basket Size"
   ]
  },
  {
   "cell_type": "code",
   "execution_count": 30,
   "id": "6490de57",
   "metadata": {
    "ExecuteTime": {
     "end_time": "2022-06-06T14:23:35.932466Z",
     "start_time": "2022-06-06T14:23:35.757426Z"
    }
   },
   "outputs": [],
   "source": [
    "df_aux = (df_clean.loc[:, ['customer_id', 'invoice_no', 'stock_code']].groupby('customer_id')\n",
    "          .agg(n_purchase=('invoice_no', 'nunique'),\n",
    "               n_products=('stock_code', 'nunique'))\n",
    "          .reset_index())\n",
    "\n",
    "# calculation\n",
    "df_aux['avg_unique_basket_size'] = df_aux['n_products'] / df_aux['n_purchase']\n",
    "\n",
    "# merge\n",
    "df_rfm = pd.merge(df_rfm, df_aux[[\n",
    "                  'customer_id', 'avg_unique_basket_size']], how='left', on='customer_id')"
   ]
  },
  {
   "cell_type": "markdown",
   "id": "bdbe9b4d",
   "metadata": {},
   "source": [
    "# 6 STATISTICAL ANALYSIS"
   ]
  },
  {
   "cell_type": "code",
   "execution_count": 31,
   "id": "d4720046",
   "metadata": {
    "ExecuteTime": {
     "end_time": "2022-06-06T14:23:35.948471Z",
     "start_time": "2022-06-06T14:23:35.933460Z"
    }
   },
   "outputs": [
    {
     "data": {
      "text/plain": [
       "customer_id               0\n",
       "gross_revenue             0\n",
       "recency_days              0\n",
       "amount_invoices           0\n",
       "amount_items              0\n",
       "amount_products           0\n",
       "avg_ticket                0\n",
       "amount_returns            0\n",
       "frequency                 0\n",
       "avg_basket_size           0\n",
       "avg_unique_basket_size    0\n",
       "dtype: int64"
      ]
     },
     "execution_count": 31,
     "metadata": {},
     "output_type": "execute_result"
    }
   ],
   "source": [
    "df_rfm.isna().sum()"
   ]
  },
  {
   "cell_type": "code",
   "execution_count": 32,
   "id": "cb04c7af",
   "metadata": {
    "ExecuteTime": {
     "end_time": "2022-06-06T14:23:35.964476Z",
     "start_time": "2022-06-06T14:23:35.949481Z"
    }
   },
   "outputs": [],
   "source": [
    "df_rfm.dropna(inplace=True)"
   ]
  },
  {
   "cell_type": "markdown",
   "id": "afc90d4d",
   "metadata": {},
   "source": [
    "## 6.1 Report for Univariate Analysis"
   ]
  },
  {
   "cell_type": "code",
   "execution_count": 33,
   "id": "520666d9",
   "metadata": {
    "ExecuteTime": {
     "end_time": "2022-06-06T14:23:35.980482Z",
     "start_time": "2022-06-06T14:23:35.965477Z"
    }
   },
   "outputs": [],
   "source": [
    "# profile = ProfileReport( df_rfm )\n",
    "# profile.to_file( 'profile_report.html' )"
   ]
  },
  {
   "cell_type": "markdown",
   "id": "362bc74f",
   "metadata": {},
   "source": [
    "## 6.2 Multivariate Analysis\n"
   ]
  },
  {
   "cell_type": "code",
   "execution_count": 34,
   "id": "79fd5ad5",
   "metadata": {
    "ExecuteTime": {
     "end_time": "2022-06-06T14:23:36.619558Z",
     "start_time": "2022-06-06T14:23:35.981483Z"
    }
   },
   "outputs": [
    {
     "data": {
      "image/png": "[encoded data removed]",
      "text/plain": [
       "<Figure size 576x288 with 2 Axes>"
      ]
     },
     "metadata": {},
     "output_type": "display_data"
    }
   ],
   "source": [
    "correlation = df_rfm.corr( method='pearson' )\n",
    "plt.figure( figsize=(8, 4) )\n",
    "ax1 = sns.heatmap(data=correlation, annot=True, fmt='.2f', annot_kws={'fontsize':12, 'fontweight':'bold'})\n",
    "std_font(ax1, 'Heatmap of Numerical Attributes', '', '')"
   ]
  },
  {
   "cell_type": "markdown",
   "id": "c3a14179",
   "metadata": {},
   "source": [
    "# 7 FEATURE SELECTION"
   ]
  },
  {
   "cell_type": "code",
   "execution_count": 35,
   "id": "aceea09b",
   "metadata": {
    "ExecuteTime": {
     "end_time": "2022-06-06T14:23:36.635686Z",
     "start_time": "2022-06-06T14:23:36.620558Z"
    }
   },
   "outputs": [],
   "source": [
    "df_rfm_raw = df_rfm.copy()\n",
    "selected_cols = ['customer_id', 'gross_revenue', 'recency_days', 'amount_products', 'frequency', 'amount_returns']\n",
    "df_rfm = df_rfm[selected_cols].copy()"
   ]
  },
  {
   "cell_type": "markdown",
   "id": "00f01887",
   "metadata": {},
   "source": [
    "# 8 DATA PREPARATION"
   ]
  },
  {
   "cell_type": "markdown",
   "id": "cecfe9f2",
   "metadata": {},
   "source": [
    "## 8.1 Normalization"
   ]
  },
  {
   "cell_type": "code",
   "execution_count": 36,
   "id": "ff5520e0",
   "metadata": {
    "ExecuteTime": {
     "end_time": "2022-06-06T14:23:36.667750Z",
     "start_time": "2022-06-06T14:23:36.637687Z"
    }
   },
   "outputs": [],
   "source": [
    "## Standard Scalaer\n",
    "mm = pp.MinMaxScaler()\n",
    "\n",
    "df_rfm['gross_revenue']    = mm.fit_transform( df_rfm[['gross_revenue']] )\n",
    "df_rfm['recency_days']     = mm.fit_transform( df_rfm[['recency_days']] )\n",
    "df_rfm['amount_products']  = mm.fit_transform( df_rfm[['amount_products']])\n",
    "df_rfm['frequency']        = mm.fit_transform( df_rfm[['frequency']])\n",
    "df_rfm['amount_returns']   = mm.fit_transform( df_rfm[['amount_returns']])"
   ]
  },
  {
   "cell_type": "code",
   "execution_count": 37,
   "id": "d98c42ef",
   "metadata": {
    "ExecuteTime": {
     "end_time": "2022-06-06T14:23:36.683762Z",
     "start_time": "2022-06-06T14:23:36.668760Z"
    }
   },
   "outputs": [
    {
     "data": {
      "text/html": [
       "<div>\n",
       "<style scoped>\n",
       "    .dataframe tbody tr th:only-of-type {\n",
       "        vertical-align: middle;\n",
       "    }\n",
       "\n",
       "    .dataframe tbody tr th {\n",
       "        vertical-align: top;\n",
       "    }\n",
       "\n",
       "    .dataframe thead th {\n",
       "        text-align: right;\n",
       "    }\n",
       "</style>\n",
       "<table border=\"1\" class=\"dataframe\">\n",
       "  <thead>\n",
       "    <tr style=\"text-align: right;\">\n",
       "      <th></th>\n",
       "      <th>gross_revenue</th>\n",
       "      <th>recency_days</th>\n",
       "      <th>amount_products</th>\n",
       "      <th>frequency</th>\n",
       "      <th>amount_returns</th>\n",
       "    </tr>\n",
       "  </thead>\n",
       "  <tbody>\n",
       "    <tr>\n",
       "      <th>0</th>\n",
       "      <td>0.019312</td>\n",
       "      <td>0.997319</td>\n",
       "      <td>0.037770</td>\n",
       "      <td>1.000000</td>\n",
       "      <td>0.000539</td>\n",
       "    </tr>\n",
       "    <tr>\n",
       "      <th>1</th>\n",
       "      <td>0.011579</td>\n",
       "      <td>0.150134</td>\n",
       "      <td>0.021692</td>\n",
       "      <td>0.001345</td>\n",
       "      <td>0.000485</td>\n",
       "    </tr>\n",
       "    <tr>\n",
       "      <th>2</th>\n",
       "      <td>0.024020</td>\n",
       "      <td>0.005362</td>\n",
       "      <td>0.029476</td>\n",
       "      <td>0.002052</td>\n",
       "      <td>0.000687</td>\n",
       "    </tr>\n",
       "    <tr>\n",
       "      <th>3</th>\n",
       "      <td>0.003396</td>\n",
       "      <td>0.254692</td>\n",
       "      <td>0.003445</td>\n",
       "      <td>0.000734</td>\n",
       "      <td>0.000000</td>\n",
       "    </tr>\n",
       "    <tr>\n",
       "      <th>4</th>\n",
       "      <td>0.003137</td>\n",
       "      <td>0.892761</td>\n",
       "      <td>0.000255</td>\n",
       "      <td>0.003985</td>\n",
       "      <td>0.000296</td>\n",
       "    </tr>\n",
       "  </tbody>\n",
       "</table>\n",
       "</div>"
      ],
      "text/plain": [
       "   gross_revenue  recency_days  amount_products  frequency  amount_returns\n",
       "0       0.019312      0.997319         0.037770   1.000000        0.000539\n",
       "1       0.011579      0.150134         0.021692   0.001345        0.000485\n",
       "2       0.024020      0.005362         0.029476   0.002052        0.000687\n",
       "3       0.003396      0.254692         0.003445   0.000734        0.000000\n",
       "4       0.003137      0.892761         0.000255   0.003985        0.000296"
      ]
     },
     "execution_count": 37,
     "metadata": {},
     "output_type": "execute_result"
    }
   ],
   "source": [
    "X = df_rfm.drop(columns=['customer_id']).copy()\n",
    "X.head()"
   ]
  },
  {
   "cell_type": "markdown",
   "id": "4a3cd90a",
   "metadata": {},
   "source": [
    "## 8.2 Space Study"
   ]
  },
  {
   "cell_type": "markdown",
   "id": "7988a646",
   "metadata": {},
   "source": [
    "### 8.2.1 PCA"
   ]
  },
  {
   "cell_type": "code",
   "execution_count": 38,
   "id": "75f4e68f",
   "metadata": {
    "ExecuteTime": {
     "end_time": "2022-06-06T14:23:36.811153Z",
     "start_time": "2022-06-06T14:23:36.684755Z"
    }
   },
   "outputs": [
    {
     "data": {
      "image/png": "[encoded data removed]",
      "text/plain": [
       "<Figure size 576x396 with 1 Axes>"
      ]
     },
     "metadata": {},
     "output_type": "display_data"
    }
   ],
   "source": [
    "pca = dd.PCA( n_components=X.shape[1] )\n",
    "\n",
    "principal_components = pca.fit_transform( X )\n",
    "\n",
    "# plot explained variable\n",
    "features = range( pca.n_components_ )\n",
    "\n",
    "plt.bar( features, pca.explained_variance_ratio_, color='black' )\n",
    "\n",
    "# pca component\n",
    "df_pca = pd.DataFrame( principal_components )"
   ]
  },
  {
   "cell_type": "markdown",
   "id": "e2a6651c",
   "metadata": {},
   "source": [
    "### 8.2.2 UMAP"
   ]
  },
  {
   "cell_type": "code",
   "execution_count": 39,
   "id": "bfd80291",
   "metadata": {
    "ExecuteTime": {
     "end_time": "2022-06-06T14:23:56.395420Z",
     "start_time": "2022-06-06T14:23:36.812154Z"
    }
   },
   "outputs": [],
   "source": [
    "reducer = umap.UMAP( n_components=4, random_state=42 )\n",
    "embedding = reducer.fit_transform( X )\n",
    "\n",
    "# embedding\n",
    "df_umap = pd.DataFrame()\n",
    "df_umap['embedding_x'] = embedding[:, 0]\n",
    "df_umap['embedding_y'] = embedding[:, 1]\n",
    "df_umap['embedding_z'] = embedding[:, 2]\n",
    "df_umap['embedding_w'] = embedding[:, 3]\n",
    "# df_umap['embedding_u'] = embedding[:, 4]\n",
    "\n",
    "# # plot UMAP\n",
    "# sns.scatterplot( x='embedding_x', \n",
    "#                  y='embedding_y', \n",
    "#                  data=df_umap )"
   ]
  },
  {
   "cell_type": "markdown",
   "id": "28afb9b7",
   "metadata": {},
   "source": [
    "### 8.2.3 t-SNE"
   ]
  },
  {
   "cell_type": "code",
   "execution_count": 40,
   "id": "aeb782a8",
   "metadata": {
    "ExecuteTime": {
     "end_time": "2022-06-06T14:24:25.087923Z",
     "start_time": "2022-06-06T14:23:56.396419Z"
    }
   },
   "outputs": [],
   "source": [
    "reducer = mn.TSNE( n_components=3, n_jobs=-1, random_state=42 )\n",
    "embedding = reducer.fit_transform( X )\n",
    "\n",
    "# embedding\n",
    "df_tsne = pd.DataFrame()\n",
    "df_tsne['embedding_x'] = embedding[:, 0]\n",
    "df_tsne['embedding_y'] = embedding[:, 1]\n",
    "df_tsne['embedding_z'] = embedding[:, 2]\n",
    "\n",
    "# # plot UMAP\n",
    "# sns.scatterplot( x='embedding_x', \n",
    "#                  y='embedding_y', \n",
    "#                  data=df_tsne )"
   ]
  },
  {
   "cell_type": "markdown",
   "id": "14847fdd",
   "metadata": {},
   "source": [
    "### 8.2.4 TREE Based Embedding"
   ]
  },
  {
   "cell_type": "code",
   "execution_count": 41,
   "id": "d5fb5071",
   "metadata": {
    "ExecuteTime": {
     "end_time": "2022-06-06T14:24:34.117457Z",
     "start_time": "2022-06-06T14:24:25.088924Z"
    }
   },
   "outputs": [],
   "source": [
    "# training dataset\n",
    "X = df_rfm.drop( columns=['customer_id', 'gross_revenue'], axis=1 )\n",
    "y = df_rfm['gross_revenue']\n",
    "\n",
    "# model definition\n",
    "rf_model = en.RandomForestRegressor( n_estimators=100, random_state=42 )\n",
    "\n",
    "# model training\n",
    "rf_model.fit( X, y )\n",
    "\n",
    "# Leaf \n",
    "\n",
    "# dataframe Leaf\n",
    "\n",
    "df_leaf = pd.DataFrame( rf_model.apply( X ) )\n",
    "\n",
    "# Reduzer dimensionality\n",
    "reducer = umap.UMAP(n_components=5, random_state=42 )\n",
    "embedding = reducer.fit_transform( df_leaf )\n",
    "\n",
    "# embedding\n",
    "df_tree = pd.DataFrame()\n",
    "df_tree['embedding_x'] = embedding[:, 0]\n",
    "df_tree['embedding_y'] = embedding[:, 1]\n",
    "df_tree['embedding_z'] = embedding[:, 2]\n",
    "df_tree['embedding_w'] = embedding[:, 3]\n",
    "df_tree['embedding_u'] = embedding[:, 4]\n",
    "\n",
    "# # plot UMAP\n",
    "# sns.scatterplot( x='embedding_x', \n",
    "#                  y='embedding_y', \n",
    "#                  data=df_tree )"
   ]
  },
  {
   "cell_type": "code",
   "execution_count": 42,
   "id": "394281f5",
   "metadata": {
    "ExecuteTime": {
     "end_time": "2022-06-06T14:24:34.132463Z",
     "start_time": "2022-06-06T14:24:34.118467Z"
    }
   },
   "outputs": [],
   "source": [
    "# # Saving the embedded space\n",
    "# df_tree.to_csv('../data/embedded_space.csv', index=False)"
   ]
  },
  {
   "cell_type": "markdown",
   "id": "fbdc1432",
   "metadata": {},
   "source": [
    "# 9 CHOSEN MODEL"
   ]
  },
  {
   "cell_type": "code",
   "execution_count": 43,
   "id": "45e412cb",
   "metadata": {
    "ExecuteTime": {
     "end_time": "2022-06-06T14:24:34.148466Z",
     "start_time": "2022-06-06T14:24:34.134463Z"
    }
   },
   "outputs": [],
   "source": [
    "# Using Embedded Space\n",
    "X = df_umap.copy() "
   ]
  },
  {
   "cell_type": "code",
   "execution_count": 44,
   "id": "163eebc9",
   "metadata": {
    "ExecuteTime": {
     "end_time": "2022-06-06T14:24:34.484541Z",
     "start_time": "2022-06-06T14:24:34.150467Z"
    },
    "scrolled": true
   },
   "outputs": [],
   "source": [
    "# model definition\n",
    "k = 8\n",
    "kmeans = c.KMeans( init='random', n_clusters=k, n_init=10, max_iter=300, random_state=42 )\n",
    "\n",
    "# model training\n",
    "kmeans.fit( X )\n",
    "\n",
    "# clustering\n",
    "labels = kmeans.labels_"
   ]
  },
  {
   "cell_type": "code",
   "execution_count": 45,
   "id": "3240d64a",
   "metadata": {
    "ExecuteTime": {
     "end_time": "2022-06-06T14:24:34.500545Z",
     "start_time": "2022-06-06T14:24:34.485542Z"
    }
   },
   "outputs": [],
   "source": [
    "df_eda = X.copy()\n",
    "df_eda['cluster'] = labels\n",
    "df_rfm_raw['cluster'] = labels"
   ]
  },
  {
   "cell_type": "code",
   "execution_count": 46,
   "id": "8719e40d",
   "metadata": {
    "ExecuteTime": {
     "end_time": "2022-06-06T14:24:34.996658Z",
     "start_time": "2022-06-06T14:24:34.502546Z"
    }
   },
   "outputs": [
    {
     "name": "stdout",
     "output_type": "stream",
     "text": [
      "WSS value: 97056.125\n",
      "SS value: 0.5443276166915894\n"
     ]
    }
   ],
   "source": [
    "## WSS ( Within-cluster sum of square)\n",
    "print( 'WSS value: {}'.format( kmeans.inertia_ ) )\n",
    "\n",
    "## SS ( Silhouette Score )\n",
    "print( 'SS value: {}'.format( m.silhouette_score( X, labels, metric='euclidean' ) ) )"
   ]
  },
  {
   "cell_type": "markdown",
   "id": "5be8b1e2",
   "metadata": {},
   "source": [
    "# 10 BUSINESS PERFORMANCE"
   ]
  },
  {
   "cell_type": "code",
   "execution_count": 47,
   "id": "23fbeece",
   "metadata": {
    "ExecuteTime": {
     "end_time": "2022-06-06T14:24:35.012662Z",
     "start_time": "2022-06-06T14:24:34.997659Z"
    }
   },
   "outputs": [
    {
     "data": {
      "text/html": [
       "<div>\n",
       "<style scoped>\n",
       "    .dataframe tbody tr th:only-of-type {\n",
       "        vertical-align: middle;\n",
       "    }\n",
       "\n",
       "    .dataframe tbody tr th {\n",
       "        vertical-align: top;\n",
       "    }\n",
       "\n",
       "    .dataframe thead th {\n",
       "        text-align: right;\n",
       "    }\n",
       "</style>\n",
       "<table border=\"1\" class=\"dataframe\">\n",
       "  <thead>\n",
       "    <tr style=\"text-align: right;\">\n",
       "      <th></th>\n",
       "      <th>embedding_x</th>\n",
       "      <th>embedding_y</th>\n",
       "      <th>embedding_z</th>\n",
       "      <th>embedding_w</th>\n",
       "      <th>cluster</th>\n",
       "    </tr>\n",
       "  </thead>\n",
       "  <tbody>\n",
       "    <tr>\n",
       "      <th>0</th>\n",
       "      <td>-3.029993</td>\n",
       "      <td>9.952247</td>\n",
       "      <td>8.345515</td>\n",
       "      <td>1.701905</td>\n",
       "      <td>4</td>\n",
       "    </tr>\n",
       "    <tr>\n",
       "      <th>1</th>\n",
       "      <td>13.304445</td>\n",
       "      <td>13.189207</td>\n",
       "      <td>8.327514</td>\n",
       "      <td>8.831138</td>\n",
       "      <td>6</td>\n",
       "    </tr>\n",
       "    <tr>\n",
       "      <th>2</th>\n",
       "      <td>11.384762</td>\n",
       "      <td>9.170521</td>\n",
       "      <td>15.499040</td>\n",
       "      <td>-3.444309</td>\n",
       "      <td>3</td>\n",
       "    </tr>\n",
       "    <tr>\n",
       "      <th>3</th>\n",
       "      <td>10.469833</td>\n",
       "      <td>7.522410</td>\n",
       "      <td>7.934718</td>\n",
       "      <td>10.154498</td>\n",
       "      <td>6</td>\n",
       "    </tr>\n",
       "    <tr>\n",
       "      <th>4</th>\n",
       "      <td>8.770447</td>\n",
       "      <td>-0.304306</td>\n",
       "      <td>8.852541</td>\n",
       "      <td>13.856702</td>\n",
       "      <td>6</td>\n",
       "    </tr>\n",
       "  </tbody>\n",
       "</table>\n",
       "</div>"
      ],
      "text/plain": [
       "   embedding_x  embedding_y  embedding_z  embedding_w  cluster\n",
       "0    -3.029993     9.952247     8.345515     1.701905        4\n",
       "1    13.304445    13.189207     8.327514     8.831138        6\n",
       "2    11.384762     9.170521    15.499040    -3.444309        3\n",
       "3    10.469833     7.522410     7.934718    10.154498        6\n",
       "4     8.770447    -0.304306     8.852541    13.856702        6"
      ]
     },
     "execution_count": 47,
     "metadata": {},
     "output_type": "execute_result"
    }
   ],
   "source": [
    "df_cluster_embed = X.copy()\n",
    "df_cluster_embed['cluster'] = labels\n",
    "df_cluster_embed.head()"
   ]
  },
  {
   "cell_type": "code",
   "execution_count": 48,
   "id": "1417ea6d",
   "metadata": {
    "ExecuteTime": {
     "end_time": "2022-06-06T14:24:35.028539Z",
     "start_time": "2022-06-06T14:24:35.013662Z"
    }
   },
   "outputs": [],
   "source": [
    "# sns.scatterplot( x='embedding_x', y='embedding_y', hue='cluster', data=df_cluster_embed, palette='deep')"
   ]
  },
  {
   "cell_type": "markdown",
   "id": "3a332e96",
   "metadata": {},
   "source": [
    "## 10.1 Final Dataframe With Clusters"
   ]
  },
  {
   "cell_type": "code",
   "execution_count": 49,
   "id": "a55e5cbc",
   "metadata": {
    "ExecuteTime": {
     "end_time": "2022-06-06T14:24:35.075690Z",
     "start_time": "2022-06-06T14:24:35.029680Z"
    }
   },
   "outputs": [
    {
     "data": {
      "text/html": [
       "<div>\n",
       "<style scoped>\n",
       "    .dataframe tbody tr th:only-of-type {\n",
       "        vertical-align: middle;\n",
       "    }\n",
       "\n",
       "    .dataframe tbody tr th {\n",
       "        vertical-align: top;\n",
       "    }\n",
       "\n",
       "    .dataframe thead th {\n",
       "        text-align: right;\n",
       "    }\n",
       "</style>\n",
       "<table border=\"1\" class=\"dataframe\">\n",
       "  <thead>\n",
       "    <tr style=\"text-align: right;\">\n",
       "      <th></th>\n",
       "      <th>cluster</th>\n",
       "      <th>customer_id</th>\n",
       "      <th>perc_customer</th>\n",
       "      <th>gross_revenue</th>\n",
       "      <th>recency_days</th>\n",
       "      <th>amount_products</th>\n",
       "      <th>frequency</th>\n",
       "      <th>amount_returns</th>\n",
       "    </tr>\n",
       "  </thead>\n",
       "  <tbody>\n",
       "    <tr>\n",
       "      <th>0</th>\n",
       "      <td>0</td>\n",
       "      <td>436</td>\n",
       "      <td>7.655838</td>\n",
       "      <td>526.068372</td>\n",
       "      <td>258.018349</td>\n",
       "      <td>43.208716</td>\n",
       "      <td>1.018349</td>\n",
       "      <td>1.360092</td>\n",
       "    </tr>\n",
       "    <tr>\n",
       "      <th>1</th>\n",
       "      <td>1</td>\n",
       "      <td>508</td>\n",
       "      <td>8.920105</td>\n",
       "      <td>614.771890</td>\n",
       "      <td>71.114173</td>\n",
       "      <td>46.501969</td>\n",
       "      <td>1.058024</td>\n",
       "      <td>6.198819</td>\n",
       "    </tr>\n",
       "    <tr>\n",
       "      <th>2</th>\n",
       "      <td>2</td>\n",
       "      <td>452</td>\n",
       "      <td>7.936787</td>\n",
       "      <td>970.335310</td>\n",
       "      <td>20.681416</td>\n",
       "      <td>80.353982</td>\n",
       "      <td>0.998709</td>\n",
       "      <td>1.283186</td>\n",
       "    </tr>\n",
       "    <tr>\n",
       "      <th>3</th>\n",
       "      <td>3</td>\n",
       "      <td>1838</td>\n",
       "      <td>32.273924</td>\n",
       "      <td>3717.091970</td>\n",
       "      <td>18.852013</td>\n",
       "      <td>163.760609</td>\n",
       "      <td>0.039972</td>\n",
       "      <td>42.933079</td>\n",
       "    </tr>\n",
       "    <tr>\n",
       "      <th>4</th>\n",
       "      <td>4</td>\n",
       "      <td>277</td>\n",
       "      <td>4.863916</td>\n",
       "      <td>906.624801</td>\n",
       "      <td>362.581227</td>\n",
       "      <td>65.126354</td>\n",
       "      <td>1.051473</td>\n",
       "      <td>2.490975</td>\n",
       "    </tr>\n",
       "    <tr>\n",
       "      <th>5</th>\n",
       "      <td>5</td>\n",
       "      <td>356</td>\n",
       "      <td>6.251097</td>\n",
       "      <td>857.132837</td>\n",
       "      <td>311.974719</td>\n",
       "      <td>63.997191</td>\n",
       "      <td>1.005618</td>\n",
       "      <td>210.376404</td>\n",
       "    </tr>\n",
       "    <tr>\n",
       "      <th>6</th>\n",
       "      <td>6</td>\n",
       "      <td>916</td>\n",
       "      <td>16.084284</td>\n",
       "      <td>1231.994727</td>\n",
       "      <td>129.581878</td>\n",
       "      <td>62.990175</td>\n",
       "      <td>0.034100</td>\n",
       "      <td>22.239083</td>\n",
       "    </tr>\n",
       "    <tr>\n",
       "      <th>7</th>\n",
       "      <td>7</td>\n",
       "      <td>912</td>\n",
       "      <td>16.014047</td>\n",
       "      <td>666.228388</td>\n",
       "      <td>156.894737</td>\n",
       "      <td>53.854167</td>\n",
       "      <td>1.019737</td>\n",
       "      <td>3.419956</td>\n",
       "    </tr>\n",
       "  </tbody>\n",
       "</table>\n",
       "</div>"
      ],
      "text/plain": [
       "   cluster  customer_id  perc_customer  gross_revenue  recency_days  \\\n",
       "0        0          436       7.655838     526.068372    258.018349   \n",
       "1        1          508       8.920105     614.771890     71.114173   \n",
       "2        2          452       7.936787     970.335310     20.681416   \n",
       "3        3         1838      32.273924    3717.091970     18.852013   \n",
       "4        4          277       4.863916     906.624801    362.581227   \n",
       "5        5          356       6.251097     857.132837    311.974719   \n",
       "6        6          916      16.084284    1231.994727    129.581878   \n",
       "7        7          912      16.014047     666.228388    156.894737   \n",
       "\n",
       "   amount_products  frequency  amount_returns  \n",
       "0        43.208716   1.018349        1.360092  \n",
       "1        46.501969   1.058024        6.198819  \n",
       "2        80.353982   0.998709        1.283186  \n",
       "3       163.760609   0.039972       42.933079  \n",
       "4        65.126354   1.051473        2.490975  \n",
       "5        63.997191   1.005618      210.376404  \n",
       "6        62.990175   0.034100       22.239083  \n",
       "7        53.854167   1.019737        3.419956  "
      ]
     },
     "execution_count": 49,
     "metadata": {},
     "output_type": "execute_result"
    }
   ],
   "source": [
    "# Number of customer\n",
    "df_cluster = df_rfm_raw[['customer_id', 'cluster']].groupby( 'cluster' ).count().reset_index()\n",
    "df_cluster['perc_customer'] = 100*( df_cluster['customer_id'] / df_cluster['customer_id'].sum() )\n",
    "\n",
    "# Avg Gross revenue\n",
    "df_avg_gross_revenue = df_rfm_raw[['gross_revenue', 'cluster']].groupby( 'cluster' ).mean().reset_index()\n",
    "df_cluster = pd.merge( df_cluster, df_avg_gross_revenue, how='inner', on='cluster' )\n",
    "\n",
    "# Avg recency days\n",
    "df_avg_recency_days = df_rfm_raw[['recency_days', 'cluster']].groupby( 'cluster' ).mean().reset_index()\n",
    "df_cluster = pd.merge( df_cluster, df_avg_recency_days, how='inner', on='cluster' )\n",
    "\n",
    "# Avg products_no\n",
    "df_invoice_no = df_rfm_raw[['amount_products', 'cluster']].groupby( 'cluster' ).mean().reset_index()\n",
    "df_cluster = pd.merge( df_cluster, df_invoice_no, how='inner', on='cluster' )\n",
    "\n",
    "# Frequency\n",
    "df_invoice_no = df_rfm_raw[['frequency', 'cluster']].groupby( 'cluster' ).mean().reset_index()\n",
    "df_cluster = pd.merge( df_cluster, df_invoice_no, how='inner', on='cluster' )\n",
    "\n",
    "# Returns\n",
    "df_invoice_no = df_rfm_raw[['amount_returns', 'cluster']].groupby( 'cluster' ).mean().reset_index()\n",
    "df_cluster = pd.merge( df_cluster, df_invoice_no, how='inner', on='cluster' )\n",
    "\n",
    "# df_cluster"
   ]
  },
  {
   "cell_type": "code",
   "execution_count": 50,
   "id": "a9cea4cd",
   "metadata": {
    "ExecuteTime": {
     "end_time": "2022-06-06T14:24:35.123701Z",
     "start_time": "2022-06-06T14:24:35.076690Z"
    }
   },
   "outputs": [
    {
     "data": {
      "text/html": [
       "<style type=\"text/css\">\n",
       "#T_c2d72_row0_col3, #T_c2d72_row0_col5, #T_c2d72_row4_col4, #T_c2d72_row5_col7, #T_c2d72_row6_col6 {\n",
       "  background-color: pink;\n",
       "}\n",
       "#T_c2d72_row1_col6, #T_c2d72_row2_col7, #T_c2d72_row3_col3, #T_c2d72_row3_col4, #T_c2d72_row3_col5 {\n",
       "  background-color: lightgreen;\n",
       "}\n",
       "</style>\n",
       "<table id=\"T_c2d72\">\n",
       "  <thead>\n",
       "    <tr>\n",
       "      <th class=\"blank level0\" >&nbsp;</th>\n",
       "      <th id=\"T_c2d72_level0_col0\" class=\"col_heading level0 col0\" >cluster</th>\n",
       "      <th id=\"T_c2d72_level0_col1\" class=\"col_heading level0 col1\" >customer_id</th>\n",
       "      <th id=\"T_c2d72_level0_col2\" class=\"col_heading level0 col2\" >perc_customer</th>\n",
       "      <th id=\"T_c2d72_level0_col3\" class=\"col_heading level0 col3\" >gross_revenue</th>\n",
       "      <th id=\"T_c2d72_level0_col4\" class=\"col_heading level0 col4\" >recency_days</th>\n",
       "      <th id=\"T_c2d72_level0_col5\" class=\"col_heading level0 col5\" >amount_products</th>\n",
       "      <th id=\"T_c2d72_level0_col6\" class=\"col_heading level0 col6\" >frequency</th>\n",
       "      <th id=\"T_c2d72_level0_col7\" class=\"col_heading level0 col7\" >amount_returns</th>\n",
       "    </tr>\n",
       "  </thead>\n",
       "  <tbody>\n",
       "    <tr>\n",
       "      <th id=\"T_c2d72_level0_row0\" class=\"row_heading level0 row0\" >0</th>\n",
       "      <td id=\"T_c2d72_row0_col0\" class=\"data row0 col0\" >0</td>\n",
       "      <td id=\"T_c2d72_row0_col1\" class=\"data row0 col1\" >436</td>\n",
       "      <td id=\"T_c2d72_row0_col2\" class=\"data row0 col2\" >7.655838</td>\n",
       "      <td id=\"T_c2d72_row0_col3\" class=\"data row0 col3\" >526.068372</td>\n",
       "      <td id=\"T_c2d72_row0_col4\" class=\"data row0 col4\" >258.018349</td>\n",
       "      <td id=\"T_c2d72_row0_col5\" class=\"data row0 col5\" >43.208716</td>\n",
       "      <td id=\"T_c2d72_row0_col6\" class=\"data row0 col6\" >1.018349</td>\n",
       "      <td id=\"T_c2d72_row0_col7\" class=\"data row0 col7\" >1.360092</td>\n",
       "    </tr>\n",
       "    <tr>\n",
       "      <th id=\"T_c2d72_level0_row1\" class=\"row_heading level0 row1\" >1</th>\n",
       "      <td id=\"T_c2d72_row1_col0\" class=\"data row1 col0\" >1</td>\n",
       "      <td id=\"T_c2d72_row1_col1\" class=\"data row1 col1\" >508</td>\n",
       "      <td id=\"T_c2d72_row1_col2\" class=\"data row1 col2\" >8.920105</td>\n",
       "      <td id=\"T_c2d72_row1_col3\" class=\"data row1 col3\" >614.771890</td>\n",
       "      <td id=\"T_c2d72_row1_col4\" class=\"data row1 col4\" >71.114173</td>\n",
       "      <td id=\"T_c2d72_row1_col5\" class=\"data row1 col5\" >46.501969</td>\n",
       "      <td id=\"T_c2d72_row1_col6\" class=\"data row1 col6\" >1.058024</td>\n",
       "      <td id=\"T_c2d72_row1_col7\" class=\"data row1 col7\" >6.198819</td>\n",
       "    </tr>\n",
       "    <tr>\n",
       "      <th id=\"T_c2d72_level0_row2\" class=\"row_heading level0 row2\" >2</th>\n",
       "      <td id=\"T_c2d72_row2_col0\" class=\"data row2 col0\" >2</td>\n",
       "      <td id=\"T_c2d72_row2_col1\" class=\"data row2 col1\" >452</td>\n",
       "      <td id=\"T_c2d72_row2_col2\" class=\"data row2 col2\" >7.936787</td>\n",
       "      <td id=\"T_c2d72_row2_col3\" class=\"data row2 col3\" >970.335310</td>\n",
       "      <td id=\"T_c2d72_row2_col4\" class=\"data row2 col4\" >20.681416</td>\n",
       "      <td id=\"T_c2d72_row2_col5\" class=\"data row2 col5\" >80.353982</td>\n",
       "      <td id=\"T_c2d72_row2_col6\" class=\"data row2 col6\" >0.998709</td>\n",
       "      <td id=\"T_c2d72_row2_col7\" class=\"data row2 col7\" >1.283186</td>\n",
       "    </tr>\n",
       "    <tr>\n",
       "      <th id=\"T_c2d72_level0_row3\" class=\"row_heading level0 row3\" >3</th>\n",
       "      <td id=\"T_c2d72_row3_col0\" class=\"data row3 col0\" >3</td>\n",
       "      <td id=\"T_c2d72_row3_col1\" class=\"data row3 col1\" >1838</td>\n",
       "      <td id=\"T_c2d72_row3_col2\" class=\"data row3 col2\" >32.273924</td>\n",
       "      <td id=\"T_c2d72_row3_col3\" class=\"data row3 col3\" >3717.091970</td>\n",
       "      <td id=\"T_c2d72_row3_col4\" class=\"data row3 col4\" >18.852013</td>\n",
       "      <td id=\"T_c2d72_row3_col5\" class=\"data row3 col5\" >163.760609</td>\n",
       "      <td id=\"T_c2d72_row3_col6\" class=\"data row3 col6\" >0.039972</td>\n",
       "      <td id=\"T_c2d72_row3_col7\" class=\"data row3 col7\" >42.933079</td>\n",
       "    </tr>\n",
       "    <tr>\n",
       "      <th id=\"T_c2d72_level0_row4\" class=\"row_heading level0 row4\" >4</th>\n",
       "      <td id=\"T_c2d72_row4_col0\" class=\"data row4 col0\" >4</td>\n",
       "      <td id=\"T_c2d72_row4_col1\" class=\"data row4 col1\" >277</td>\n",
       "      <td id=\"T_c2d72_row4_col2\" class=\"data row4 col2\" >4.863916</td>\n",
       "      <td id=\"T_c2d72_row4_col3\" class=\"data row4 col3\" >906.624801</td>\n",
       "      <td id=\"T_c2d72_row4_col4\" class=\"data row4 col4\" >362.581227</td>\n",
       "      <td id=\"T_c2d72_row4_col5\" class=\"data row4 col5\" >65.126354</td>\n",
       "      <td id=\"T_c2d72_row4_col6\" class=\"data row4 col6\" >1.051473</td>\n",
       "      <td id=\"T_c2d72_row4_col7\" class=\"data row4 col7\" >2.490975</td>\n",
       "    </tr>\n",
       "    <tr>\n",
       "      <th id=\"T_c2d72_level0_row5\" class=\"row_heading level0 row5\" >5</th>\n",
       "      <td id=\"T_c2d72_row5_col0\" class=\"data row5 col0\" >5</td>\n",
       "      <td id=\"T_c2d72_row5_col1\" class=\"data row5 col1\" >356</td>\n",
       "      <td id=\"T_c2d72_row5_col2\" class=\"data row5 col2\" >6.251097</td>\n",
       "      <td id=\"T_c2d72_row5_col3\" class=\"data row5 col3\" >857.132837</td>\n",
       "      <td id=\"T_c2d72_row5_col4\" class=\"data row5 col4\" >311.974719</td>\n",
       "      <td id=\"T_c2d72_row5_col5\" class=\"data row5 col5\" >63.997191</td>\n",
       "      <td id=\"T_c2d72_row5_col6\" class=\"data row5 col6\" >1.005618</td>\n",
       "      <td id=\"T_c2d72_row5_col7\" class=\"data row5 col7\" >210.376404</td>\n",
       "    </tr>\n",
       "    <tr>\n",
       "      <th id=\"T_c2d72_level0_row6\" class=\"row_heading level0 row6\" >6</th>\n",
       "      <td id=\"T_c2d72_row6_col0\" class=\"data row6 col0\" >6</td>\n",
       "      <td id=\"T_c2d72_row6_col1\" class=\"data row6 col1\" >916</td>\n",
       "      <td id=\"T_c2d72_row6_col2\" class=\"data row6 col2\" >16.084284</td>\n",
       "      <td id=\"T_c2d72_row6_col3\" class=\"data row6 col3\" >1231.994727</td>\n",
       "      <td id=\"T_c2d72_row6_col4\" class=\"data row6 col4\" >129.581878</td>\n",
       "      <td id=\"T_c2d72_row6_col5\" class=\"data row6 col5\" >62.990175</td>\n",
       "      <td id=\"T_c2d72_row6_col6\" class=\"data row6 col6\" >0.034100</td>\n",
       "      <td id=\"T_c2d72_row6_col7\" class=\"data row6 col7\" >22.239083</td>\n",
       "    </tr>\n",
       "    <tr>\n",
       "      <th id=\"T_c2d72_level0_row7\" class=\"row_heading level0 row7\" >7</th>\n",
       "      <td id=\"T_c2d72_row7_col0\" class=\"data row7 col0\" >7</td>\n",
       "      <td id=\"T_c2d72_row7_col1\" class=\"data row7 col1\" >912</td>\n",
       "      <td id=\"T_c2d72_row7_col2\" class=\"data row7 col2\" >16.014047</td>\n",
       "      <td id=\"T_c2d72_row7_col3\" class=\"data row7 col3\" >666.228388</td>\n",
       "      <td id=\"T_c2d72_row7_col4\" class=\"data row7 col4\" >156.894737</td>\n",
       "      <td id=\"T_c2d72_row7_col5\" class=\"data row7 col5\" >53.854167</td>\n",
       "      <td id=\"T_c2d72_row7_col6\" class=\"data row7 col6\" >1.019737</td>\n",
       "      <td id=\"T_c2d72_row7_col7\" class=\"data row7 col7\" >3.419956</td>\n",
       "    </tr>\n",
       "  </tbody>\n",
       "</table>\n"
      ],
      "text/plain": [
       "<pandas.io.formats.style.Styler at 0x234208dc250>"
      ]
     },
     "execution_count": 50,
     "metadata": {},
     "output_type": "execute_result"
    }
   ],
   "source": [
    "df_cluster.style.highlight_max(subset=['gross_revenue', 'amount_products', 'frequency'], color='lightgreen', axis=0 )\\\n",
    ".highlight_min(subset=['recency_days', 'amount_returns'], color='lightgreen', axis=0 )\\\n",
    ".highlight_max(subset=['recency_days', 'amount_returns'], color='pink', axis=0 )\\\n",
    ".highlight_min(subset=['gross_revenue', 'amount_products', 'frequency'], color='pink', axis=0 )"
   ]
  },
  {
   "cell_type": "markdown",
   "id": "7c2785f1",
   "metadata": {},
   "source": [
    "Cluster A: \n",
    "- Number of customers: 1838 (32.3% of customers )\n",
    "- Average Recency: 18.8 days\n",
    "- Average invoice_no: 163.7 \n",
    "- Average Gross Revenue: U\\$3,717.10\n",
    "- Average purchases/day: 0.04\n",
    "- Average products return: 42.9\n",
    "\n",
    "Cluster B:\n",
    "- Number of customers: 916 (16% of customers )\n",
    "- Average Recency: 129.6 days\n",
    "- Average invoice_no: 63\n",
    "- Average Gross Revenue: U\\$1,231.99\n",
    "- Average purchases/day: 0.03\n",
    "- Average products return: 22.2\n",
    "\n",
    "Cluster C:\n",
    "- Number of customers: 452 (7.9% of customers )\n",
    "- Average Recency: 20.68 days\n",
    "- Average invoice_no: 80.35 \n",
    "- Average Gross Revenue: U\\$970.33\n",
    "- Average purchases/day: 0.99\n",
    "- Average products return: 1.28\n",
    "\n",
    "Cluster D:\n",
    "- Number of customers: 277 (4.86% of customers )\n",
    "- Average Recency: 362.58 days\n",
    "- Average invoice_no: 65.1 \n",
    "- Average Gross Revenue: U\\$906.60\n",
    "- Average purchases/day: 1.05\n",
    "- Average products return: 2.49\n",
    "\n",
    "Cluster E:\n",
    "- Number of customers: 356 (6.25% of customers )\n",
    "- Average Recency: 312 days\n",
    "- Average invoice_no: 64 \n",
    "- Average Gross Revenue: U\\$857.13\n",
    "- Average purchases/day: 1\n",
    "- Average products return: 210.4\n",
    "\n",
    "Cluster F:\n",
    "- Number of customers: 912 (16% of customers )\n",
    "- Average Recency: 157 days\n",
    "- Average invoice_no: 53.8 \n",
    "- Average Gross Revenue: U\\$666.2\n",
    "- Average purchases/day: 1\n",
    "- Average products return: 3.4\n",
    "\n",
    "Cluster G:\n",
    "- Number of customers: 508 (8.9% of customers )\n",
    "- Average Recency: 71.11 days\n",
    "- Average invoice_no: 46.5 \n",
    "- Average Gross Revenue: U\\$614.77\n",
    "- Average purchases/day: 1\n",
    "- Average products return: 6.2\n",
    "\n",
    "Cluster H:\n",
    "- Number of customers: 436 (7.65% of customers )\n",
    "- Average Recency: 258 days\n",
    "- Average invoice_no: 43 \n",
    "- Average Gross Revenue: U\\$526.00\n",
    "- Average purchases/day: 1\n",
    "- Average products return: 1.3"
   ]
  }
 ],
 "metadata": {
  "kernelspec": {
   "display_name": "Python 3 (ipykernel)",
   "language": "python",
   "name": "python3"
  },
  "language_info": {
   "codemirror_mode": {
    "name": "ipython",
    "version": 3
   },
   "file_extension": ".py",
   "mimetype": "text/x-python",
   "name": "python",
   "nbconvert_exporter": "python",
   "pygments_lexer": "ipython3",
   "version": "3.8.11"
  },
  "toc": {
   "base_numbering": 1,
   "nav_menu": {},
   "number_sections": true,
   "sideBar": true,
   "skip_h1_title": false,
   "title_cell": "Table of Contents",
   "title_sidebar": "Contents",
   "toc_cell": false,
   "toc_position": {
    "height": "calc(100% - 180px)",
    "left": "10px",
    "top": "150px",
    "width": "306px"
   },
   "toc_section_display": true,
   "toc_window_display": false
  },
  "varInspector": {
   "cols": {
    "lenName": 16,
    "lenType": 16,
    "lenVar": 40
   },
   "kernels_config": {
    "python": {
     "delete_cmd_postfix": "",
     "delete_cmd_prefix": "del ",
     "library": "var_list.py",
     "varRefreshCmd": "print(var_dic_list())"
    },
    "r": {
     "delete_cmd_postfix": ") ",
     "delete_cmd_prefix": "rm(",
     "library": "var_list.r",
     "varRefreshCmd": "cat(var_dic_list()) "
    }
   },
   "position": {
    "height": "298.844px",
    "left": "1384px",
    "right": "20px",
    "top": "121px",
    "width": "504px"
   },
   "types_to_exclude": [
    "module",
    "function",
    "builtin_function_or_method",
    "instance",
    "_Feature"
   ],
   "window_display": false
  }
 },
 "nbformat": 4,
 "nbformat_minor": 5
}
