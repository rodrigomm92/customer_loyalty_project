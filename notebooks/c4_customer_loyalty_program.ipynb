{
 "cells": [
  {
   "cell_type": "markdown",
   "id": "851ff978",
   "metadata": {},
   "source": [
    "In this cycle we:\n",
    "\n",
    "- We'll try to recover the 135080 customers id, that was previously null (it may contain valuable info)\n",
    "- "
   ]
  },
  {
   "cell_type": "markdown",
   "id": "adc4a43b",
   "metadata": {},
   "source": [
    "# 1 IMPORTS"
   ]
  },
  {
   "cell_type": "code",
   "execution_count": 1,
   "id": "f32501a9",
   "metadata": {
    "ExecuteTime": {
     "end_time": "2022-05-17T20:33:12.182172Z",
     "start_time": "2022-05-17T20:33:01.919740Z"
    }
   },
   "outputs": [],
   "source": [
    "import re\n",
    "import pandas as pd\n",
    "import inflection\n",
    "import seaborn as sns\n",
    "import numpy as np\n",
    "import umap.umap_ as umap\n",
    "import sweetviz as sv\n",
    "\n",
    "from pandas_profiling import ProfileReport\n",
    "import matplotlib.pyplot as plt\n",
    "from sklearn import preprocessing as pp\n",
    "from sklearn import cluster as c\n",
    "from sklearn import metrics as m\n",
    "from IPython.display import Image\n",
    "from yellowbrick.cluster import KElbowVisualizer, SilhouetteVisualizer\n",
    "from plotly import express as px"
   ]
  },
  {
   "cell_type": "markdown",
   "id": "b120e507",
   "metadata": {},
   "source": [
    "## 1.1 Definitions "
   ]
  },
  {
   "cell_type": "code",
   "execution_count": 2,
   "id": "67667930",
   "metadata": {
    "ExecuteTime": {
     "end_time": "2022-05-17T20:33:12.198167Z",
     "start_time": "2022-05-17T20:33:12.183170Z"
    }
   },
   "outputs": [],
   "source": [
    "# Set Seaborn configurations\n",
    "sns.set_palette('tab10')\n",
    "sns.set_style('darkgrid')\n",
    "\n",
    "# Standard font for plots\n",
    "def std_font(ax1, title, xlabel, ylabel):\n",
    "    ax1.set_title(title, loc='left', fontdict={'fontsize': 18}, pad=20)\n",
    "    ax1.set_xlabel(xlabel, fontdict={'fontsize': 12, 'style': 'italic'})\n",
    "    ax1.set_ylabel(ylabel, fontdict={'fontsize': 12, 'style': 'italic'})\n",
    "    return None"
   ]
  },
  {
   "cell_type": "markdown",
   "id": "0de6daf1",
   "metadata": {},
   "source": [
    "## 1.2 Loading Data"
   ]
  },
  {
   "cell_type": "code",
   "execution_count": 3,
   "id": "5d6298a1",
   "metadata": {
    "ExecuteTime": {
     "end_time": "2022-05-17T20:33:12.756464Z",
     "start_time": "2022-05-17T20:33:12.200167Z"
    }
   },
   "outputs": [],
   "source": [
    "df_raw = pd.read_csv('data/ecommerce.csv', parse_dates=['InvoiceDate'])\n",
    "# Renaming columns\n",
    "cols_snake = list( map( lambda x: inflection.underscore( x ), df_raw.columns ) )\n",
    "df_raw.columns = cols_snake"
   ]
  },
  {
   "cell_type": "markdown",
   "id": "9662a858",
   "metadata": {},
   "source": [
    "# 2 DATA DESCRIPTION"
   ]
  },
  {
   "cell_type": "markdown",
   "id": "ed4d4794",
   "metadata": {},
   "source": [
    "## 2.1 Data Preview"
   ]
  },
  {
   "cell_type": "code",
   "execution_count": 4,
   "id": "1be36683",
   "metadata": {
    "ExecuteTime": {
     "end_time": "2022-05-17T20:33:12.788476Z",
     "start_time": "2022-05-17T20:33:12.758465Z"
    }
   },
   "outputs": [
    {
     "data": {
      "text/html": [
       "<div>\n",
       "<style scoped>\n",
       "    .dataframe tbody tr th:only-of-type {\n",
       "        vertical-align: middle;\n",
       "    }\n",
       "\n",
       "    .dataframe tbody tr th {\n",
       "        vertical-align: top;\n",
       "    }\n",
       "\n",
       "    .dataframe thead th {\n",
       "        text-align: right;\n",
       "    }\n",
       "</style>\n",
       "<table border=\"1\" class=\"dataframe\">\n",
       "  <thead>\n",
       "    <tr style=\"text-align: right;\">\n",
       "      <th></th>\n",
       "      <th>invoice_no</th>\n",
       "      <th>stock_code</th>\n",
       "      <th>description</th>\n",
       "      <th>quantity</th>\n",
       "      <th>invoice_date</th>\n",
       "      <th>unit_price</th>\n",
       "      <th>customer_id</th>\n",
       "      <th>country</th>\n",
       "    </tr>\n",
       "  </thead>\n",
       "  <tbody>\n",
       "    <tr>\n",
       "      <th>0</th>\n",
       "      <td>536365</td>\n",
       "      <td>85123A</td>\n",
       "      <td>WHITE HANGING HEART T-LIGHT HOLDER</td>\n",
       "      <td>6</td>\n",
       "      <td>2016-11-29</td>\n",
       "      <td>2.55</td>\n",
       "      <td>17850.0</td>\n",
       "      <td>United Kingdom</td>\n",
       "    </tr>\n",
       "    <tr>\n",
       "      <th>1</th>\n",
       "      <td>536365</td>\n",
       "      <td>71053</td>\n",
       "      <td>WHITE METAL LANTERN</td>\n",
       "      <td>6</td>\n",
       "      <td>2016-11-29</td>\n",
       "      <td>3.39</td>\n",
       "      <td>17850.0</td>\n",
       "      <td>United Kingdom</td>\n",
       "    </tr>\n",
       "    <tr>\n",
       "      <th>2</th>\n",
       "      <td>536365</td>\n",
       "      <td>84406B</td>\n",
       "      <td>CREAM CUPID HEARTS COAT HANGER</td>\n",
       "      <td>8</td>\n",
       "      <td>2016-11-29</td>\n",
       "      <td>2.75</td>\n",
       "      <td>17850.0</td>\n",
       "      <td>United Kingdom</td>\n",
       "    </tr>\n",
       "    <tr>\n",
       "      <th>3</th>\n",
       "      <td>536365</td>\n",
       "      <td>84029G</td>\n",
       "      <td>KNITTED UNION FLAG HOT WATER BOTTLE</td>\n",
       "      <td>6</td>\n",
       "      <td>2016-11-29</td>\n",
       "      <td>3.39</td>\n",
       "      <td>17850.0</td>\n",
       "      <td>United Kingdom</td>\n",
       "    </tr>\n",
       "    <tr>\n",
       "      <th>4</th>\n",
       "      <td>536365</td>\n",
       "      <td>84029E</td>\n",
       "      <td>RED WOOLLY HOTTIE WHITE HEART.</td>\n",
       "      <td>6</td>\n",
       "      <td>2016-11-29</td>\n",
       "      <td>3.39</td>\n",
       "      <td>17850.0</td>\n",
       "      <td>United Kingdom</td>\n",
       "    </tr>\n",
       "  </tbody>\n",
       "</table>\n",
       "</div>"
      ],
      "text/plain": [
       "  invoice_no stock_code                          description  quantity  \\\n",
       "0     536365     85123A   WHITE HANGING HEART T-LIGHT HOLDER         6   \n",
       "1     536365      71053                  WHITE METAL LANTERN         6   \n",
       "2     536365     84406B       CREAM CUPID HEARTS COAT HANGER         8   \n",
       "3     536365     84029G  KNITTED UNION FLAG HOT WATER BOTTLE         6   \n",
       "4     536365     84029E       RED WOOLLY HOTTIE WHITE HEART.         6   \n",
       "\n",
       "  invoice_date  unit_price  customer_id         country  \n",
       "0   2016-11-29        2.55      17850.0  United Kingdom  \n",
       "1   2016-11-29        3.39      17850.0  United Kingdom  \n",
       "2   2016-11-29        2.75      17850.0  United Kingdom  \n",
       "3   2016-11-29        3.39      17850.0  United Kingdom  \n",
       "4   2016-11-29        3.39      17850.0  United Kingdom  "
      ]
     },
     "execution_count": 4,
     "metadata": {},
     "output_type": "execute_result"
    }
   ],
   "source": [
    "df_raw.head()"
   ]
  },
  {
   "cell_type": "markdown",
   "id": "e84fadfd",
   "metadata": {},
   "source": [
    "## 2.2 Data Format and Types"
   ]
  },
  {
   "cell_type": "code",
   "execution_count": 5,
   "id": "cdf0d133",
   "metadata": {
    "ExecuteTime": {
     "end_time": "2022-05-17T20:33:13.058785Z",
     "start_time": "2022-05-17T20:33:12.789476Z"
    }
   },
   "outputs": [
    {
     "name": "stdout",
     "output_type": "stream",
     "text": [
      "<class 'pandas.core.frame.DataFrame'>\n",
      "RangeIndex: 541909 entries, 0 to 541908\n",
      "Data columns (total 8 columns):\n",
      " #   Column        Non-Null Count   Dtype         \n",
      "---  ------        --------------   -----         \n",
      " 0   invoice_no    541909 non-null  object        \n",
      " 1   stock_code    541909 non-null  object        \n",
      " 2   description   540455 non-null  object        \n",
      " 3   quantity      541909 non-null  int64         \n",
      " 4   invoice_date  541909 non-null  datetime64[ns]\n",
      " 5   unit_price    541909 non-null  float64       \n",
      " 6   customer_id   406829 non-null  float64       \n",
      " 7   country       541909 non-null  object        \n",
      "dtypes: datetime64[ns](1), float64(2), int64(1), object(4)\n",
      "memory usage: 33.1+ MB\n"
     ]
    }
   ],
   "source": [
    "df_raw.info()"
   ]
  },
  {
   "cell_type": "markdown",
   "id": "1d00c7eb",
   "metadata": {},
   "source": [
    "## 2.3 NA Checking and Treatment"
   ]
  },
  {
   "cell_type": "code",
   "execution_count": 6,
   "id": "c3adc9f0",
   "metadata": {
    "ExecuteTime": {
     "end_time": "2022-05-17T20:33:13.314848Z",
     "start_time": "2022-05-17T20:33:13.059787Z"
    }
   },
   "outputs": [
    {
     "data": {
      "text/plain": [
       "invoice_no           0\n",
       "stock_code           0\n",
       "description       1454\n",
       "quantity             0\n",
       "invoice_date         0\n",
       "unit_price           0\n",
       "customer_id     135080\n",
       "country              0\n",
       "dtype: int64"
      ]
     },
     "execution_count": 6,
     "metadata": {},
     "output_type": "execute_result"
    }
   ],
   "source": [
    "df_raw.isna().sum()"
   ]
  },
  {
   "cell_type": "markdown",
   "id": "a712cf41",
   "metadata": {},
   "source": [
    "### 2.3.1 Treating Missing Values"
   ]
  },
  {
   "cell_type": "code",
   "execution_count": 7,
   "id": "bf9e5153",
   "metadata": {
    "ExecuteTime": {
     "end_time": "2022-05-17T20:33:13.522122Z",
     "start_time": "2022-05-17T20:33:13.315850Z"
    }
   },
   "outputs": [],
   "source": [
    "# adding 'No description' to missing discription\n",
    "df_raw['description'].fillna(value='NO DESCRIPTION', inplace=True)\n",
    "\n",
    "# deleting NAs customer_id (this removed about 25% of our database)\n",
    "# df_raw.dropna(subset=['customer_id'], inplace=True)\n",
    "\n",
    "# creating customers_id\n",
    "df_missing = df_raw.loc[df_raw['customer_id'].isna(), :]\n",
    "df_not_missing = df_raw.loc[~df_raw['customer_id'].isna(), :]\n",
    "\n",
    "df_backup = pd.DataFrame( df_missing['invoice_no'].drop_duplicates() )\n",
    "df_backup['customer_id'] = np.arange( 19000, 19000+len( df_backup ), 1)\n",
    "\n",
    "# merge original with reference dataframe\n",
    "df_raw = pd.merge( df_raw, df_backup, on='invoice_no', how='left' )\n",
    "\n",
    "# coalesce \n",
    "df_raw['customer_id'] = df_raw['customer_id_x'].combine_first( df_raw['customer_id_y'] )\n",
    "\n",
    "# drop extra columns\n",
    "df_raw = df_raw.drop( columns=['customer_id_x', 'customer_id_y'], axis=1 )\n",
    "\n"
   ]
  },
  {
   "cell_type": "code",
   "execution_count": 8,
   "id": "b754ba32",
   "metadata": {
    "ExecuteTime": {
     "end_time": "2022-05-17T20:33:13.792186Z",
     "start_time": "2022-05-17T20:33:13.523122Z"
    }
   },
   "outputs": [
    {
     "data": {
      "text/plain": [
       "invoice_no      0\n",
       "stock_code      0\n",
       "description     0\n",
       "quantity        0\n",
       "invoice_date    0\n",
       "unit_price      0\n",
       "country         0\n",
       "customer_id     0\n",
       "dtype: int64"
      ]
     },
     "execution_count": 8,
     "metadata": {},
     "output_type": "execute_result"
    }
   ],
   "source": [
    "df_raw.isna().sum()"
   ]
  },
  {
   "cell_type": "markdown",
   "id": "358cebbb",
   "metadata": {},
   "source": [
    "## 2.4 Changing types"
   ]
  },
  {
   "cell_type": "code",
   "execution_count": 9,
   "id": "6a50142e",
   "metadata": {
    "ExecuteTime": {
     "end_time": "2022-05-17T20:33:13.808057Z",
     "start_time": "2022-05-17T20:33:13.793186Z"
    }
   },
   "outputs": [],
   "source": [
    "df_raw['customer_id'] = df_raw['customer_id'].astype( int )"
   ]
  },
  {
   "cell_type": "markdown",
   "id": "8b013165",
   "metadata": {},
   "source": [
    "## 2.5 Discriptive Statistics"
   ]
  },
  {
   "cell_type": "code",
   "execution_count": 10,
   "id": "2119ae8f",
   "metadata": {
    "ExecuteTime": {
     "end_time": "2022-05-17T20:33:13.824062Z",
     "start_time": "2022-05-17T20:33:13.809057Z"
    }
   },
   "outputs": [],
   "source": [
    "df_clean = df_raw.copy()"
   ]
  },
  {
   "cell_type": "markdown",
   "id": "6cbee402",
   "metadata": {},
   "source": [
    "### 2.5.1 Numerical Attributes"
   ]
  },
  {
   "cell_type": "markdown",
   "id": "03d9b9b0",
   "metadata": {},
   "source": [
    "Important findings:\n",
    "\n",
    "- We found a huge negative value in quantitiy (that can be due to product return, or cancelled purchase)\n",
    "- We found a zero minimum price (what is the root cause of this? promotions? coupons?)\n",
    "- We found a lot of negative values in quantity"
   ]
  },
  {
   "cell_type": "code",
   "execution_count": 11,
   "id": "cedb178e",
   "metadata": {
    "ExecuteTime": {
     "end_time": "2022-05-17T20:33:13.838781Z",
     "start_time": "2022-05-17T20:33:13.825062Z"
    }
   },
   "outputs": [],
   "source": [
    "num_att = df_clean.select_dtypes(['int64', 'float64', 'int'])"
   ]
  },
  {
   "cell_type": "code",
   "execution_count": 12,
   "id": "98d3fce8",
   "metadata": {
    "ExecuteTime": {
     "end_time": "2022-05-17T20:33:13.934025Z",
     "start_time": "2022-05-17T20:33:13.839781Z"
    }
   },
   "outputs": [
    {
     "data": {
      "text/html": [
       "<div>\n",
       "<style scoped>\n",
       "    .dataframe tbody tr th:only-of-type {\n",
       "        vertical-align: middle;\n",
       "    }\n",
       "\n",
       "    .dataframe tbody tr th {\n",
       "        vertical-align: top;\n",
       "    }\n",
       "\n",
       "    .dataframe thead th {\n",
       "        text-align: right;\n",
       "    }\n",
       "</style>\n",
       "<table border=\"1\" class=\"dataframe\">\n",
       "  <thead>\n",
       "    <tr style=\"text-align: right;\">\n",
       "      <th></th>\n",
       "      <th>quantity</th>\n",
       "      <th>unit_price</th>\n",
       "      <th>customer_id</th>\n",
       "    </tr>\n",
       "  </thead>\n",
       "  <tbody>\n",
       "    <tr>\n",
       "      <th>count</th>\n",
       "      <td>541909.00</td>\n",
       "      <td>541909.00</td>\n",
       "      <td>541909.00</td>\n",
       "    </tr>\n",
       "    <tr>\n",
       "      <th>mean</th>\n",
       "      <td>9.55</td>\n",
       "      <td>4.61</td>\n",
       "      <td>16688.84</td>\n",
       "    </tr>\n",
       "    <tr>\n",
       "      <th>std</th>\n",
       "      <td>218.08</td>\n",
       "      <td>96.76</td>\n",
       "      <td>2911.41</td>\n",
       "    </tr>\n",
       "    <tr>\n",
       "      <th>min</th>\n",
       "      <td>-80995.00</td>\n",
       "      <td>-11062.06</td>\n",
       "      <td>12346.00</td>\n",
       "    </tr>\n",
       "    <tr>\n",
       "      <th>25%</th>\n",
       "      <td>1.00</td>\n",
       "      <td>1.25</td>\n",
       "      <td>14367.00</td>\n",
       "    </tr>\n",
       "    <tr>\n",
       "      <th>50%</th>\n",
       "      <td>3.00</td>\n",
       "      <td>2.08</td>\n",
       "      <td>16249.00</td>\n",
       "    </tr>\n",
       "    <tr>\n",
       "      <th>75%</th>\n",
       "      <td>10.00</td>\n",
       "      <td>4.13</td>\n",
       "      <td>18283.00</td>\n",
       "    </tr>\n",
       "    <tr>\n",
       "      <th>max</th>\n",
       "      <td>80995.00</td>\n",
       "      <td>38970.00</td>\n",
       "      <td>22709.00</td>\n",
       "    </tr>\n",
       "    <tr>\n",
       "      <th>skew</th>\n",
       "      <td>-0.26</td>\n",
       "      <td>186.51</td>\n",
       "      <td>0.49</td>\n",
       "    </tr>\n",
       "    <tr>\n",
       "      <th>kurtosis</th>\n",
       "      <td>119769.16</td>\n",
       "      <td>59005.72</td>\n",
       "      <td>-0.80</td>\n",
       "    </tr>\n",
       "  </tbody>\n",
       "</table>\n",
       "</div>"
      ],
      "text/plain": [
       "           quantity  unit_price  customer_id\n",
       "count     541909.00   541909.00    541909.00\n",
       "mean           9.55        4.61     16688.84\n",
       "std          218.08       96.76      2911.41\n",
       "min       -80995.00   -11062.06     12346.00\n",
       "25%            1.00        1.25     14367.00\n",
       "50%            3.00        2.08     16249.00\n",
       "75%           10.00        4.13     18283.00\n",
       "max        80995.00    38970.00     22709.00\n",
       "skew          -0.26      186.51         0.49\n",
       "kurtosis  119769.16    59005.72        -0.80"
      ]
     },
     "execution_count": 12,
     "metadata": {},
     "output_type": "execute_result"
    }
   ],
   "source": [
    "# getting skew\n",
    "skew = pd.DataFrame(num_att.apply(lambda x: x.skew())).round(2).T\n",
    "skew.rename(index={0: 'skew'}, inplace=True)\n",
    "\n",
    "# getting kurtosis\n",
    "kurtosis = pd.DataFrame(num_att.apply(lambda x: x.kurtosis())).round(2).T\n",
    "kurtosis.rename(index={0: 'kurtosis'}, inplace=True)\n",
    "\n",
    "# numerical features \n",
    "describe = num_att.describe().round(2)\n",
    "ma = pd.concat([describe, skew, kurtosis], axis=0)\n",
    "ma"
   ]
  },
  {
   "cell_type": "markdown",
   "id": "75644c4d",
   "metadata": {},
   "source": [
    "### 2.5.2 Categorical Attributes"
   ]
  },
  {
   "cell_type": "code",
   "execution_count": 13,
   "id": "18f1273c",
   "metadata": {
    "ExecuteTime": {
     "end_time": "2022-05-17T20:33:13.950028Z",
     "start_time": "2022-05-17T20:33:13.937026Z"
    }
   },
   "outputs": [],
   "source": [
    "cat_att = df_clean.select_dtypes(['object'])"
   ]
  },
  {
   "cell_type": "code",
   "execution_count": 14,
   "id": "013d8949",
   "metadata": {
    "ExecuteTime": {
     "end_time": "2022-05-17T20:33:14.078057Z",
     "start_time": "2022-05-17T20:33:13.951028Z"
    }
   },
   "outputs": [
    {
     "data": {
      "text/plain": [
       "invoice_no     25900\n",
       "stock_code      4070\n",
       "description     4224\n",
       "country           38\n",
       "dtype: int64"
      ]
     },
     "execution_count": 14,
     "metadata": {},
     "output_type": "execute_result"
    }
   ],
   "source": [
    "cat_att.apply( lambda x: x.unique().shape[0] )"
   ]
  },
  {
   "cell_type": "code",
   "execution_count": 15,
   "id": "7e46b22a",
   "metadata": {
    "ExecuteTime": {
     "end_time": "2022-05-17T20:33:14.718208Z",
     "start_time": "2022-05-17T20:33:14.079058Z"
    }
   },
   "outputs": [
    {
     "name": "stdout",
     "output_type": "stream",
     "text": [
      "Total number of invoices: 9291\n",
      "Total number of negative quantity: 9288\n"
     ]
    }
   ],
   "source": [
    "df_letter_invoices = df_clean.loc[df_clean['invoice_no'].apply( lambda x: bool( re.search( '[^0-9]+', x ) ) ), :]\n",
    "df_letter_invoices.head()\n",
    "\n",
    "print( 'Total number of invoices: {}'.format( len( df_letter_invoices ) ) )\n",
    "print( 'Total number of negative quantity: {}'.format( len( df_letter_invoices[ df_letter_invoices['quantity'] < 0 ] ) ) )"
   ]
  },
  {
   "cell_type": "markdown",
   "id": "33e0ce91",
   "metadata": {},
   "source": [
    "# 3 DATAFRAME FILTERING"
   ]
  },
  {
   "cell_type": "code",
   "execution_count": 16,
   "id": "a873375e",
   "metadata": {
    "ExecuteTime": {
     "end_time": "2022-05-17T20:33:14.734212Z",
     "start_time": "2022-05-17T20:33:14.719200Z"
    }
   },
   "outputs": [],
   "source": [
    "# =========================================================================================\n",
    "# Check if its worth to treat the invoice_no and stock_code with letters in the values\n",
    "# =========================================================================================\n",
    "\n",
    "# # invoice_no\n",
    "# df_letter_invoices = df1.loc[df1['invoice_no'].apply( lambda x: bool( re.search( '[^0-9]+', x ) ) ), :]\n",
    "# df_letter_invoices.head()\n",
    "\n",
    "# print( 'Total number of invoices: {}'.format( len( df_letter_invoices ) ) )\n",
    "# print( 'Total number of negative quantity: {}'.format( len( df_letter_invoices[ df_letter_invoices['quantity'] < 0 ] ) ) )\n",
    "\n",
    "# # stock_code\n",
    "# # check stock codes only characters\n",
    "# df1.loc[df1['stock_code'].apply( lambda x: bool( re.search( '^[a-zA-Z]+$', x ) ) ), 'stock_code'].unique()\n"
   ]
  },
  {
   "cell_type": "markdown",
   "id": "2f47ec1a",
   "metadata": {},
   "source": [
    "## 3.1 Line Filtering"
   ]
  },
  {
   "cell_type": "code",
   "execution_count": 17,
   "id": "6288ed3a",
   "metadata": {
    "ExecuteTime": {
     "end_time": "2022-05-17T20:33:14.942250Z",
     "start_time": "2022-05-17T20:33:14.735212Z"
    }
   },
   "outputs": [],
   "source": [
    "# filtering zero values in unit_price (WE WILL CONSIDER THESE ITEMS AS PROMO OR ERROR)\n",
    "df_clean.query('unit_price >= 0.04 ', inplace=True)\n",
    "\n",
    "# Considering negative quantities as devolutions and positive quantities as real purchases\n",
    "df_clean_returns = df_clean.query('quantity < 0')\n",
    "df_clean = df_clean.query('quantity >=0')\n",
    "\n",
    "# removing stock codes that does not represent puchases\n",
    "df_clean = df_clean[~df_clean['stock_code'].isin( ['POST', 'D', 'DOT', 'M', 'S', 'AMAZONFEE', 'm', 'DCGSSBOY',\n",
    "       'DCGSSGIRL', 'PADS', 'B', 'CRUK'] )]\n",
    "\n",
    "# removing innacurate country information \n",
    "df_clean = df_clean[~df_clean['country'].isin( ['European Community', 'Unspecified' ] ) ]"
   ]
  },
  {
   "cell_type": "markdown",
   "id": "bcb9bf3a",
   "metadata": {},
   "source": [
    "## 3.2 Column Selection"
   ]
  },
  {
   "cell_type": "markdown",
   "id": "b3f52519",
   "metadata": {},
   "source": [
    "# 4 QUESTIONS & HYPOTHESIS"
   ]
  },
  {
   "cell_type": "code",
   "execution_count": 18,
   "id": "6322da65",
   "metadata": {
    "ExecuteTime": {
     "end_time": "2022-05-17T20:33:14.957757Z",
     "start_time": "2022-05-17T20:33:14.943250Z"
    }
   },
   "outputs": [
    {
     "data": {
      "image/jpeg": "[encoded data removed]",
      "text/plain": [
       "<IPython.core.display.Image object>"
      ]
     },
     "execution_count": 18,
     "metadata": {},
     "output_type": "execute_result"
    }
   ],
   "source": [
    "Image( '../images/mindmap.JPG' )"
   ]
  },
  {
   "cell_type": "code",
   "execution_count": 19,
   "id": "2f54392d",
   "metadata": {
    "ExecuteTime": {
     "end_time": "2022-05-17T20:33:14.973544Z",
     "start_time": "2022-05-17T20:33:14.958757Z"
    }
   },
   "outputs": [
    {
     "data": {
      "image/jpeg": "[encoded data removed]",
      "text/plain": [
       "<IPython.core.display.Image object>"
      ]
     },
     "execution_count": 19,
     "metadata": {},
     "output_type": "execute_result"
    }
   ],
   "source": [
    "Image( '../images/rfm.JPG' )"
   ]
  },
  {
   "cell_type": "markdown",
   "id": "c1267907",
   "metadata": {},
   "source": [
    "Picture - https://medium.com/codex/crm-analytics-rfm-analysis-90aa2ae55fbc"
   ]
  },
  {
   "cell_type": "markdown",
   "id": "b3c0cb6f",
   "metadata": {},
   "source": [
    "# 5 FEATURE ENGINEERING"
   ]
  },
  {
   "cell_type": "code",
   "execution_count": 20,
   "id": "a481f063",
   "metadata": {
    "ExecuteTime": {
     "end_time": "2022-05-17T20:33:15.005552Z",
     "start_time": "2022-05-17T20:33:14.974544Z"
    }
   },
   "outputs": [],
   "source": [
    "# ====================\n",
    "# CREATING RFM TABLE\n",
    "# ====================\n",
    "\n",
    "# initiating df_rfm table with customers IDs\n",
    "df_rfm = df_clean.drop( ['invoice_no', 'stock_code', 'description', \n",
    "                    'quantity', 'invoice_date', 'unit_price', \n",
    "                    'country'], axis=1 ).drop_duplicates( ignore_index=True )"
   ]
  },
  {
   "cell_type": "code",
   "execution_count": 21,
   "id": "ede1e3cc",
   "metadata": {
    "ExecuteTime": {
     "end_time": "2022-05-17T20:33:15.037559Z",
     "start_time": "2022-05-17T20:33:15.006552Z"
    }
   },
   "outputs": [],
   "source": [
    "# monetary\n",
    "df_clean['gross_revenue'] = df_clean['quantity'] * df_clean['unit_price']\n",
    "df_monetary = df_clean[['customer_id', 'gross_revenue']].groupby( 'customer_id' ).sum().reset_index()\n",
    "df_rfm = pd.merge( df_rfm, df_monetary, on='customer_id', how='left' )\n"
   ]
  },
  {
   "cell_type": "code",
   "execution_count": 22,
   "id": "c5da5b06",
   "metadata": {
    "ExecuteTime": {
     "end_time": "2022-05-17T20:33:15.069097Z",
     "start_time": "2022-05-17T20:33:15.038559Z"
    }
   },
   "outputs": [],
   "source": [
    "# recency - last purchase\n",
    "df_recency = df_clean[['customer_id', 'invoice_date']].groupby( 'customer_id' ).max().reset_index()\n",
    "df_recency['recency_days'] = ( df_clean['invoice_date'].max() - df_recency['invoice_date'] ).dt.days\n",
    "df_recency = df_recency[['customer_id', 'recency_days']].copy()\n",
    "df_rfm = pd.merge( df_rfm, df_recency, on='customer_id', how='left' )"
   ]
  },
  {
   "cell_type": "code",
   "execution_count": 23,
   "id": "c7bced87",
   "metadata": {
    "ExecuteTime": {
     "end_time": "2022-05-17T20:33:15.132582Z",
     "start_time": "2022-05-17T20:33:15.070569Z"
    }
   },
   "outputs": [],
   "source": [
    "# amount of purchases\n",
    "df_freq = df_clean[['customer_id', 'invoice_no']].drop_duplicates().groupby( 'customer_id' ).count().reset_index().rename( columns={'invoice_no': 'amount_invoices'})\n",
    "df_rfm = pd.merge( df_rfm, df_freq, on='customer_id', how='left' )"
   ]
  },
  {
   "cell_type": "code",
   "execution_count": 24,
   "id": "c8c32f02",
   "metadata": {
    "ExecuteTime": {
     "end_time": "2022-05-17T20:33:15.164589Z",
     "start_time": "2022-05-17T20:33:15.133582Z"
    }
   },
   "outputs": [],
   "source": [
    "# amount of purchased items\n",
    "df_prod = df_clean[['customer_id', 'quantity']].groupby( 'customer_id' ).sum().reset_index().rename( columns={'quantity': 'amount_items'})\n",
    "df_rfm = pd.merge( df_rfm, df_prod, on='customer_id', how='left' )\n"
   ]
  },
  {
   "cell_type": "code",
   "execution_count": 25,
   "id": "44413f7f",
   "metadata": {
    "ExecuteTime": {
     "end_time": "2022-05-17T20:33:15.257758Z",
     "start_time": "2022-05-17T20:33:15.165590Z"
    }
   },
   "outputs": [],
   "source": [
    "# amount of purchased products\n",
    "# Numero de produtos\n",
    "df_freq = (df_clean.loc[:, ['customer_id', 'stock_code']].groupby( 'customer_id' ).count()\n",
    "                                                           .reset_index()\n",
    "                                                           .rename( columns={'stock_code': 'amount_products'} ) )\n",
    "df_rfm = pd.merge( df_rfm, df_freq, on='customer_id', how='left' )\n"
   ]
  },
  {
   "cell_type": "code",
   "execution_count": 26,
   "id": "b1100cfc",
   "metadata": {
    "ExecuteTime": {
     "end_time": "2022-05-17T20:33:15.288766Z",
     "start_time": "2022-05-17T20:33:15.258759Z"
    }
   },
   "outputs": [],
   "source": [
    "# average ticket\n",
    "df_avg_ticket = df_clean[['customer_id', 'gross_revenue']].groupby( 'customer_id' ).mean().reset_index().rename( columns={'gross_revenue':'avg_ticket'} )\n",
    "df_rfm = pd.merge( df_rfm, df_avg_ticket, on='customer_id', how='left')"
   ]
  },
  {
   "cell_type": "code",
   "execution_count": 27,
   "id": "8057ebee",
   "metadata": {
    "ExecuteTime": {
     "end_time": "2022-05-17T20:33:15.304771Z",
     "start_time": "2022-05-17T20:33:15.289766Z"
    }
   },
   "outputs": [],
   "source": [
    "# number of returns\n",
    "df_number_returns = df_clean_returns[['customer_id', 'quantity']].groupby('customer_id').sum().reset_index().rename(columns={'quantity':'amount_returns'})\n",
    "df_number_returns['amount_returns'] = df_number_returns['amount_returns'] * -1\n",
    "df_rfm = pd.merge( df_rfm, df_number_returns, on='customer_id', how='left')\n",
    "df_rfm.loc[df_rfm['amount_returns'].isna(), 'amount_returns'] = 0\n",
    "# df_rfm['amount_returns'].fillna(value=0, inplace=True)"
   ]
  },
  {
   "cell_type": "code",
   "execution_count": 28,
   "id": "effc937c",
   "metadata": {
    "ExecuteTime": {
     "end_time": "2022-05-17T20:33:15.912614Z",
     "start_time": "2022-05-17T20:33:15.305771Z"
    }
   },
   "outputs": [],
   "source": [
    "# Average recency days\n",
    "df_aux = df_clean[['customer_id', 'invoice_date']].drop_duplicates().sort_values( ['customer_id', 'invoice_date'], ascending=[False, False] )\n",
    "df_aux['next_customer_id'] = df_aux['customer_id'].shift() # next customer\n",
    "df_aux['previous_date'] = df_aux['invoice_date'].shift() # next invoince date\n",
    "df_aux['avg_recency_days'] = df_aux.apply( lambda x: ( x['invoice_date'] - x['previous_date'] ).days if x['customer_id'] == x['next_customer_id'] else np.nan, axis=1 )\n",
    "df_aux = df_aux.drop( ['invoice_date', 'next_customer_id', 'previous_date'], axis=1 ).dropna()\n",
    "\n",
    "df_avg_recency_days = df_aux.groupby( 'customer_id' ).mean().reset_index()\n",
    "\n",
    "df_rfm = pd.merge( df_rfm, df_avg_recency_days, on='customer_id', how='left' )\n"
   ]
  },
  {
   "cell_type": "code",
   "execution_count": 29,
   "id": "57e91b02",
   "metadata": {
    "ExecuteTime": {
     "end_time": "2022-05-17T20:33:16.935007Z",
     "start_time": "2022-05-17T20:33:15.913615Z"
    }
   },
   "outputs": [],
   "source": [
    "# frequency purchase \n",
    "df_aux = ( df_clean[['customer_id', 'invoice_no', 'invoice_date']].drop_duplicates()\n",
    "                                                             .groupby( 'customer_id')\n",
    "                                                             .agg( max_ = ( 'invoice_date', 'max' ), \n",
    "                                                                   min_ = ( 'invoice_date', 'min' ),\n",
    "                                                                   days_= ( 'invoice_date', lambda x: ( ( x.max() - x.min() ).days ) + 1 ),\n",
    "                                                                   buy_ = ( 'invoice_no', 'count' ) ) ).reset_index()\n",
    "\n",
    "df_aux['frequency'] = df_aux[['buy_', 'days_']].apply( lambda x: x['buy_'] / x['days_'] if  x['days_'] != 0 else 0, axis=1 )\n",
    "df_rfm = pd.merge( df_rfm, df_aux[['customer_id', 'frequency']], on='customer_id', how='left' )"
   ]
  },
  {
   "cell_type": "code",
   "execution_count": 30,
   "id": "4d052ab8",
   "metadata": {
    "ExecuteTime": {
     "end_time": "2022-05-17T20:33:17.029726Z",
     "start_time": "2022-05-17T20:33:16.936017Z"
    }
   },
   "outputs": [],
   "source": [
    "# basket size (Units by basket)\n",
    "df_aux = ( df_clean.loc[:, ['customer_id', 'invoice_no', 'quantity']].groupby( 'customer_id' )\n",
    "                                                                            .agg( n_purchase=( 'invoice_no', 'nunique'),\n",
    "                                                                                  n_products=( 'quantity', 'sum' ) )\n",
    "                                                                            .reset_index() )\n",
    "\n",
    "# calculation\n",
    "df_aux['avg_basket_size'] = df_aux['n_products'] / df_aux['n_purchase']\n",
    "\n",
    "# merge\n",
    "df_rfm = pd.merge( df_rfm, df_aux[['customer_id', 'avg_basket_size']], how='left', on='customer_id' )"
   ]
  },
  {
   "cell_type": "code",
   "execution_count": 31,
   "id": "6490de57",
   "metadata": {
    "ExecuteTime": {
     "end_time": "2022-05-17T20:33:17.220770Z",
     "start_time": "2022-05-17T20:33:17.030727Z"
    }
   },
   "outputs": [],
   "source": [
    "df_aux = ( df_clean.loc[:, ['customer_id', 'invoice_no', 'stock_code']].groupby( 'customer_id' )\n",
    "                                                                            .agg( n_purchase=( 'invoice_no', 'nunique'),\n",
    "                                                                                   n_products=( 'stock_code', 'nunique' ) )\n",
    "                                                                            .reset_index() )\n",
    "\n",
    "# calculation\n",
    "df_aux['avg_unique_basket_size'] = df_aux['n_products'] / df_aux['n_purchase']\n",
    "\n",
    "# merge\n",
    "df_rfm = pd.merge( df_rfm, df_aux[['customer_id', 'avg_unique_basket_size']], how='left', on='customer_id' )"
   ]
  },
  {
   "cell_type": "code",
   "execution_count": 32,
   "id": "3b9033eb",
   "metadata": {
    "ExecuteTime": {
     "end_time": "2022-05-17T20:33:17.236742Z",
     "start_time": "2022-05-17T20:33:17.221770Z"
    }
   },
   "outputs": [
    {
     "data": {
      "text/plain": [
       "customer_id                  0\n",
       "gross_revenue                0\n",
       "recency_days                 0\n",
       "amount_invoices              0\n",
       "amount_items                 0\n",
       "amount_products              0\n",
       "avg_ticket                   0\n",
       "amount_returns               0\n",
       "avg_recency_days          2922\n",
       "frequency                    0\n",
       "avg_basket_size              0\n",
       "avg_unique_basket_size       0\n",
       "dtype: int64"
      ]
     },
     "execution_count": 32,
     "metadata": {},
     "output_type": "execute_result"
    }
   ],
   "source": [
    "df_rfm.isna().sum()"
   ]
  },
  {
   "cell_type": "code",
   "execution_count": 33,
   "id": "686e6672",
   "metadata": {
    "ExecuteTime": {
     "end_time": "2022-05-17T20:33:17.251744Z",
     "start_time": "2022-05-17T20:33:17.237741Z"
    }
   },
   "outputs": [
    {
     "data": {
      "text/html": [
       "<div>\n",
       "<style scoped>\n",
       "    .dataframe tbody tr th:only-of-type {\n",
       "        vertical-align: middle;\n",
       "    }\n",
       "\n",
       "    .dataframe tbody tr th {\n",
       "        vertical-align: top;\n",
       "    }\n",
       "\n",
       "    .dataframe thead th {\n",
       "        text-align: right;\n",
       "    }\n",
       "</style>\n",
       "<table border=\"1\" class=\"dataframe\">\n",
       "  <thead>\n",
       "    <tr style=\"text-align: right;\">\n",
       "      <th></th>\n",
       "      <th>customer_id</th>\n",
       "      <th>gross_revenue</th>\n",
       "      <th>recency_days</th>\n",
       "      <th>amount_invoices</th>\n",
       "      <th>amount_items</th>\n",
       "      <th>amount_products</th>\n",
       "      <th>avg_ticket</th>\n",
       "      <th>amount_returns</th>\n",
       "      <th>avg_recency_days</th>\n",
       "      <th>frequency</th>\n",
       "      <th>avg_basket_size</th>\n",
       "      <th>avg_unique_basket_size</th>\n",
       "    </tr>\n",
       "  </thead>\n",
       "  <tbody>\n",
       "    <tr>\n",
       "      <th>0</th>\n",
       "      <td>17850</td>\n",
       "      <td>5391.21</td>\n",
       "      <td>372</td>\n",
       "      <td>34</td>\n",
       "      <td>1733</td>\n",
       "      <td>297</td>\n",
       "      <td>18.152222</td>\n",
       "      <td>40.0</td>\n",
       "      <td>-1.000000</td>\n",
       "      <td>17.000000</td>\n",
       "      <td>50.970588</td>\n",
       "      <td>0.617647</td>\n",
       "    </tr>\n",
       "    <tr>\n",
       "      <th>1</th>\n",
       "      <td>13047</td>\n",
       "      <td>3232.59</td>\n",
       "      <td>56</td>\n",
       "      <td>9</td>\n",
       "      <td>1390</td>\n",
       "      <td>171</td>\n",
       "      <td>18.904035</td>\n",
       "      <td>36.0</td>\n",
       "      <td>-52.833333</td>\n",
       "      <td>0.028302</td>\n",
       "      <td>154.444444</td>\n",
       "      <td>11.666667</td>\n",
       "    </tr>\n",
       "    <tr>\n",
       "      <th>2</th>\n",
       "      <td>12583</td>\n",
       "      <td>6705.38</td>\n",
       "      <td>2</td>\n",
       "      <td>15</td>\n",
       "      <td>5028</td>\n",
       "      <td>232</td>\n",
       "      <td>28.902500</td>\n",
       "      <td>51.0</td>\n",
       "      <td>-26.500000</td>\n",
       "      <td>0.040323</td>\n",
       "      <td>335.200000</td>\n",
       "      <td>7.600000</td>\n",
       "    </tr>\n",
       "    <tr>\n",
       "      <th>3</th>\n",
       "      <td>13748</td>\n",
       "      <td>948.25</td>\n",
       "      <td>95</td>\n",
       "      <td>5</td>\n",
       "      <td>439</td>\n",
       "      <td>28</td>\n",
       "      <td>33.866071</td>\n",
       "      <td>0.0</td>\n",
       "      <td>-92.666667</td>\n",
       "      <td>0.017921</td>\n",
       "      <td>87.800000</td>\n",
       "      <td>4.800000</td>\n",
       "    </tr>\n",
       "    <tr>\n",
       "      <th>4</th>\n",
       "      <td>15100</td>\n",
       "      <td>876.00</td>\n",
       "      <td>333</td>\n",
       "      <td>3</td>\n",
       "      <td>80</td>\n",
       "      <td>3</td>\n",
       "      <td>292.000000</td>\n",
       "      <td>22.0</td>\n",
       "      <td>-20.000000</td>\n",
       "      <td>0.073171</td>\n",
       "      <td>26.666667</td>\n",
       "      <td>0.333333</td>\n",
       "    </tr>\n",
       "  </tbody>\n",
       "</table>\n",
       "</div>"
      ],
      "text/plain": [
       "   customer_id  gross_revenue  recency_days  amount_invoices  amount_items  \\\n",
       "0        17850        5391.21           372               34          1733   \n",
       "1        13047        3232.59            56                9          1390   \n",
       "2        12583        6705.38             2               15          5028   \n",
       "3        13748         948.25            95                5           439   \n",
       "4        15100         876.00           333                3            80   \n",
       "\n",
       "   amount_products  avg_ticket  amount_returns  avg_recency_days  frequency  \\\n",
       "0              297   18.152222            40.0         -1.000000  17.000000   \n",
       "1              171   18.904035            36.0        -52.833333   0.028302   \n",
       "2              232   28.902500            51.0        -26.500000   0.040323   \n",
       "3               28   33.866071             0.0        -92.666667   0.017921   \n",
       "4                3  292.000000            22.0        -20.000000   0.073171   \n",
       "\n",
       "   avg_basket_size  avg_unique_basket_size  \n",
       "0        50.970588                0.617647  \n",
       "1       154.444444               11.666667  \n",
       "2       335.200000                7.600000  \n",
       "3        87.800000                4.800000  \n",
       "4        26.666667                0.333333  "
      ]
     },
     "execution_count": 33,
     "metadata": {},
     "output_type": "execute_result"
    }
   ],
   "source": [
    "df_rfm.head()"
   ]
  },
  {
   "cell_type": "markdown",
   "id": "bdbe9b4d",
   "metadata": {},
   "source": [
    "# 6 EXPLORATORY DATA ANALYSIS"
   ]
  },
  {
   "cell_type": "code",
   "execution_count": 34,
   "id": "cb04c7af",
   "metadata": {
    "ExecuteTime": {
     "end_time": "2022-05-17T20:33:17.267749Z",
     "start_time": "2022-05-17T20:33:17.252745Z"
    }
   },
   "outputs": [],
   "source": [
    "df_rfm.dropna(inplace=True)"
   ]
  },
  {
   "cell_type": "markdown",
   "id": "b50f0d3d",
   "metadata": {},
   "source": [
    "## 6.1 Univariate Analysis"
   ]
  },
  {
   "cell_type": "code",
   "execution_count": 35,
   "id": "58eb7fb1",
   "metadata": {
    "ExecuteTime": {
     "end_time": "2022-05-17T20:33:48.310599Z",
     "start_time": "2022-05-17T20:33:17.268749Z"
    },
    "scrolled": true
   },
   "outputs": [
    {
     "data": {
      "application/vnd.jupyter.widget-view+json": {
       "model_id": "001d69eaa5524b1dbd928775ba2c6667",
       "version_major": 2,
       "version_minor": 0
      },
      "text/plain": [
       "Summarize dataset:   0%|          | 0/5 [00:00<?, ?it/s]"
      ]
     },
     "metadata": {},
     "output_type": "display_data"
    },
    {
     "data": {
      "application/vnd.jupyter.widget-view+json": {
       "model_id": "89c732f8a8084f2a93c4f05beb576d13",
       "version_major": 2,
       "version_minor": 0
      },
      "text/plain": [
       "Generate report structure:   0%|          | 0/1 [00:00<?, ?it/s]"
      ]
     },
     "metadata": {},
     "output_type": "display_data"
    },
    {
     "data": {
      "application/vnd.jupyter.widget-view+json": {
       "model_id": "788d40a8582e453ebf49d3e9539f4756",
       "version_major": 2,
       "version_minor": 0
      },
      "text/plain": [
       "Render HTML:   0%|          | 0/1 [00:00<?, ?it/s]"
      ]
     },
     "metadata": {},
     "output_type": "display_data"
    },
    {
     "data": {
      "application/vnd.jupyter.widget-view+json": {
       "model_id": "a10eb2a569a6465088bc27378535895c",
       "version_major": 2,
       "version_minor": 0
      },
      "text/plain": [
       "Export report to file:   0%|          | 0/1 [00:00<?, ?it/s]"
      ]
     },
     "metadata": {},
     "output_type": "display_data"
    }
   ],
   "source": [
    "profile = ProfileReport( df_rfm )\n",
    "profile.to_file( 'profile_report.html' )"
   ]
  },
  {
   "cell_type": "code",
   "execution_count": 36,
   "id": "be262aa2",
   "metadata": {
    "ExecuteTime": {
     "end_time": "2022-05-17T20:33:54.493903Z",
     "start_time": "2022-05-17T20:33:48.311600Z"
    }
   },
   "outputs": [
    {
     "data": {
      "application/vnd.jupyter.widget-view+json": {
       "model_id": "679e83f3cb6b460385fab72a15447c22",
       "version_major": 2,
       "version_minor": 0
      },
      "text/plain": [
       "                                             |                                             | [  0%]   00:00 ->…"
      ]
     },
     "metadata": {},
     "output_type": "display_data"
    },
    {
     "name": "stderr",
     "output_type": "stream",
     "text": [
      "C:\\Users\\Rodrigo\\anaconda3\\envs\\env_portfolio\\lib\\site-packages\\sweetviz\\graph_associations.py:223: FutureWarning: The frame.append method is deprecated and will be removed from pandas in a future version. Use pandas.concat instead.\n",
      "  new_dataframe = new_dataframe.append(pd.Series(empty_row_dict, name=feature))\n",
      "C:\\Users\\Rodrigo\\anaconda3\\envs\\env_portfolio\\lib\\site-packages\\sweetviz\\graph_associations.py:223: FutureWarning: The frame.append method is deprecated and will be removed from pandas in a future version. Use pandas.concat instead.\n",
      "  new_dataframe = new_dataframe.append(pd.Series(empty_row_dict, name=feature))\n",
      "C:\\Users\\Rodrigo\\anaconda3\\envs\\env_portfolio\\lib\\site-packages\\sweetviz\\graph_associations.py:223: FutureWarning: The frame.append method is deprecated and will be removed from pandas in a future version. Use pandas.concat instead.\n",
      "  new_dataframe = new_dataframe.append(pd.Series(empty_row_dict, name=feature))\n",
      "C:\\Users\\Rodrigo\\anaconda3\\envs\\env_portfolio\\lib\\site-packages\\sweetviz\\graph_associations.py:223: FutureWarning: The frame.append method is deprecated and will be removed from pandas in a future version. Use pandas.concat instead.\n",
      "  new_dataframe = new_dataframe.append(pd.Series(empty_row_dict, name=feature))\n",
      "C:\\Users\\Rodrigo\\anaconda3\\envs\\env_portfolio\\lib\\site-packages\\sweetviz\\graph_associations.py:223: FutureWarning: The frame.append method is deprecated and will be removed from pandas in a future version. Use pandas.concat instead.\n",
      "  new_dataframe = new_dataframe.append(pd.Series(empty_row_dict, name=feature))\n",
      "C:\\Users\\Rodrigo\\anaconda3\\envs\\env_portfolio\\lib\\site-packages\\sweetviz\\graph_associations.py:223: FutureWarning: The frame.append method is deprecated and will be removed from pandas in a future version. Use pandas.concat instead.\n",
      "  new_dataframe = new_dataframe.append(pd.Series(empty_row_dict, name=feature))\n",
      "C:\\Users\\Rodrigo\\anaconda3\\envs\\env_portfolio\\lib\\site-packages\\sweetviz\\graph_associations.py:223: FutureWarning: The frame.append method is deprecated and will be removed from pandas in a future version. Use pandas.concat instead.\n",
      "  new_dataframe = new_dataframe.append(pd.Series(empty_row_dict, name=feature))\n",
      "C:\\Users\\Rodrigo\\anaconda3\\envs\\env_portfolio\\lib\\site-packages\\sweetviz\\graph_associations.py:223: FutureWarning: The frame.append method is deprecated and will be removed from pandas in a future version. Use pandas.concat instead.\n",
      "  new_dataframe = new_dataframe.append(pd.Series(empty_row_dict, name=feature))\n",
      "C:\\Users\\Rodrigo\\anaconda3\\envs\\env_portfolio\\lib\\site-packages\\sweetviz\\graph_associations.py:223: FutureWarning: The frame.append method is deprecated and will be removed from pandas in a future version. Use pandas.concat instead.\n",
      "  new_dataframe = new_dataframe.append(pd.Series(empty_row_dict, name=feature))\n",
      "C:\\Users\\Rodrigo\\anaconda3\\envs\\env_portfolio\\lib\\site-packages\\sweetviz\\graph_associations.py:223: FutureWarning: The frame.append method is deprecated and will be removed from pandas in a future version. Use pandas.concat instead.\n",
      "  new_dataframe = new_dataframe.append(pd.Series(empty_row_dict, name=feature))\n",
      "C:\\Users\\Rodrigo\\anaconda3\\envs\\env_portfolio\\lib\\site-packages\\sweetviz\\graph_associations.py:223: FutureWarning: The frame.append method is deprecated and will be removed from pandas in a future version. Use pandas.concat instead.\n",
      "  new_dataframe = new_dataframe.append(pd.Series(empty_row_dict, name=feature))\n",
      "C:\\Users\\Rodrigo\\anaconda3\\envs\\env_portfolio\\lib\\site-packages\\sweetviz\\graph_associations.py:223: FutureWarning: The frame.append method is deprecated and will be removed from pandas in a future version. Use pandas.concat instead.\n",
      "  new_dataframe = new_dataframe.append(pd.Series(empty_row_dict, name=feature))\n"
     ]
    },
    {
     "name": "stdout",
     "output_type": "stream",
     "text": [
      "Report sweetviz_report.html was generated! NOTEBOOK/COLAB USERS: the web browser MAY not pop up, regardless, the report IS saved in your notebook/colab files.\n"
     ]
    }
   ],
   "source": [
    "report = sv.analyze(df_rfm)\n",
    "report.show_html('sweetviz_report.html')"
   ]
  },
  {
   "cell_type": "markdown",
   "id": "e94541d3",
   "metadata": {},
   "source": [
    "### 6.1.1 Response Variable"
   ]
  },
  {
   "cell_type": "markdown",
   "id": "383267db",
   "metadata": {},
   "source": [
    "### 6.1.2 Numerical Variable"
   ]
  },
  {
   "cell_type": "markdown",
   "id": "73766ea9",
   "metadata": {},
   "source": [
    "### 6.1.3 Categorical Variable"
   ]
  },
  {
   "cell_type": "markdown",
   "id": "1475e1c3",
   "metadata": {},
   "source": [
    "## 6.2 Bivariate Analysis"
   ]
  },
  {
   "cell_type": "markdown",
   "id": "7bbdd7a8",
   "metadata": {
    "heading_collapsed": true
   },
   "source": [
    "## 6.3 Multivariate Analysis\n"
   ]
  },
  {
   "cell_type": "markdown",
   "id": "000a49cf",
   "metadata": {
    "hidden": true
   },
   "source": [
    "### 6.3.1 Numerical Attributes"
   ]
  },
  {
   "cell_type": "markdown",
   "id": "edeee66f",
   "metadata": {
    "hidden": true
   },
   "source": [
    "### 6.3.2 Categorical Attributes"
   ]
  },
  {
   "cell_type": "markdown",
   "id": "00f01887",
   "metadata": {},
   "source": [
    "# 7 DATA PREPARATION"
   ]
  },
  {
   "cell_type": "markdown",
   "id": "cecfe9f2",
   "metadata": {},
   "source": [
    "## 7.2 Normalization"
   ]
  },
  {
   "cell_type": "code",
   "execution_count": 37,
   "id": "ff5520e0",
   "metadata": {
    "ExecuteTime": {
     "end_time": "2022-05-17T20:33:57.422558Z",
     "start_time": "2022-05-17T20:33:54.494904Z"
    }
   },
   "outputs": [
    {
     "ename": "KeyError",
     "evalue": "\"None of [Index(['invoice_no'], dtype='object')] are in the [columns]\"",
     "output_type": "error",
     "traceback": [
      "\u001b[1;31m---------------------------------------------------------------------------\u001b[0m",
      "\u001b[1;31mKeyError\u001b[0m                                  Traceback (most recent call last)",
      "Input \u001b[1;32mIn [37]\u001b[0m, in \u001b[0;36m<cell line: 6>\u001b[1;34m()\u001b[0m\n\u001b[0;32m      4\u001b[0m df_rfm[\u001b[38;5;124m'\u001b[39m\u001b[38;5;124mgross_revenue\u001b[39m\u001b[38;5;124m'\u001b[39m] \u001b[38;5;241m=\u001b[39m ss\u001b[38;5;241m.\u001b[39mfit_transform( df_rfm[[\u001b[38;5;124m'\u001b[39m\u001b[38;5;124mgross_revenue\u001b[39m\u001b[38;5;124m'\u001b[39m]] )\n\u001b[0;32m      5\u001b[0m df_rfm[\u001b[38;5;124m'\u001b[39m\u001b[38;5;124mrecency_days\u001b[39m\u001b[38;5;124m'\u001b[39m] \u001b[38;5;241m=\u001b[39m ss\u001b[38;5;241m.\u001b[39mfit_transform( df_rfm[[\u001b[38;5;124m'\u001b[39m\u001b[38;5;124mrecency_days\u001b[39m\u001b[38;5;124m'\u001b[39m]] )\n\u001b[1;32m----> 6\u001b[0m df_rfm[\u001b[38;5;124m'\u001b[39m\u001b[38;5;124minvoice_no\u001b[39m\u001b[38;5;124m'\u001b[39m] \u001b[38;5;241m=\u001b[39m ss\u001b[38;5;241m.\u001b[39mfit_transform( \u001b[43mdf_rfm\u001b[49m\u001b[43m[\u001b[49m\u001b[43m[\u001b[49m\u001b[38;5;124;43m'\u001b[39;49m\u001b[38;5;124;43minvoice_no\u001b[39;49m\u001b[38;5;124;43m'\u001b[39;49m\u001b[43m]\u001b[49m\u001b[43m]\u001b[49m )\n\u001b[0;32m      7\u001b[0m df_rfm[\u001b[38;5;124m'\u001b[39m\u001b[38;5;124mavg_ticket\u001b[39m\u001b[38;5;124m'\u001b[39m] \u001b[38;5;241m=\u001b[39m ss\u001b[38;5;241m.\u001b[39mfit_transform( df_rfm[[\u001b[38;5;124m'\u001b[39m\u001b[38;5;124mavg_ticket\u001b[39m\u001b[38;5;124m'\u001b[39m]] )\n\u001b[0;32m      8\u001b[0m df_rfm[\u001b[38;5;124m'\u001b[39m\u001b[38;5;124mreturns\u001b[39m\u001b[38;5;124m'\u001b[39m] \u001b[38;5;241m=\u001b[39m ss\u001b[38;5;241m.\u001b[39mfit_transform( df_rfm[[\u001b[38;5;124m'\u001b[39m\u001b[38;5;124mreturns\u001b[39m\u001b[38;5;124m'\u001b[39m]] )\n",
      "File \u001b[1;32m~\\anaconda3\\envs\\env_portfolio\\lib\\site-packages\\pandas\\core\\frame.py:3511\u001b[0m, in \u001b[0;36mDataFrame.__getitem__\u001b[1;34m(self, key)\u001b[0m\n\u001b[0;32m   3509\u001b[0m     \u001b[38;5;28;01mif\u001b[39;00m is_iterator(key):\n\u001b[0;32m   3510\u001b[0m         key \u001b[38;5;241m=\u001b[39m \u001b[38;5;28mlist\u001b[39m(key)\n\u001b[1;32m-> 3511\u001b[0m     indexer \u001b[38;5;241m=\u001b[39m \u001b[38;5;28;43mself\u001b[39;49m\u001b[38;5;241;43m.\u001b[39;49m\u001b[43mcolumns\u001b[49m\u001b[38;5;241;43m.\u001b[39;49m\u001b[43m_get_indexer_strict\u001b[49m\u001b[43m(\u001b[49m\u001b[43mkey\u001b[49m\u001b[43m,\u001b[49m\u001b[43m \u001b[49m\u001b[38;5;124;43m\"\u001b[39;49m\u001b[38;5;124;43mcolumns\u001b[39;49m\u001b[38;5;124;43m\"\u001b[39;49m\u001b[43m)\u001b[49m[\u001b[38;5;241m1\u001b[39m]\n\u001b[0;32m   3513\u001b[0m \u001b[38;5;66;03m# take() does not accept boolean indexers\u001b[39;00m\n\u001b[0;32m   3514\u001b[0m \u001b[38;5;28;01mif\u001b[39;00m \u001b[38;5;28mgetattr\u001b[39m(indexer, \u001b[38;5;124m\"\u001b[39m\u001b[38;5;124mdtype\u001b[39m\u001b[38;5;124m\"\u001b[39m, \u001b[38;5;28;01mNone\u001b[39;00m) \u001b[38;5;241m==\u001b[39m \u001b[38;5;28mbool\u001b[39m:\n",
      "File \u001b[1;32m~\\anaconda3\\envs\\env_portfolio\\lib\\site-packages\\pandas\\core\\indexes\\base.py:5782\u001b[0m, in \u001b[0;36mIndex._get_indexer_strict\u001b[1;34m(self, key, axis_name)\u001b[0m\n\u001b[0;32m   5779\u001b[0m \u001b[38;5;28;01melse\u001b[39;00m:\n\u001b[0;32m   5780\u001b[0m     keyarr, indexer, new_indexer \u001b[38;5;241m=\u001b[39m \u001b[38;5;28mself\u001b[39m\u001b[38;5;241m.\u001b[39m_reindex_non_unique(keyarr)\n\u001b[1;32m-> 5782\u001b[0m \u001b[38;5;28;43mself\u001b[39;49m\u001b[38;5;241;43m.\u001b[39;49m\u001b[43m_raise_if_missing\u001b[49m\u001b[43m(\u001b[49m\u001b[43mkeyarr\u001b[49m\u001b[43m,\u001b[49m\u001b[43m \u001b[49m\u001b[43mindexer\u001b[49m\u001b[43m,\u001b[49m\u001b[43m \u001b[49m\u001b[43maxis_name\u001b[49m\u001b[43m)\u001b[49m\n\u001b[0;32m   5784\u001b[0m keyarr \u001b[38;5;241m=\u001b[39m \u001b[38;5;28mself\u001b[39m\u001b[38;5;241m.\u001b[39mtake(indexer)\n\u001b[0;32m   5785\u001b[0m \u001b[38;5;28;01mif\u001b[39;00m \u001b[38;5;28misinstance\u001b[39m(key, Index):\n\u001b[0;32m   5786\u001b[0m     \u001b[38;5;66;03m# GH 42790 - Preserve name from an Index\u001b[39;00m\n",
      "File \u001b[1;32m~\\anaconda3\\envs\\env_portfolio\\lib\\site-packages\\pandas\\core\\indexes\\base.py:5842\u001b[0m, in \u001b[0;36mIndex._raise_if_missing\u001b[1;34m(self, key, indexer, axis_name)\u001b[0m\n\u001b[0;32m   5840\u001b[0m     \u001b[38;5;28;01mif\u001b[39;00m use_interval_msg:\n\u001b[0;32m   5841\u001b[0m         key \u001b[38;5;241m=\u001b[39m \u001b[38;5;28mlist\u001b[39m(key)\n\u001b[1;32m-> 5842\u001b[0m     \u001b[38;5;28;01mraise\u001b[39;00m \u001b[38;5;167;01mKeyError\u001b[39;00m(\u001b[38;5;124mf\u001b[39m\u001b[38;5;124m\"\u001b[39m\u001b[38;5;124mNone of [\u001b[39m\u001b[38;5;132;01m{\u001b[39;00mkey\u001b[38;5;132;01m}\u001b[39;00m\u001b[38;5;124m] are in the [\u001b[39m\u001b[38;5;132;01m{\u001b[39;00maxis_name\u001b[38;5;132;01m}\u001b[39;00m\u001b[38;5;124m]\u001b[39m\u001b[38;5;124m\"\u001b[39m)\n\u001b[0;32m   5844\u001b[0m not_found \u001b[38;5;241m=\u001b[39m \u001b[38;5;28mlist\u001b[39m(ensure_index(key)[missing_mask\u001b[38;5;241m.\u001b[39mnonzero()[\u001b[38;5;241m0\u001b[39m]]\u001b[38;5;241m.\u001b[39munique())\n\u001b[0;32m   5845\u001b[0m \u001b[38;5;28;01mraise\u001b[39;00m \u001b[38;5;167;01mKeyError\u001b[39;00m(\u001b[38;5;124mf\u001b[39m\u001b[38;5;124m\"\u001b[39m\u001b[38;5;132;01m{\u001b[39;00mnot_found\u001b[38;5;132;01m}\u001b[39;00m\u001b[38;5;124m not in index\u001b[39m\u001b[38;5;124m\"\u001b[39m)\n",
      "\u001b[1;31mKeyError\u001b[0m: \"None of [Index(['invoice_no'], dtype='object')] are in the [columns]\""
     ]
    }
   ],
   "source": [
    "## Standard Scalaer\n",
    "ss = pp.StandardScaler()\n",
    "\n",
    "df_rfm['gross_revenue'] = ss.fit_transform( df_rfm[['gross_revenue']] )\n",
    "df_rfm['recency_days'] = ss.fit_transform( df_rfm[['recency_days']] )\n",
    "df_rfm['invoice_no'] = ss.fit_transform( df_rfm[['invoice_no']] )\n",
    "df_rfm['avg_ticket'] = ss.fit_transform( df_rfm[['avg_ticket']] )\n",
    "df_rfm['returns'] = ss.fit_transform( df_rfm[['returns']] )"
   ]
  },
  {
   "cell_type": "code",
   "execution_count": null,
   "id": "d98c42ef",
   "metadata": {
    "ExecuteTime": {
     "end_time": "2022-05-17T20:33:57.434561Z",
     "start_time": "2022-05-17T20:33:57.434561Z"
    }
   },
   "outputs": [],
   "source": [
    "df_rfm.head()"
   ]
  },
  {
   "cell_type": "markdown",
   "id": "7923c39f",
   "metadata": {},
   "source": [
    "## 7.3 Rescaling"
   ]
  },
  {
   "cell_type": "markdown",
   "id": "9b194dbf",
   "metadata": {},
   "source": [
    "## 7.4 Transformation"
   ]
  },
  {
   "cell_type": "markdown",
   "id": "96b081b3",
   "metadata": {},
   "source": [
    "### 7.4.1 Encoding"
   ]
  },
  {
   "cell_type": "markdown",
   "id": "c3a14179",
   "metadata": {},
   "source": [
    "# 8 FEATURE SELECTION"
   ]
  },
  {
   "cell_type": "markdown",
   "id": "e77cf1a2",
   "metadata": {},
   "source": [
    "## 8.1 Split dataframe into training and validation dataset"
   ]
  },
  {
   "cell_type": "markdown",
   "id": "06f08754",
   "metadata": {},
   "source": [
    "## 8.3 Selected Features"
   ]
  },
  {
   "cell_type": "markdown",
   "id": "15575408",
   "metadata": {},
   "source": [
    "# 9 MACHINE LEARNING MODELLING"
   ]
  },
  {
   "cell_type": "code",
   "execution_count": null,
   "id": "45e412cb",
   "metadata": {
    "ExecuteTime": {
     "end_time": "2022-05-17T20:33:57.436562Z",
     "start_time": "2022-05-17T20:33:57.436562Z"
    }
   },
   "outputs": [],
   "source": [
    "clusters = [2, 3, 4, 5, 6, 7]\n",
    "X = df_rfm.drop( columns=['customer_id'] )"
   ]
  },
  {
   "cell_type": "code",
   "execution_count": null,
   "id": "490b1b3e",
   "metadata": {
    "ExecuteTime": {
     "end_time": "2022-05-17T20:33:57.437561Z",
     "start_time": "2022-05-17T20:33:57.437561Z"
    }
   },
   "outputs": [],
   "source": [
    "kmeans = KElbowVisualizer( c.KMeans(), k=clusters, timings=False )\n",
    "kmeans.fit( X )\n",
    "kmeans.show()"
   ]
  },
  {
   "cell_type": "code",
   "execution_count": null,
   "id": "34fba7a2",
   "metadata": {
    "ExecuteTime": {
     "end_time": "2022-05-17T20:33:57.439562Z",
     "start_time": "2022-05-17T20:33:57.439562Z"
    }
   },
   "outputs": [],
   "source": [
    "kmeans = KElbowVisualizer( c.KMeans(), k=clusters, metric='silhouette', timings=False )\n",
    "kmeans.fit( X )\n",
    "kmeans.show()"
   ]
  },
  {
   "cell_type": "code",
   "execution_count": null,
   "id": "bf3c0d84",
   "metadata": {
    "ExecuteTime": {
     "end_time": "2022-05-17T20:33:57.440563Z",
     "start_time": "2022-05-17T20:33:57.440563Z"
    }
   },
   "outputs": [],
   "source": [
    "fig, ax = plt.subplots( 3, 2, figsize=(28, 20) )\n",
    "\n",
    "for k in clusters:\n",
    "    km = c.KMeans( n_clusters=k, init='random', n_init=10, max_iter=100, random_state=42 )\n",
    "    q, mod = divmod( k, 2 )\n",
    "    \n",
    "    visualizer = SilhouetteVisualizer( km, colors='yellowbrick', ax=ax[q-1][mod] )\n",
    "    visualizer.fit( X )\n",
    "    visualizer.finalize()"
   ]
  },
  {
   "cell_type": "markdown",
   "id": "0154b66b",
   "metadata": {},
   "source": [
    "## KMEANS 3 Clusters"
   ]
  },
  {
   "cell_type": "code",
   "execution_count": null,
   "id": "9fb77da6",
   "metadata": {
    "ExecuteTime": {
     "end_time": "2022-05-17T20:33:57.442562Z",
     "start_time": "2022-05-17T20:33:57.442562Z"
    }
   },
   "outputs": [],
   "source": [
    "kmeans = c.KMeans(init='random', n_clusters=3, n_init=10, max_iter=300, random_state=42) \n",
    "kmeans.fit(X)\n",
    "labels = kmeans.labels_"
   ]
  },
  {
   "cell_type": "code",
   "execution_count": null,
   "id": "b61f59ef",
   "metadata": {
    "ExecuteTime": {
     "end_time": "2022-05-17T20:33:57.443562Z",
     "start_time": "2022-05-17T20:33:57.443562Z"
    }
   },
   "outputs": [],
   "source": [
    "## WSS ( Within-cluster sum of square)\n",
    "print( 'WSS value: {}'.format( kmeans.inertia_ ) )\n",
    "\n",
    "## SS ( Silhouette Score )\n",
    "print( 'SS value: {}'.format( m.silhouette_score( X, labels, metric='euclidean' ) ) )"
   ]
  },
  {
   "cell_type": "code",
   "execution_count": null,
   "id": "4f5b3476",
   "metadata": {
    "ExecuteTime": {
     "end_time": "2022-05-17T20:33:57.445564Z",
     "start_time": "2022-05-17T20:33:57.445564Z"
    }
   },
   "outputs": [],
   "source": [
    "df_rfm['cluster'] = labels\n",
    "df_rfm.head()"
   ]
  },
  {
   "cell_type": "markdown",
   "id": "e96c217b",
   "metadata": {},
   "source": [
    "### 9.1.1 Silhouette Visualization"
   ]
  },
  {
   "cell_type": "code",
   "execution_count": null,
   "id": "cf3d69a0",
   "metadata": {
    "ExecuteTime": {
     "end_time": "2022-05-17T20:33:57.446564Z",
     "start_time": "2022-05-17T20:33:57.446564Z"
    }
   },
   "outputs": [],
   "source": [
    "df_viz = df_rfm.drop(columns='customer_id')"
   ]
  },
  {
   "cell_type": "code",
   "execution_count": null,
   "id": "d4551ad1",
   "metadata": {
    "ExecuteTime": {
     "end_time": "2022-05-17T20:33:57.447563Z",
     "start_time": "2022-05-17T20:33:57.447563Z"
    }
   },
   "outputs": [],
   "source": [
    "visualizer = SilhouetteVisualizer(kmeans, colors='yellowbrick')\n",
    "visualizer.fit(X)\n",
    "visualizer.finalize()"
   ]
  },
  {
   "cell_type": "markdown",
   "id": "2f7e74be",
   "metadata": {},
   "source": [
    "### 9.1.1 Pairplot Visualization"
   ]
  },
  {
   "cell_type": "code",
   "execution_count": null,
   "id": "1e94f5f3",
   "metadata": {
    "ExecuteTime": {
     "end_time": "2022-05-17T20:33:57.448564Z",
     "start_time": "2022-05-17T20:33:57.448564Z"
    },
    "scrolled": false
   },
   "outputs": [],
   "source": [
    "sns.pairplot(df_viz, hue='cluster')"
   ]
  },
  {
   "cell_type": "markdown",
   "id": "a333ac23",
   "metadata": {},
   "source": [
    "### 9.1.1 UMAP "
   ]
  },
  {
   "cell_type": "code",
   "execution_count": null,
   "id": "fb04f8cd",
   "metadata": {
    "ExecuteTime": {
     "end_time": "2022-05-17T20:33:57.450564Z",
     "start_time": "2022-05-17T20:33:57.450564Z"
    }
   },
   "outputs": [],
   "source": [
    "reducer = umap.UMAP( n_neighbors=50, random_state=42 )\n",
    "embedding = reducer.fit_transform( X )\n",
    "\n",
    "# embedding\n",
    "df_viz['embedding_x'] = embedding[:, 0]\n",
    "df_viz['embedding_y'] = embedding[:, 1]\n",
    "\n",
    "# plot UMAP\n",
    "sns.scatterplot( x='embedding_x', y='embedding_y', \n",
    "                 hue='cluster', \n",
    "                 palette=sns.color_palette( 'hls', n_colors=len( df_viz['cluster'].unique() ) ),\n",
    "                 data=df_viz )"
   ]
  },
  {
   "cell_type": "markdown",
   "id": "905415ec",
   "metadata": {},
   "source": [
    "### 9.1.2 Clusters Info"
   ]
  },
  {
   "cell_type": "code",
   "execution_count": null,
   "id": "5168028b",
   "metadata": {
    "ExecuteTime": {
     "end_time": "2022-05-17T20:33:57.451564Z",
     "start_time": "2022-05-17T20:33:57.451564Z"
    }
   },
   "outputs": [],
   "source": [
    "# Number of customer\n",
    "df_cluster = df_rfm[['customer_id', 'cluster']].groupby( 'cluster' ).count().reset_index()\n",
    "df_cluster['perc_customer'] = 100*( df_cluster['customer_id'] / df_cluster['customer_id'].sum() )\n",
    "\n",
    "# Avg Gross revenue\n",
    "df_avg_gross_revenue = df_rfm[['gross_revenue', 'cluster']].groupby( 'cluster' ).mean().reset_index()\n",
    "df_cluster = pd.merge( df_cluster, df_avg_gross_revenue, how='inner', on='cluster' )\n",
    "\n",
    "# Avg recency days\n",
    "df_avg_recency_days = df_rfm[['recency_days', 'cluster']].groupby( 'cluster' ).mean().reset_index()\n",
    "df_cluster = pd.merge( df_cluster, df_avg_recency_days, how='inner', on='cluster' )\n",
    "\n",
    "# Avg invoice_no\n",
    "df_invoice_no = df_rfm[['invoice_no', 'cluster']].groupby( 'cluster' ).mean().reset_index()\n",
    "df_cluster = pd.merge( df_cluster, df_invoice_no, how='inner', on='cluster' )\n",
    "\n",
    "# # Avg Ticket\n",
    "# df_ticket = df_rfm[['avg_ticket', 'cluster']].groupby( 'cluster' ).mean().reset_index()\n",
    "# df_cluster = pd.merge( df_cluster, df_ticket, how='inner', on='cluster' )\n",
    "\n",
    "df_cluster"
   ]
  },
  {
   "cell_type": "markdown",
   "id": "c85a927e",
   "metadata": {},
   "source": [
    "# 10 CROSS-VALIDATION"
   ]
  },
  {
   "cell_type": "markdown",
   "id": "fbdc1432",
   "metadata": {},
   "source": [
    "# 11 HYPERPARAMETER FINE TUNNING"
   ]
  },
  {
   "cell_type": "markdown",
   "id": "b4b8ab38",
   "metadata": {},
   "source": [
    "## 11.1 Random Search"
   ]
  },
  {
   "cell_type": "markdown",
   "id": "8e2cdfbb",
   "metadata": {},
   "source": [
    "## 11.2 Final Model"
   ]
  },
  {
   "cell_type": "markdown",
   "id": "5be8b1e2",
   "metadata": {},
   "source": [
    "# 12 BUSINESS PERFORMANCE"
   ]
  },
  {
   "cell_type": "markdown",
   "id": "7c2785f1",
   "metadata": {},
   "source": [
    "Cluster 01: \n",
    "- Number of customers: 6 (0.14% of customers )\n",
    "- Average Recency: 7 days\n",
    "- Average invoice_no: 89 \n",
    "- Average Gross Revenue: U\\$182,182.00\n",
    "\n",
    "Cluster 02:\n",
    "- Number of customers: 28 (0.64% of customers )\n",
    "- Average Recency: 6 days\n",
    "- Average invoice_no: 58 \n",
    "- Average Gross Revenue: U\\$42,614.38 \n",
    "\n",
    "Cluster 03:\n",
    "- NNumber of customers: 4.071 (93% of customers )\n",
    "- Average Recency: 97 days\n",
    "- Average invoice_no: 3.6 \n",
    "- Average Gross Revenue: U\\$946.69 \n",
    "\n",
    "Cluster 04:\n",
    "- NNumber of customers: 267 (6.1% of customers )\n",
    "- Average Recency: 20.3 days\n",
    "- Average invoice_no: 19.5 \n",
    "- Average Gross Revenue: U\\$8,092.02 "
   ]
  },
  {
   "cell_type": "markdown",
   "id": "17c90988",
   "metadata": {},
   "source": [
    "## 12.1 Scenario: Cost to Reach 87% of Interested Customers"
   ]
  },
  {
   "cell_type": "markdown",
   "id": "99016b2e",
   "metadata": {},
   "source": [
    "## 12.2 Scenario: Making only 20,000 calls"
   ]
  },
  {
   "cell_type": "markdown",
   "id": "232c7d96",
   "metadata": {},
   "source": [
    "# 13 NEXT STEPS"
   ]
  }
 ],
 "metadata": {
  "kernelspec": {
   "display_name": "Python 3 (ipykernel)",
   "language": "python",
   "name": "python3"
  },
  "language_info": {
   "codemirror_mode": {
    "name": "ipython",
    "version": 3
   },
   "file_extension": ".py",
   "mimetype": "text/x-python",
   "name": "python",
   "nbconvert_exporter": "python",
   "pygments_lexer": "ipython3",
   "version": "3.8.11"
  },
  "toc": {
   "base_numbering": 1,
   "nav_menu": {},
   "number_sections": true,
   "sideBar": true,
   "skip_h1_title": false,
   "title_cell": "Table of Contents",
   "title_sidebar": "Contents",
   "toc_cell": false,
   "toc_position": {
    "height": "calc(100% - 180px)",
    "left": "10px",
    "top": "150px",
    "width": "306px"
   },
   "toc_section_display": true,
   "toc_window_display": false
  },
  "varInspector": {
   "cols": {
    "lenName": 16,
    "lenType": 16,
    "lenVar": 40
   },
   "kernels_config": {
    "python": {
     "delete_cmd_postfix": "",
     "delete_cmd_prefix": "del ",
     "library": "var_list.py",
     "varRefreshCmd": "print(var_dic_list())"
    },
    "r": {
     "delete_cmd_postfix": ") ",
     "delete_cmd_prefix": "rm(",
     "library": "var_list.r",
     "varRefreshCmd": "cat(var_dic_list()) "
    }
   },
   "position": {
    "height": "298.844px",
    "left": "1384px",
    "right": "20px",
    "top": "121px",
    "width": "504px"
   },
   "types_to_exclude": [
    "module",
    "function",
    "builtin_function_or_method",
    "instance",
    "_Feature"
   ],
   "window_display": false
  }
 },
 "nbformat": 4,
 "nbformat_minor": 5
}
